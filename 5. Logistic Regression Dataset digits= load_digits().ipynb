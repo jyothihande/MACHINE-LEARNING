{
 "cells": [
  {
   "cell_type": "raw",
   "id": "08c55f66",
   "metadata": {},
   "source": [
    "what is purpose of all this?"
   ]
  },
  {
   "cell_type": "code",
   "execution_count": 1,
   "id": "9cec7ffa",
   "metadata": {},
   "outputs": [],
   "source": [
    "import pandas as pd\n",
    "import numpy as np\n",
    "import matplotlib.pyplot as plt\n",
    "from sklearn.linear_model import LogisticRegression\n",
    "from sklearn.metrics import confusion_matrix"
   ]
  },
  {
   "cell_type": "code",
   "execution_count": 2,
   "id": "f8fb5bf5",
   "metadata": {},
   "outputs": [],
   "source": [
    "from sklearn.datasets import load_digits"
   ]
  },
  {
   "cell_type": "code",
   "execution_count": 3,
   "id": "6bdc1b2e",
   "metadata": {},
   "outputs": [],
   "source": [
    "digits= load_digits()"
   ]
  },
  {
   "cell_type": "code",
   "execution_count": 4,
   "id": "6921b6f8",
   "metadata": {},
   "outputs": [
    {
     "data": {
      "text/plain": [
       "{'data': array([[ 0.,  0.,  5., ...,  0.,  0.,  0.],\n",
       "        [ 0.,  0.,  0., ..., 10.,  0.,  0.],\n",
       "        [ 0.,  0.,  0., ..., 16.,  9.,  0.],\n",
       "        ...,\n",
       "        [ 0.,  0.,  1., ...,  6.,  0.,  0.],\n",
       "        [ 0.,  0.,  2., ..., 12.,  0.,  0.],\n",
       "        [ 0.,  0., 10., ..., 12.,  1.,  0.]]),\n",
       " 'target': array([0, 1, 2, ..., 8, 9, 8]),\n",
       " 'frame': None,\n",
       " 'feature_names': ['pixel_0_0',\n",
       "  'pixel_0_1',\n",
       "  'pixel_0_2',\n",
       "  'pixel_0_3',\n",
       "  'pixel_0_4',\n",
       "  'pixel_0_5',\n",
       "  'pixel_0_6',\n",
       "  'pixel_0_7',\n",
       "  'pixel_1_0',\n",
       "  'pixel_1_1',\n",
       "  'pixel_1_2',\n",
       "  'pixel_1_3',\n",
       "  'pixel_1_4',\n",
       "  'pixel_1_5',\n",
       "  'pixel_1_6',\n",
       "  'pixel_1_7',\n",
       "  'pixel_2_0',\n",
       "  'pixel_2_1',\n",
       "  'pixel_2_2',\n",
       "  'pixel_2_3',\n",
       "  'pixel_2_4',\n",
       "  'pixel_2_5',\n",
       "  'pixel_2_6',\n",
       "  'pixel_2_7',\n",
       "  'pixel_3_0',\n",
       "  'pixel_3_1',\n",
       "  'pixel_3_2',\n",
       "  'pixel_3_3',\n",
       "  'pixel_3_4',\n",
       "  'pixel_3_5',\n",
       "  'pixel_3_6',\n",
       "  'pixel_3_7',\n",
       "  'pixel_4_0',\n",
       "  'pixel_4_1',\n",
       "  'pixel_4_2',\n",
       "  'pixel_4_3',\n",
       "  'pixel_4_4',\n",
       "  'pixel_4_5',\n",
       "  'pixel_4_6',\n",
       "  'pixel_4_7',\n",
       "  'pixel_5_0',\n",
       "  'pixel_5_1',\n",
       "  'pixel_5_2',\n",
       "  'pixel_5_3',\n",
       "  'pixel_5_4',\n",
       "  'pixel_5_5',\n",
       "  'pixel_5_6',\n",
       "  'pixel_5_7',\n",
       "  'pixel_6_0',\n",
       "  'pixel_6_1',\n",
       "  'pixel_6_2',\n",
       "  'pixel_6_3',\n",
       "  'pixel_6_4',\n",
       "  'pixel_6_5',\n",
       "  'pixel_6_6',\n",
       "  'pixel_6_7',\n",
       "  'pixel_7_0',\n",
       "  'pixel_7_1',\n",
       "  'pixel_7_2',\n",
       "  'pixel_7_3',\n",
       "  'pixel_7_4',\n",
       "  'pixel_7_5',\n",
       "  'pixel_7_6',\n",
       "  'pixel_7_7'],\n",
       " 'target_names': array([0, 1, 2, 3, 4, 5, 6, 7, 8, 9]),\n",
       " 'images': array([[[ 0.,  0.,  5., ...,  1.,  0.,  0.],\n",
       "         [ 0.,  0., 13., ..., 15.,  5.,  0.],\n",
       "         [ 0.,  3., 15., ..., 11.,  8.,  0.],\n",
       "         ...,\n",
       "         [ 0.,  4., 11., ..., 12.,  7.,  0.],\n",
       "         [ 0.,  2., 14., ..., 12.,  0.,  0.],\n",
       "         [ 0.,  0.,  6., ...,  0.,  0.,  0.]],\n",
       " \n",
       "        [[ 0.,  0.,  0., ...,  5.,  0.,  0.],\n",
       "         [ 0.,  0.,  0., ...,  9.,  0.,  0.],\n",
       "         [ 0.,  0.,  3., ...,  6.,  0.,  0.],\n",
       "         ...,\n",
       "         [ 0.,  0.,  1., ...,  6.,  0.,  0.],\n",
       "         [ 0.,  0.,  1., ...,  6.,  0.,  0.],\n",
       "         [ 0.,  0.,  0., ..., 10.,  0.,  0.]],\n",
       " \n",
       "        [[ 0.,  0.,  0., ..., 12.,  0.,  0.],\n",
       "         [ 0.,  0.,  3., ..., 14.,  0.,  0.],\n",
       "         [ 0.,  0.,  8., ..., 16.,  0.,  0.],\n",
       "         ...,\n",
       "         [ 0.,  9., 16., ...,  0.,  0.,  0.],\n",
       "         [ 0.,  3., 13., ..., 11.,  5.,  0.],\n",
       "         [ 0.,  0.,  0., ..., 16.,  9.,  0.]],\n",
       " \n",
       "        ...,\n",
       " \n",
       "        [[ 0.,  0.,  1., ...,  1.,  0.,  0.],\n",
       "         [ 0.,  0., 13., ...,  2.,  1.,  0.],\n",
       "         [ 0.,  0., 16., ..., 16.,  5.,  0.],\n",
       "         ...,\n",
       "         [ 0.,  0., 16., ..., 15.,  0.,  0.],\n",
       "         [ 0.,  0., 15., ..., 16.,  0.,  0.],\n",
       "         [ 0.,  0.,  2., ...,  6.,  0.,  0.]],\n",
       " \n",
       "        [[ 0.,  0.,  2., ...,  0.,  0.,  0.],\n",
       "         [ 0.,  0., 14., ..., 15.,  1.,  0.],\n",
       "         [ 0.,  4., 16., ..., 16.,  7.,  0.],\n",
       "         ...,\n",
       "         [ 0.,  0.,  0., ..., 16.,  2.,  0.],\n",
       "         [ 0.,  0.,  4., ..., 16.,  2.,  0.],\n",
       "         [ 0.,  0.,  5., ..., 12.,  0.,  0.]],\n",
       " \n",
       "        [[ 0.,  0., 10., ...,  1.,  0.,  0.],\n",
       "         [ 0.,  2., 16., ...,  1.,  0.,  0.],\n",
       "         [ 0.,  0., 15., ..., 15.,  0.,  0.],\n",
       "         ...,\n",
       "         [ 0.,  4., 16., ..., 16.,  6.,  0.],\n",
       "         [ 0.,  8., 16., ..., 16.,  8.,  0.],\n",
       "         [ 0.,  1.,  8., ..., 12.,  1.,  0.]]]),\n",
       " 'DESCR': \".. _digits_dataset:\\n\\nOptical recognition of handwritten digits dataset\\n--------------------------------------------------\\n\\n**Data Set Characteristics:**\\n\\n    :Number of Instances: 1797\\n    :Number of Attributes: 64\\n    :Attribute Information: 8x8 image of integer pixels in the range 0..16.\\n    :Missing Attribute Values: None\\n    :Creator: E. Alpaydin (alpaydin '@' boun.edu.tr)\\n    :Date: July; 1998\\n\\nThis is a copy of the test set of the UCI ML hand-written digits datasets\\nhttps://archive.ics.uci.edu/ml/datasets/Optical+Recognition+of+Handwritten+Digits\\n\\nThe data set contains images of hand-written digits: 10 classes where\\neach class refers to a digit.\\n\\nPreprocessing programs made available by NIST were used to extract\\nnormalized bitmaps of handwritten digits from a preprinted form. From a\\ntotal of 43 people, 30 contributed to the training set and different 13\\nto the test set. 32x32 bitmaps are divided into nonoverlapping blocks of\\n4x4 and the number of on pixels are counted in each block. This generates\\nan input matrix of 8x8 where each element is an integer in the range\\n0..16. This reduces dimensionality and gives invariance to small\\ndistortions.\\n\\nFor info on NIST preprocessing routines, see M. D. Garris, J. L. Blue, G.\\nT. Candela, D. L. Dimmick, J. Geist, P. J. Grother, S. A. Janet, and C.\\nL. Wilson, NIST Form-Based Handprint Recognition System, NISTIR 5469,\\n1994.\\n\\n.. topic:: References\\n\\n  - C. Kaynak (1995) Methods of Combining Multiple Classifiers and Their\\n    Applications to Handwritten Digit Recognition, MSc Thesis, Institute of\\n    Graduate Studies in Science and Engineering, Bogazici University.\\n  - E. Alpaydin, C. Kaynak (1998) Cascading Classifiers, Kybernetika.\\n  - Ken Tang and Ponnuthurai N. Suganthan and Xi Yao and A. Kai Qin.\\n    Linear dimensionalityreduction using relevance weighted LDA. School of\\n    Electrical and Electronic Engineering Nanyang Technological University.\\n    2005.\\n  - Claudio Gentile. A New Approximate Maximal Margin Classification\\n    Algorithm. NIPS. 2000.\\n\"}"
      ]
     },
     "execution_count": 4,
     "metadata": {},
     "output_type": "execute_result"
    }
   ],
   "source": [
    "digits # data is in dictionary format check output"
   ]
  },
  {
   "cell_type": "code",
   "execution_count": 5,
   "id": "8affb7a2",
   "metadata": {},
   "outputs": [
    {
     "data": {
      "text/plain": [
       "['DESCR', 'data', 'feature_names', 'frame', 'images', 'target', 'target_names']"
      ]
     },
     "execution_count": 5,
     "metadata": {},
     "output_type": "execute_result"
    }
   ],
   "source": [
    "dir(digits) # describtion of data set given"
   ]
  },
  {
   "cell_type": "code",
   "execution_count": 6,
   "id": "931f41f7",
   "metadata": {
    "scrolled": true
   },
   "outputs": [
    {
     "data": {
      "text/plain": [
       "array([[ 0.,  0.,  5., ...,  0.,  0.,  0.],\n",
       "       [ 0.,  0.,  0., ..., 10.,  0.,  0.],\n",
       "       [ 0.,  0.,  0., ..., 16.,  9.,  0.],\n",
       "       ...,\n",
       "       [ 0.,  0.,  1., ...,  6.,  0.,  0.],\n",
       "       [ 0.,  0.,  2., ..., 12.,  0.,  0.],\n",
       "       [ 0.,  0., 10., ..., 12.,  1.,  0.]])"
      ]
     },
     "execution_count": 6,
     "metadata": {},
     "output_type": "execute_result"
    }
   ],
   "source": [
    "digits.data"
   ]
  },
  {
   "cell_type": "code",
   "execution_count": 7,
   "id": "c045e6bb",
   "metadata": {},
   "outputs": [
    {
     "data": {
      "text/plain": [
       "array([ 0.,  0.,  5., 13.,  9.,  1.,  0.,  0.,  0.,  0., 13., 15., 10.,\n",
       "       15.,  5.,  0.,  0.,  3., 15.,  2.,  0., 11.,  8.,  0.,  0.,  4.,\n",
       "       12.,  0.,  0.,  8.,  8.,  0.,  0.,  5.,  8.,  0.,  0.,  9.,  8.,\n",
       "        0.,  0.,  4., 11.,  0.,  1., 12.,  7.,  0.,  0.,  2., 14.,  5.,\n",
       "       10., 12.,  0.,  0.,  0.,  0.,  6., 13., 10.,  0.,  0.,  0.])"
      ]
     },
     "execution_count": 7,
     "metadata": {},
     "output_type": "execute_result"
    }
   ],
   "source": [
    "digits.data[0]"
   ]
  },
  {
   "cell_type": "code",
   "execution_count": 8,
   "id": "5e133b7d",
   "metadata": {},
   "outputs": [
    {
     "data": {
      "text/plain": [
       "array([0, 1, 2, ..., 8, 9, 8])"
      ]
     },
     "execution_count": 8,
     "metadata": {},
     "output_type": "execute_result"
    }
   ],
   "source": [
    "digits.target"
   ]
  },
  {
   "cell_type": "code",
   "execution_count": null,
   "id": "1a65676b",
   "metadata": {},
   "outputs": [],
   "source": [
    "-- create a data frame using pandas"
   ]
  },
  {
   "cell_type": "code",
   "execution_count": 9,
   "id": "538402df",
   "metadata": {},
   "outputs": [],
   "source": [
    "df=pd.DataFrame(digits.data,columns=digits.feature_names )"
   ]
  },
  {
   "cell_type": "code",
   "execution_count": 10,
   "id": "2ef33cb8",
   "metadata": {},
   "outputs": [
    {
     "data": {
      "text/html": [
       "<div>\n",
       "<style scoped>\n",
       "    .dataframe tbody tr th:only-of-type {\n",
       "        vertical-align: middle;\n",
       "    }\n",
       "\n",
       "    .dataframe tbody tr th {\n",
       "        vertical-align: top;\n",
       "    }\n",
       "\n",
       "    .dataframe thead th {\n",
       "        text-align: right;\n",
       "    }\n",
       "</style>\n",
       "<table border=\"1\" class=\"dataframe\">\n",
       "  <thead>\n",
       "    <tr style=\"text-align: right;\">\n",
       "      <th></th>\n",
       "      <th>pixel_0_0</th>\n",
       "      <th>pixel_0_1</th>\n",
       "      <th>pixel_0_2</th>\n",
       "      <th>pixel_0_3</th>\n",
       "      <th>pixel_0_4</th>\n",
       "      <th>pixel_0_5</th>\n",
       "      <th>pixel_0_6</th>\n",
       "      <th>pixel_0_7</th>\n",
       "      <th>pixel_1_0</th>\n",
       "      <th>pixel_1_1</th>\n",
       "      <th>...</th>\n",
       "      <th>pixel_6_6</th>\n",
       "      <th>pixel_6_7</th>\n",
       "      <th>pixel_7_0</th>\n",
       "      <th>pixel_7_1</th>\n",
       "      <th>pixel_7_2</th>\n",
       "      <th>pixel_7_3</th>\n",
       "      <th>pixel_7_4</th>\n",
       "      <th>pixel_7_5</th>\n",
       "      <th>pixel_7_6</th>\n",
       "      <th>pixel_7_7</th>\n",
       "    </tr>\n",
       "  </thead>\n",
       "  <tbody>\n",
       "    <tr>\n",
       "      <th>0</th>\n",
       "      <td>0.0</td>\n",
       "      <td>0.0</td>\n",
       "      <td>5.0</td>\n",
       "      <td>13.0</td>\n",
       "      <td>9.0</td>\n",
       "      <td>1.0</td>\n",
       "      <td>0.0</td>\n",
       "      <td>0.0</td>\n",
       "      <td>0.0</td>\n",
       "      <td>0.0</td>\n",
       "      <td>...</td>\n",
       "      <td>0.0</td>\n",
       "      <td>0.0</td>\n",
       "      <td>0.0</td>\n",
       "      <td>0.0</td>\n",
       "      <td>6.0</td>\n",
       "      <td>13.0</td>\n",
       "      <td>10.0</td>\n",
       "      <td>0.0</td>\n",
       "      <td>0.0</td>\n",
       "      <td>0.0</td>\n",
       "    </tr>\n",
       "    <tr>\n",
       "      <th>1</th>\n",
       "      <td>0.0</td>\n",
       "      <td>0.0</td>\n",
       "      <td>0.0</td>\n",
       "      <td>12.0</td>\n",
       "      <td>13.0</td>\n",
       "      <td>5.0</td>\n",
       "      <td>0.0</td>\n",
       "      <td>0.0</td>\n",
       "      <td>0.0</td>\n",
       "      <td>0.0</td>\n",
       "      <td>...</td>\n",
       "      <td>0.0</td>\n",
       "      <td>0.0</td>\n",
       "      <td>0.0</td>\n",
       "      <td>0.0</td>\n",
       "      <td>0.0</td>\n",
       "      <td>11.0</td>\n",
       "      <td>16.0</td>\n",
       "      <td>10.0</td>\n",
       "      <td>0.0</td>\n",
       "      <td>0.0</td>\n",
       "    </tr>\n",
       "    <tr>\n",
       "      <th>2</th>\n",
       "      <td>0.0</td>\n",
       "      <td>0.0</td>\n",
       "      <td>0.0</td>\n",
       "      <td>4.0</td>\n",
       "      <td>15.0</td>\n",
       "      <td>12.0</td>\n",
       "      <td>0.0</td>\n",
       "      <td>0.0</td>\n",
       "      <td>0.0</td>\n",
       "      <td>0.0</td>\n",
       "      <td>...</td>\n",
       "      <td>5.0</td>\n",
       "      <td>0.0</td>\n",
       "      <td>0.0</td>\n",
       "      <td>0.0</td>\n",
       "      <td>0.0</td>\n",
       "      <td>3.0</td>\n",
       "      <td>11.0</td>\n",
       "      <td>16.0</td>\n",
       "      <td>9.0</td>\n",
       "      <td>0.0</td>\n",
       "    </tr>\n",
       "    <tr>\n",
       "      <th>3</th>\n",
       "      <td>0.0</td>\n",
       "      <td>0.0</td>\n",
       "      <td>7.0</td>\n",
       "      <td>15.0</td>\n",
       "      <td>13.0</td>\n",
       "      <td>1.0</td>\n",
       "      <td>0.0</td>\n",
       "      <td>0.0</td>\n",
       "      <td>0.0</td>\n",
       "      <td>8.0</td>\n",
       "      <td>...</td>\n",
       "      <td>9.0</td>\n",
       "      <td>0.0</td>\n",
       "      <td>0.0</td>\n",
       "      <td>0.0</td>\n",
       "      <td>7.0</td>\n",
       "      <td>13.0</td>\n",
       "      <td>13.0</td>\n",
       "      <td>9.0</td>\n",
       "      <td>0.0</td>\n",
       "      <td>0.0</td>\n",
       "    </tr>\n",
       "    <tr>\n",
       "      <th>4</th>\n",
       "      <td>0.0</td>\n",
       "      <td>0.0</td>\n",
       "      <td>0.0</td>\n",
       "      <td>1.0</td>\n",
       "      <td>11.0</td>\n",
       "      <td>0.0</td>\n",
       "      <td>0.0</td>\n",
       "      <td>0.0</td>\n",
       "      <td>0.0</td>\n",
       "      <td>0.0</td>\n",
       "      <td>...</td>\n",
       "      <td>0.0</td>\n",
       "      <td>0.0</td>\n",
       "      <td>0.0</td>\n",
       "      <td>0.0</td>\n",
       "      <td>0.0</td>\n",
       "      <td>2.0</td>\n",
       "      <td>16.0</td>\n",
       "      <td>4.0</td>\n",
       "      <td>0.0</td>\n",
       "      <td>0.0</td>\n",
       "    </tr>\n",
       "    <tr>\n",
       "      <th>...</th>\n",
       "      <td>...</td>\n",
       "      <td>...</td>\n",
       "      <td>...</td>\n",
       "      <td>...</td>\n",
       "      <td>...</td>\n",
       "      <td>...</td>\n",
       "      <td>...</td>\n",
       "      <td>...</td>\n",
       "      <td>...</td>\n",
       "      <td>...</td>\n",
       "      <td>...</td>\n",
       "      <td>...</td>\n",
       "      <td>...</td>\n",
       "      <td>...</td>\n",
       "      <td>...</td>\n",
       "      <td>...</td>\n",
       "      <td>...</td>\n",
       "      <td>...</td>\n",
       "      <td>...</td>\n",
       "      <td>...</td>\n",
       "      <td>...</td>\n",
       "    </tr>\n",
       "    <tr>\n",
       "      <th>1792</th>\n",
       "      <td>0.0</td>\n",
       "      <td>0.0</td>\n",
       "      <td>4.0</td>\n",
       "      <td>10.0</td>\n",
       "      <td>13.0</td>\n",
       "      <td>6.0</td>\n",
       "      <td>0.0</td>\n",
       "      <td>0.0</td>\n",
       "      <td>0.0</td>\n",
       "      <td>1.0</td>\n",
       "      <td>...</td>\n",
       "      <td>4.0</td>\n",
       "      <td>0.0</td>\n",
       "      <td>0.0</td>\n",
       "      <td>0.0</td>\n",
       "      <td>2.0</td>\n",
       "      <td>14.0</td>\n",
       "      <td>15.0</td>\n",
       "      <td>9.0</td>\n",
       "      <td>0.0</td>\n",
       "      <td>0.0</td>\n",
       "    </tr>\n",
       "    <tr>\n",
       "      <th>1793</th>\n",
       "      <td>0.0</td>\n",
       "      <td>0.0</td>\n",
       "      <td>6.0</td>\n",
       "      <td>16.0</td>\n",
       "      <td>13.0</td>\n",
       "      <td>11.0</td>\n",
       "      <td>1.0</td>\n",
       "      <td>0.0</td>\n",
       "      <td>0.0</td>\n",
       "      <td>0.0</td>\n",
       "      <td>...</td>\n",
       "      <td>1.0</td>\n",
       "      <td>0.0</td>\n",
       "      <td>0.0</td>\n",
       "      <td>0.0</td>\n",
       "      <td>6.0</td>\n",
       "      <td>16.0</td>\n",
       "      <td>14.0</td>\n",
       "      <td>6.0</td>\n",
       "      <td>0.0</td>\n",
       "      <td>0.0</td>\n",
       "    </tr>\n",
       "    <tr>\n",
       "      <th>1794</th>\n",
       "      <td>0.0</td>\n",
       "      <td>0.0</td>\n",
       "      <td>1.0</td>\n",
       "      <td>11.0</td>\n",
       "      <td>15.0</td>\n",
       "      <td>1.0</td>\n",
       "      <td>0.0</td>\n",
       "      <td>0.0</td>\n",
       "      <td>0.0</td>\n",
       "      <td>0.0</td>\n",
       "      <td>...</td>\n",
       "      <td>0.0</td>\n",
       "      <td>0.0</td>\n",
       "      <td>0.0</td>\n",
       "      <td>0.0</td>\n",
       "      <td>2.0</td>\n",
       "      <td>9.0</td>\n",
       "      <td>13.0</td>\n",
       "      <td>6.0</td>\n",
       "      <td>0.0</td>\n",
       "      <td>0.0</td>\n",
       "    </tr>\n",
       "    <tr>\n",
       "      <th>1795</th>\n",
       "      <td>0.0</td>\n",
       "      <td>0.0</td>\n",
       "      <td>2.0</td>\n",
       "      <td>10.0</td>\n",
       "      <td>7.0</td>\n",
       "      <td>0.0</td>\n",
       "      <td>0.0</td>\n",
       "      <td>0.0</td>\n",
       "      <td>0.0</td>\n",
       "      <td>0.0</td>\n",
       "      <td>...</td>\n",
       "      <td>2.0</td>\n",
       "      <td>0.0</td>\n",
       "      <td>0.0</td>\n",
       "      <td>0.0</td>\n",
       "      <td>5.0</td>\n",
       "      <td>12.0</td>\n",
       "      <td>16.0</td>\n",
       "      <td>12.0</td>\n",
       "      <td>0.0</td>\n",
       "      <td>0.0</td>\n",
       "    </tr>\n",
       "    <tr>\n",
       "      <th>1796</th>\n",
       "      <td>0.0</td>\n",
       "      <td>0.0</td>\n",
       "      <td>10.0</td>\n",
       "      <td>14.0</td>\n",
       "      <td>8.0</td>\n",
       "      <td>1.0</td>\n",
       "      <td>0.0</td>\n",
       "      <td>0.0</td>\n",
       "      <td>0.0</td>\n",
       "      <td>2.0</td>\n",
       "      <td>...</td>\n",
       "      <td>8.0</td>\n",
       "      <td>0.0</td>\n",
       "      <td>0.0</td>\n",
       "      <td>1.0</td>\n",
       "      <td>8.0</td>\n",
       "      <td>12.0</td>\n",
       "      <td>14.0</td>\n",
       "      <td>12.0</td>\n",
       "      <td>1.0</td>\n",
       "      <td>0.0</td>\n",
       "    </tr>\n",
       "  </tbody>\n",
       "</table>\n",
       "<p>1797 rows × 64 columns</p>\n",
       "</div>"
      ],
      "text/plain": [
       "      pixel_0_0  pixel_0_1  pixel_0_2  pixel_0_3  pixel_0_4  pixel_0_5  \\\n",
       "0           0.0        0.0        5.0       13.0        9.0        1.0   \n",
       "1           0.0        0.0        0.0       12.0       13.0        5.0   \n",
       "2           0.0        0.0        0.0        4.0       15.0       12.0   \n",
       "3           0.0        0.0        7.0       15.0       13.0        1.0   \n",
       "4           0.0        0.0        0.0        1.0       11.0        0.0   \n",
       "...         ...        ...        ...        ...        ...        ...   \n",
       "1792        0.0        0.0        4.0       10.0       13.0        6.0   \n",
       "1793        0.0        0.0        6.0       16.0       13.0       11.0   \n",
       "1794        0.0        0.0        1.0       11.0       15.0        1.0   \n",
       "1795        0.0        0.0        2.0       10.0        7.0        0.0   \n",
       "1796        0.0        0.0       10.0       14.0        8.0        1.0   \n",
       "\n",
       "      pixel_0_6  pixel_0_7  pixel_1_0  pixel_1_1  ...  pixel_6_6  pixel_6_7  \\\n",
       "0           0.0        0.0        0.0        0.0  ...        0.0        0.0   \n",
       "1           0.0        0.0        0.0        0.0  ...        0.0        0.0   \n",
       "2           0.0        0.0        0.0        0.0  ...        5.0        0.0   \n",
       "3           0.0        0.0        0.0        8.0  ...        9.0        0.0   \n",
       "4           0.0        0.0        0.0        0.0  ...        0.0        0.0   \n",
       "...         ...        ...        ...        ...  ...        ...        ...   \n",
       "1792        0.0        0.0        0.0        1.0  ...        4.0        0.0   \n",
       "1793        1.0        0.0        0.0        0.0  ...        1.0        0.0   \n",
       "1794        0.0        0.0        0.0        0.0  ...        0.0        0.0   \n",
       "1795        0.0        0.0        0.0        0.0  ...        2.0        0.0   \n",
       "1796        0.0        0.0        0.0        2.0  ...        8.0        0.0   \n",
       "\n",
       "      pixel_7_0  pixel_7_1  pixel_7_2  pixel_7_3  pixel_7_4  pixel_7_5  \\\n",
       "0           0.0        0.0        6.0       13.0       10.0        0.0   \n",
       "1           0.0        0.0        0.0       11.0       16.0       10.0   \n",
       "2           0.0        0.0        0.0        3.0       11.0       16.0   \n",
       "3           0.0        0.0        7.0       13.0       13.0        9.0   \n",
       "4           0.0        0.0        0.0        2.0       16.0        4.0   \n",
       "...         ...        ...        ...        ...        ...        ...   \n",
       "1792        0.0        0.0        2.0       14.0       15.0        9.0   \n",
       "1793        0.0        0.0        6.0       16.0       14.0        6.0   \n",
       "1794        0.0        0.0        2.0        9.0       13.0        6.0   \n",
       "1795        0.0        0.0        5.0       12.0       16.0       12.0   \n",
       "1796        0.0        1.0        8.0       12.0       14.0       12.0   \n",
       "\n",
       "      pixel_7_6  pixel_7_7  \n",
       "0           0.0        0.0  \n",
       "1           0.0        0.0  \n",
       "2           9.0        0.0  \n",
       "3           0.0        0.0  \n",
       "4           0.0        0.0  \n",
       "...         ...        ...  \n",
       "1792        0.0        0.0  \n",
       "1793        0.0        0.0  \n",
       "1794        0.0        0.0  \n",
       "1795        0.0        0.0  \n",
       "1796        1.0        0.0  \n",
       "\n",
       "[1797 rows x 64 columns]"
      ]
     },
     "execution_count": 10,
     "metadata": {},
     "output_type": "execute_result"
    }
   ],
   "source": [
    "df"
   ]
  },
  {
   "cell_type": "code",
   "execution_count": 11,
   "id": "533875f4",
   "metadata": {},
   "outputs": [
    {
     "data": {
      "text/html": [
       "<div>\n",
       "<style scoped>\n",
       "    .dataframe tbody tr th:only-of-type {\n",
       "        vertical-align: middle;\n",
       "    }\n",
       "\n",
       "    .dataframe tbody tr th {\n",
       "        vertical-align: top;\n",
       "    }\n",
       "\n",
       "    .dataframe thead th {\n",
       "        text-align: right;\n",
       "    }\n",
       "</style>\n",
       "<table border=\"1\" class=\"dataframe\">\n",
       "  <thead>\n",
       "    <tr style=\"text-align: right;\">\n",
       "      <th></th>\n",
       "      <th>pixel_0_0</th>\n",
       "      <th>pixel_0_1</th>\n",
       "      <th>pixel_0_2</th>\n",
       "      <th>pixel_0_3</th>\n",
       "      <th>pixel_0_4</th>\n",
       "      <th>pixel_0_5</th>\n",
       "      <th>pixel_0_6</th>\n",
       "      <th>pixel_0_7</th>\n",
       "      <th>pixel_1_0</th>\n",
       "      <th>pixel_1_1</th>\n",
       "      <th>...</th>\n",
       "      <th>pixel_6_6</th>\n",
       "      <th>pixel_6_7</th>\n",
       "      <th>pixel_7_0</th>\n",
       "      <th>pixel_7_1</th>\n",
       "      <th>pixel_7_2</th>\n",
       "      <th>pixel_7_3</th>\n",
       "      <th>pixel_7_4</th>\n",
       "      <th>pixel_7_5</th>\n",
       "      <th>pixel_7_6</th>\n",
       "      <th>pixel_7_7</th>\n",
       "    </tr>\n",
       "  </thead>\n",
       "  <tbody>\n",
       "    <tr>\n",
       "      <th>0</th>\n",
       "      <td>0.0</td>\n",
       "      <td>0.0</td>\n",
       "      <td>5.0</td>\n",
       "      <td>13.0</td>\n",
       "      <td>9.0</td>\n",
       "      <td>1.0</td>\n",
       "      <td>0.0</td>\n",
       "      <td>0.0</td>\n",
       "      <td>0.0</td>\n",
       "      <td>0.0</td>\n",
       "      <td>...</td>\n",
       "      <td>0.0</td>\n",
       "      <td>0.0</td>\n",
       "      <td>0.0</td>\n",
       "      <td>0.0</td>\n",
       "      <td>6.0</td>\n",
       "      <td>13.0</td>\n",
       "      <td>10.0</td>\n",
       "      <td>0.0</td>\n",
       "      <td>0.0</td>\n",
       "      <td>0.0</td>\n",
       "    </tr>\n",
       "    <tr>\n",
       "      <th>1</th>\n",
       "      <td>0.0</td>\n",
       "      <td>0.0</td>\n",
       "      <td>0.0</td>\n",
       "      <td>12.0</td>\n",
       "      <td>13.0</td>\n",
       "      <td>5.0</td>\n",
       "      <td>0.0</td>\n",
       "      <td>0.0</td>\n",
       "      <td>0.0</td>\n",
       "      <td>0.0</td>\n",
       "      <td>...</td>\n",
       "      <td>0.0</td>\n",
       "      <td>0.0</td>\n",
       "      <td>0.0</td>\n",
       "      <td>0.0</td>\n",
       "      <td>0.0</td>\n",
       "      <td>11.0</td>\n",
       "      <td>16.0</td>\n",
       "      <td>10.0</td>\n",
       "      <td>0.0</td>\n",
       "      <td>0.0</td>\n",
       "    </tr>\n",
       "    <tr>\n",
       "      <th>2</th>\n",
       "      <td>0.0</td>\n",
       "      <td>0.0</td>\n",
       "      <td>0.0</td>\n",
       "      <td>4.0</td>\n",
       "      <td>15.0</td>\n",
       "      <td>12.0</td>\n",
       "      <td>0.0</td>\n",
       "      <td>0.0</td>\n",
       "      <td>0.0</td>\n",
       "      <td>0.0</td>\n",
       "      <td>...</td>\n",
       "      <td>5.0</td>\n",
       "      <td>0.0</td>\n",
       "      <td>0.0</td>\n",
       "      <td>0.0</td>\n",
       "      <td>0.0</td>\n",
       "      <td>3.0</td>\n",
       "      <td>11.0</td>\n",
       "      <td>16.0</td>\n",
       "      <td>9.0</td>\n",
       "      <td>0.0</td>\n",
       "    </tr>\n",
       "    <tr>\n",
       "      <th>3</th>\n",
       "      <td>0.0</td>\n",
       "      <td>0.0</td>\n",
       "      <td>7.0</td>\n",
       "      <td>15.0</td>\n",
       "      <td>13.0</td>\n",
       "      <td>1.0</td>\n",
       "      <td>0.0</td>\n",
       "      <td>0.0</td>\n",
       "      <td>0.0</td>\n",
       "      <td>8.0</td>\n",
       "      <td>...</td>\n",
       "      <td>9.0</td>\n",
       "      <td>0.0</td>\n",
       "      <td>0.0</td>\n",
       "      <td>0.0</td>\n",
       "      <td>7.0</td>\n",
       "      <td>13.0</td>\n",
       "      <td>13.0</td>\n",
       "      <td>9.0</td>\n",
       "      <td>0.0</td>\n",
       "      <td>0.0</td>\n",
       "    </tr>\n",
       "    <tr>\n",
       "      <th>4</th>\n",
       "      <td>0.0</td>\n",
       "      <td>0.0</td>\n",
       "      <td>0.0</td>\n",
       "      <td>1.0</td>\n",
       "      <td>11.0</td>\n",
       "      <td>0.0</td>\n",
       "      <td>0.0</td>\n",
       "      <td>0.0</td>\n",
       "      <td>0.0</td>\n",
       "      <td>0.0</td>\n",
       "      <td>...</td>\n",
       "      <td>0.0</td>\n",
       "      <td>0.0</td>\n",
       "      <td>0.0</td>\n",
       "      <td>0.0</td>\n",
       "      <td>0.0</td>\n",
       "      <td>2.0</td>\n",
       "      <td>16.0</td>\n",
       "      <td>4.0</td>\n",
       "      <td>0.0</td>\n",
       "      <td>0.0</td>\n",
       "    </tr>\n",
       "  </tbody>\n",
       "</table>\n",
       "<p>5 rows × 64 columns</p>\n",
       "</div>"
      ],
      "text/plain": [
       "   pixel_0_0  pixel_0_1  pixel_0_2  pixel_0_3  pixel_0_4  pixel_0_5  \\\n",
       "0        0.0        0.0        5.0       13.0        9.0        1.0   \n",
       "1        0.0        0.0        0.0       12.0       13.0        5.0   \n",
       "2        0.0        0.0        0.0        4.0       15.0       12.0   \n",
       "3        0.0        0.0        7.0       15.0       13.0        1.0   \n",
       "4        0.0        0.0        0.0        1.0       11.0        0.0   \n",
       "\n",
       "   pixel_0_6  pixel_0_7  pixel_1_0  pixel_1_1  ...  pixel_6_6  pixel_6_7  \\\n",
       "0        0.0        0.0        0.0        0.0  ...        0.0        0.0   \n",
       "1        0.0        0.0        0.0        0.0  ...        0.0        0.0   \n",
       "2        0.0        0.0        0.0        0.0  ...        5.0        0.0   \n",
       "3        0.0        0.0        0.0        8.0  ...        9.0        0.0   \n",
       "4        0.0        0.0        0.0        0.0  ...        0.0        0.0   \n",
       "\n",
       "   pixel_7_0  pixel_7_1  pixel_7_2  pixel_7_3  pixel_7_4  pixel_7_5  \\\n",
       "0        0.0        0.0        6.0       13.0       10.0        0.0   \n",
       "1        0.0        0.0        0.0       11.0       16.0       10.0   \n",
       "2        0.0        0.0        0.0        3.0       11.0       16.0   \n",
       "3        0.0        0.0        7.0       13.0       13.0        9.0   \n",
       "4        0.0        0.0        0.0        2.0       16.0        4.0   \n",
       "\n",
       "   pixel_7_6  pixel_7_7  \n",
       "0        0.0        0.0  \n",
       "1        0.0        0.0  \n",
       "2        9.0        0.0  \n",
       "3        0.0        0.0  \n",
       "4        0.0        0.0  \n",
       "\n",
       "[5 rows x 64 columns]"
      ]
     },
     "execution_count": 11,
     "metadata": {},
     "output_type": "execute_result"
    }
   ],
   "source": [
    "df.head()"
   ]
  },
  {
   "cell_type": "code",
   "execution_count": 12,
   "id": "26af23e7",
   "metadata": {},
   "outputs": [],
   "source": [
    "df['target_output']=digits.target\n",
    "# create a new column \" target\" in df dataset under module digits with samples of target column"
   ]
  },
  {
   "cell_type": "code",
   "execution_count": 13,
   "id": "dc799f09",
   "metadata": {},
   "outputs": [
    {
     "data": {
      "text/html": [
       "<div>\n",
       "<style scoped>\n",
       "    .dataframe tbody tr th:only-of-type {\n",
       "        vertical-align: middle;\n",
       "    }\n",
       "\n",
       "    .dataframe tbody tr th {\n",
       "        vertical-align: top;\n",
       "    }\n",
       "\n",
       "    .dataframe thead th {\n",
       "        text-align: right;\n",
       "    }\n",
       "</style>\n",
       "<table border=\"1\" class=\"dataframe\">\n",
       "  <thead>\n",
       "    <tr style=\"text-align: right;\">\n",
       "      <th></th>\n",
       "      <th>pixel_0_0</th>\n",
       "      <th>pixel_0_1</th>\n",
       "      <th>pixel_0_2</th>\n",
       "      <th>pixel_0_3</th>\n",
       "      <th>pixel_0_4</th>\n",
       "      <th>pixel_0_5</th>\n",
       "      <th>pixel_0_6</th>\n",
       "      <th>pixel_0_7</th>\n",
       "      <th>pixel_1_0</th>\n",
       "      <th>pixel_1_1</th>\n",
       "      <th>...</th>\n",
       "      <th>pixel_6_7</th>\n",
       "      <th>pixel_7_0</th>\n",
       "      <th>pixel_7_1</th>\n",
       "      <th>pixel_7_2</th>\n",
       "      <th>pixel_7_3</th>\n",
       "      <th>pixel_7_4</th>\n",
       "      <th>pixel_7_5</th>\n",
       "      <th>pixel_7_6</th>\n",
       "      <th>pixel_7_7</th>\n",
       "      <th>target_output</th>\n",
       "    </tr>\n",
       "  </thead>\n",
       "  <tbody>\n",
       "    <tr>\n",
       "      <th>0</th>\n",
       "      <td>0.0</td>\n",
       "      <td>0.0</td>\n",
       "      <td>5.0</td>\n",
       "      <td>13.0</td>\n",
       "      <td>9.0</td>\n",
       "      <td>1.0</td>\n",
       "      <td>0.0</td>\n",
       "      <td>0.0</td>\n",
       "      <td>0.0</td>\n",
       "      <td>0.0</td>\n",
       "      <td>...</td>\n",
       "      <td>0.0</td>\n",
       "      <td>0.0</td>\n",
       "      <td>0.0</td>\n",
       "      <td>6.0</td>\n",
       "      <td>13.0</td>\n",
       "      <td>10.0</td>\n",
       "      <td>0.0</td>\n",
       "      <td>0.0</td>\n",
       "      <td>0.0</td>\n",
       "      <td>0</td>\n",
       "    </tr>\n",
       "    <tr>\n",
       "      <th>1</th>\n",
       "      <td>0.0</td>\n",
       "      <td>0.0</td>\n",
       "      <td>0.0</td>\n",
       "      <td>12.0</td>\n",
       "      <td>13.0</td>\n",
       "      <td>5.0</td>\n",
       "      <td>0.0</td>\n",
       "      <td>0.0</td>\n",
       "      <td>0.0</td>\n",
       "      <td>0.0</td>\n",
       "      <td>...</td>\n",
       "      <td>0.0</td>\n",
       "      <td>0.0</td>\n",
       "      <td>0.0</td>\n",
       "      <td>0.0</td>\n",
       "      <td>11.0</td>\n",
       "      <td>16.0</td>\n",
       "      <td>10.0</td>\n",
       "      <td>0.0</td>\n",
       "      <td>0.0</td>\n",
       "      <td>1</td>\n",
       "    </tr>\n",
       "    <tr>\n",
       "      <th>2</th>\n",
       "      <td>0.0</td>\n",
       "      <td>0.0</td>\n",
       "      <td>0.0</td>\n",
       "      <td>4.0</td>\n",
       "      <td>15.0</td>\n",
       "      <td>12.0</td>\n",
       "      <td>0.0</td>\n",
       "      <td>0.0</td>\n",
       "      <td>0.0</td>\n",
       "      <td>0.0</td>\n",
       "      <td>...</td>\n",
       "      <td>0.0</td>\n",
       "      <td>0.0</td>\n",
       "      <td>0.0</td>\n",
       "      <td>0.0</td>\n",
       "      <td>3.0</td>\n",
       "      <td>11.0</td>\n",
       "      <td>16.0</td>\n",
       "      <td>9.0</td>\n",
       "      <td>0.0</td>\n",
       "      <td>2</td>\n",
       "    </tr>\n",
       "    <tr>\n",
       "      <th>3</th>\n",
       "      <td>0.0</td>\n",
       "      <td>0.0</td>\n",
       "      <td>7.0</td>\n",
       "      <td>15.0</td>\n",
       "      <td>13.0</td>\n",
       "      <td>1.0</td>\n",
       "      <td>0.0</td>\n",
       "      <td>0.0</td>\n",
       "      <td>0.0</td>\n",
       "      <td>8.0</td>\n",
       "      <td>...</td>\n",
       "      <td>0.0</td>\n",
       "      <td>0.0</td>\n",
       "      <td>0.0</td>\n",
       "      <td>7.0</td>\n",
       "      <td>13.0</td>\n",
       "      <td>13.0</td>\n",
       "      <td>9.0</td>\n",
       "      <td>0.0</td>\n",
       "      <td>0.0</td>\n",
       "      <td>3</td>\n",
       "    </tr>\n",
       "    <tr>\n",
       "      <th>4</th>\n",
       "      <td>0.0</td>\n",
       "      <td>0.0</td>\n",
       "      <td>0.0</td>\n",
       "      <td>1.0</td>\n",
       "      <td>11.0</td>\n",
       "      <td>0.0</td>\n",
       "      <td>0.0</td>\n",
       "      <td>0.0</td>\n",
       "      <td>0.0</td>\n",
       "      <td>0.0</td>\n",
       "      <td>...</td>\n",
       "      <td>0.0</td>\n",
       "      <td>0.0</td>\n",
       "      <td>0.0</td>\n",
       "      <td>0.0</td>\n",
       "      <td>2.0</td>\n",
       "      <td>16.0</td>\n",
       "      <td>4.0</td>\n",
       "      <td>0.0</td>\n",
       "      <td>0.0</td>\n",
       "      <td>4</td>\n",
       "    </tr>\n",
       "  </tbody>\n",
       "</table>\n",
       "<p>5 rows × 65 columns</p>\n",
       "</div>"
      ],
      "text/plain": [
       "   pixel_0_0  pixel_0_1  pixel_0_2  pixel_0_3  pixel_0_4  pixel_0_5  \\\n",
       "0        0.0        0.0        5.0       13.0        9.0        1.0   \n",
       "1        0.0        0.0        0.0       12.0       13.0        5.0   \n",
       "2        0.0        0.0        0.0        4.0       15.0       12.0   \n",
       "3        0.0        0.0        7.0       15.0       13.0        1.0   \n",
       "4        0.0        0.0        0.0        1.0       11.0        0.0   \n",
       "\n",
       "   pixel_0_6  pixel_0_7  pixel_1_0  pixel_1_1  ...  pixel_6_7  pixel_7_0  \\\n",
       "0        0.0        0.0        0.0        0.0  ...        0.0        0.0   \n",
       "1        0.0        0.0        0.0        0.0  ...        0.0        0.0   \n",
       "2        0.0        0.0        0.0        0.0  ...        0.0        0.0   \n",
       "3        0.0        0.0        0.0        8.0  ...        0.0        0.0   \n",
       "4        0.0        0.0        0.0        0.0  ...        0.0        0.0   \n",
       "\n",
       "   pixel_7_1  pixel_7_2  pixel_7_3  pixel_7_4  pixel_7_5  pixel_7_6  \\\n",
       "0        0.0        6.0       13.0       10.0        0.0        0.0   \n",
       "1        0.0        0.0       11.0       16.0       10.0        0.0   \n",
       "2        0.0        0.0        3.0       11.0       16.0        9.0   \n",
       "3        0.0        7.0       13.0       13.0        9.0        0.0   \n",
       "4        0.0        0.0        2.0       16.0        4.0        0.0   \n",
       "\n",
       "   pixel_7_7  target_output  \n",
       "0        0.0              0  \n",
       "1        0.0              1  \n",
       "2        0.0              2  \n",
       "3        0.0              3  \n",
       "4        0.0              4  \n",
       "\n",
       "[5 rows x 65 columns]"
      ]
     },
     "execution_count": 13,
     "metadata": {},
     "output_type": "execute_result"
    }
   ],
   "source": [
    "df.head()"
   ]
  },
  {
   "cell_type": "markdown",
   "id": "c7920793",
   "metadata": {},
   "source": [
    "now  its 65 columns"
   ]
  },
  {
   "cell_type": "code",
   "execution_count": 14,
   "id": "5b94cdc9",
   "metadata": {},
   "outputs": [
    {
     "data": {
      "text/plain": [
       "(1797, 65)"
      ]
     },
     "execution_count": 14,
     "metadata": {},
     "output_type": "execute_result"
    }
   ],
   "source": [
    "df.shape"
   ]
  },
  {
   "cell_type": "code",
   "execution_count": 15,
   "id": "7fb103f8",
   "metadata": {},
   "outputs": [
    {
     "name": "stdout",
     "output_type": "stream",
     "text": [
      "<class 'pandas.core.frame.DataFrame'>\n",
      "RangeIndex: 1797 entries, 0 to 1796\n",
      "Data columns (total 65 columns):\n",
      " #   Column         Non-Null Count  Dtype  \n",
      "---  ------         --------------  -----  \n",
      " 0   pixel_0_0      1797 non-null   float64\n",
      " 1   pixel_0_1      1797 non-null   float64\n",
      " 2   pixel_0_2      1797 non-null   float64\n",
      " 3   pixel_0_3      1797 non-null   float64\n",
      " 4   pixel_0_4      1797 non-null   float64\n",
      " 5   pixel_0_5      1797 non-null   float64\n",
      " 6   pixel_0_6      1797 non-null   float64\n",
      " 7   pixel_0_7      1797 non-null   float64\n",
      " 8   pixel_1_0      1797 non-null   float64\n",
      " 9   pixel_1_1      1797 non-null   float64\n",
      " 10  pixel_1_2      1797 non-null   float64\n",
      " 11  pixel_1_3      1797 non-null   float64\n",
      " 12  pixel_1_4      1797 non-null   float64\n",
      " 13  pixel_1_5      1797 non-null   float64\n",
      " 14  pixel_1_6      1797 non-null   float64\n",
      " 15  pixel_1_7      1797 non-null   float64\n",
      " 16  pixel_2_0      1797 non-null   float64\n",
      " 17  pixel_2_1      1797 non-null   float64\n",
      " 18  pixel_2_2      1797 non-null   float64\n",
      " 19  pixel_2_3      1797 non-null   float64\n",
      " 20  pixel_2_4      1797 non-null   float64\n",
      " 21  pixel_2_5      1797 non-null   float64\n",
      " 22  pixel_2_6      1797 non-null   float64\n",
      " 23  pixel_2_7      1797 non-null   float64\n",
      " 24  pixel_3_0      1797 non-null   float64\n",
      " 25  pixel_3_1      1797 non-null   float64\n",
      " 26  pixel_3_2      1797 non-null   float64\n",
      " 27  pixel_3_3      1797 non-null   float64\n",
      " 28  pixel_3_4      1797 non-null   float64\n",
      " 29  pixel_3_5      1797 non-null   float64\n",
      " 30  pixel_3_6      1797 non-null   float64\n",
      " 31  pixel_3_7      1797 non-null   float64\n",
      " 32  pixel_4_0      1797 non-null   float64\n",
      " 33  pixel_4_1      1797 non-null   float64\n",
      " 34  pixel_4_2      1797 non-null   float64\n",
      " 35  pixel_4_3      1797 non-null   float64\n",
      " 36  pixel_4_4      1797 non-null   float64\n",
      " 37  pixel_4_5      1797 non-null   float64\n",
      " 38  pixel_4_6      1797 non-null   float64\n",
      " 39  pixel_4_7      1797 non-null   float64\n",
      " 40  pixel_5_0      1797 non-null   float64\n",
      " 41  pixel_5_1      1797 non-null   float64\n",
      " 42  pixel_5_2      1797 non-null   float64\n",
      " 43  pixel_5_3      1797 non-null   float64\n",
      " 44  pixel_5_4      1797 non-null   float64\n",
      " 45  pixel_5_5      1797 non-null   float64\n",
      " 46  pixel_5_6      1797 non-null   float64\n",
      " 47  pixel_5_7      1797 non-null   float64\n",
      " 48  pixel_6_0      1797 non-null   float64\n",
      " 49  pixel_6_1      1797 non-null   float64\n",
      " 50  pixel_6_2      1797 non-null   float64\n",
      " 51  pixel_6_3      1797 non-null   float64\n",
      " 52  pixel_6_4      1797 non-null   float64\n",
      " 53  pixel_6_5      1797 non-null   float64\n",
      " 54  pixel_6_6      1797 non-null   float64\n",
      " 55  pixel_6_7      1797 non-null   float64\n",
      " 56  pixel_7_0      1797 non-null   float64\n",
      " 57  pixel_7_1      1797 non-null   float64\n",
      " 58  pixel_7_2      1797 non-null   float64\n",
      " 59  pixel_7_3      1797 non-null   float64\n",
      " 60  pixel_7_4      1797 non-null   float64\n",
      " 61  pixel_7_5      1797 non-null   float64\n",
      " 62  pixel_7_6      1797 non-null   float64\n",
      " 63  pixel_7_7      1797 non-null   float64\n",
      " 64  target_output  1797 non-null   int32  \n",
      "dtypes: float64(64), int32(1)\n",
      "memory usage: 905.6 KB\n"
     ]
    }
   ],
   "source": [
    "df.info()\n",
    " # data type for coulmns are in float and int for last result column \n",
    "# and not in str otherwise we have convert them into  int first"
   ]
  },
  {
   "cell_type": "code",
   "execution_count": 16,
   "id": "24ed4266",
   "metadata": {},
   "outputs": [
    {
     "data": {
      "text/plain": [
       "pixel_0_0        0\n",
       "pixel_0_1        0\n",
       "pixel_0_2        0\n",
       "pixel_0_3        0\n",
       "pixel_0_4        0\n",
       "                ..\n",
       "pixel_7_4        0\n",
       "pixel_7_5        0\n",
       "pixel_7_6        0\n",
       "pixel_7_7        0\n",
       "target_output    0\n",
       "Length: 65, dtype: int64"
      ]
     },
     "execution_count": 16,
     "metadata": {},
     "output_type": "execute_result"
    }
   ],
   "source": [
    "df.isnull().sum()\n",
    "# all there no null values as all the sorted already"
   ]
  },
  {
   "cell_type": "code",
   "execution_count": 17,
   "id": "84d37f80",
   "metadata": {},
   "outputs": [
    {
     "data": {
      "text/plain": [
       "array([[ 0.,  0.,  5., 13.,  9.,  1.,  0.,  0.],\n",
       "       [ 0.,  0., 13., 15., 10., 15.,  5.,  0.],\n",
       "       [ 0.,  3., 15.,  2.,  0., 11.,  8.,  0.],\n",
       "       [ 0.,  4., 12.,  0.,  0.,  8.,  8.,  0.],\n",
       "       [ 0.,  5.,  8.,  0.,  0.,  9.,  8.,  0.],\n",
       "       [ 0.,  4., 11.,  0.,  1., 12.,  7.,  0.],\n",
       "       [ 0.,  2., 14.,  5., 10., 12.,  0.,  0.],\n",
       "       [ 0.,  0.,  6., 13., 10.,  0.,  0.,  0.]])"
      ]
     },
     "execution_count": 17,
     "metadata": {},
     "output_type": "execute_result"
    }
   ],
   "source": [
    "s=digits.images[0] \n",
    "s\n",
    "# values for first images 2D array"
   ]
  },
  {
   "cell_type": "code",
   "execution_count": 18,
   "id": "71c61b1d",
   "metadata": {},
   "outputs": [
    {
     "data": {
      "text/plain": [
       "array([ 0.,  0.,  5., 13.,  9.,  1.,  0.,  0.,  0.,  0., 13., 15., 10.,\n",
       "       15.,  5.,  0.,  0.,  3., 15.,  2.,  0., 11.,  8.,  0.,  0.,  4.,\n",
       "       12.,  0.,  0.,  8.,  8.,  0.,  0.,  5.,  8.,  0.,  0.,  9.,  8.,\n",
       "        0.,  0.,  4., 11.,  0.,  1., 12.,  7.,  0.,  0.,  2., 14.,  5.,\n",
       "       10., 12.,  0.,  0.,  0.,  0.,  6., 13., 10.,  0.,  0.,  0.])"
      ]
     },
     "execution_count": 18,
     "metadata": {},
     "output_type": "execute_result"
    }
   ],
   "source": [
    "digits.data[0] # 1 D array"
   ]
  },
  {
   "cell_type": "code",
   "execution_count": null,
   "id": "202213ba",
   "metadata": {},
   "outputs": [],
   "source": [
    "remember method in numpy to reshape 3D to 2D array \n",
    "flatten and ravel use to 2D TO 1D"
   ]
  },
  {
   "cell_type": "code",
   "execution_count": null,
   "id": "2996ce87",
   "metadata": {},
   "outputs": [],
   "source": [
    "make 2D to 1D above imagesdigits.images[0]:"
   ]
  },
  {
   "cell_type": "code",
   "execution_count": 19,
   "id": "cdb74d63",
   "metadata": {},
   "outputs": [
    {
     "data": {
      "text/plain": [
       "<Figure size 432x288 with 0 Axes>"
      ]
     },
     "metadata": {},
     "output_type": "display_data"
    },
    {
     "data": {
      "image/png": "[encoded data removed]",
      "text/plain": [
       "<Figure size 288x288 with 1 Axes>"
      ]
     },
     "metadata": {
      "needs_background": "light"
     },
     "output_type": "display_data"
    }
   ],
   "source": [
    "plt.gray() # a function in matplotlib\n",
    "plt.matshow(s) # s is complte array 2D\n",
    "plt.show() # check output 0 1 2 3"
   ]
  },
  {
   "cell_type": "code",
   "execution_count": 20,
   "id": "ccfe59ab",
   "metadata": {},
   "outputs": [
    {
     "data": {
      "text/plain": [
       "<Figure size 432x288 with 0 Axes>"
      ]
     },
     "metadata": {},
     "output_type": "display_data"
    },
    {
     "data": {
      "image/png": "[encoded data removed]",
      "text/plain": [
       "<Figure size 288x288 with 1 Axes>"
      ]
     },
     "metadata": {
      "needs_background": "light"
     },
     "output_type": "display_data"
    },
    {
     "data": {
      "image/png": "[encoded data removed]",
      "text/plain": [
       "<Figure size 288x288 with 1 Axes>"
      ]
     },
     "metadata": {
      "needs_background": "light"
     },
     "output_type": "display_data"
    },
    {
     "data": {
      "image/png": "[encoded data removed]",
      "text/plain": [
       "<Figure size 288x288 with 1 Axes>"
      ]
     },
     "metadata": {
      "needs_background": "light"
     },
     "output_type": "display_data"
    },
    {
     "data": {
      "image/png": "[encoded data removed]",
      "text/plain": [
       "<Figure size 288x288 with 1 Axes>"
      ]
     },
     "metadata": {
      "needs_background": "light"
     },
     "output_type": "display_data"
    },
    {
     "data": {
      "image/png": "[encoded data removed]",
      "text/plain": [
       "<Figure size 288x288 with 1 Axes>"
      ]
     },
     "metadata": {
      "needs_background": "light"
     },
     "output_type": "display_data"
    }
   ],
   "source": [
    "plt.gray()\n",
    "for i in range(5):\n",
    "    plt.matshow(digits.images[i])\n",
    "    plt.show()"
   ]
  },
  {
   "cell_type": "code",
   "execution_count": 21,
   "id": "f9ad9650",
   "metadata": {},
   "outputs": [
    {
     "data": {
      "text/plain": [
       "<matplotlib.image.AxesImage at 0x1f9eeee0c40>"
      ]
     },
     "execution_count": 21,
     "metadata": {},
     "output_type": "execute_result"
    },
    {
     "data": {
      "image/png": "[encoded data removed]",
      "text/plain": [
       "<Figure size 288x288 with 1 Axes>"
      ]
     },
     "metadata": {
      "needs_background": "light"
     },
     "output_type": "display_data"
    }
   ],
   "source": [
    "plt.matshow(digits.images[41])"
   ]
  },
  {
   "cell_type": "code",
   "execution_count": 22,
   "id": "79aec157",
   "metadata": {},
   "outputs": [
    {
     "data": {
      "text/plain": [
       "4"
      ]
     },
     "execution_count": 22,
     "metadata": {},
     "output_type": "execute_result"
    }
   ],
   "source": [
    "digits.target[41] # at 41 it is number 4"
   ]
  },
  {
   "cell_type": "code",
   "execution_count": null,
   "id": "8786f606",
   "metadata": {},
   "outputs": [],
   "source": [
    "for all above things logistics will be used and applied"
   ]
  },
  {
   "cell_type": "code",
   "execution_count": 23,
   "id": "87f9e465",
   "metadata": {},
   "outputs": [],
   "source": [
    "from sklearn.model_selection import train_test_split"
   ]
  },
  {
   "cell_type": "code",
   "execution_count": null,
   "id": "27b3a942",
   "metadata": {},
   "outputs": [],
   "source": [
    "create first X and y"
   ]
  },
  {
   "cell_type": "code",
   "execution_count": 24,
   "id": "2829cee3",
   "metadata": {},
   "outputs": [],
   "source": [
    "#X=df[['feature_names']]\n",
    "X=df.drop('target_output',axis=1)"
   ]
  },
  {
   "cell_type": "code",
   "execution_count": 25,
   "id": "43941791",
   "metadata": {},
   "outputs": [],
   "source": [
    "y=df.target_output"
   ]
  },
  {
   "cell_type": "code",
   "execution_count": 26,
   "id": "c2b71418",
   "metadata": {},
   "outputs": [],
   "source": [
    "X_train, X_test, y_train, y_test = train_test_split(X, y, test_size=0.33, random_state=42)"
   ]
  },
  {
   "cell_type": "code",
   "execution_count": 27,
   "id": "f193e37d",
   "metadata": {},
   "outputs": [
    {
     "data": {
      "text/html": [
       "<div>\n",
       "<style scoped>\n",
       "    .dataframe tbody tr th:only-of-type {\n",
       "        vertical-align: middle;\n",
       "    }\n",
       "\n",
       "    .dataframe tbody tr th {\n",
       "        vertical-align: top;\n",
       "    }\n",
       "\n",
       "    .dataframe thead th {\n",
       "        text-align: right;\n",
       "    }\n",
       "</style>\n",
       "<table border=\"1\" class=\"dataframe\">\n",
       "  <thead>\n",
       "    <tr style=\"text-align: right;\">\n",
       "      <th></th>\n",
       "      <th>pixel_0_0</th>\n",
       "      <th>pixel_0_1</th>\n",
       "      <th>pixel_0_2</th>\n",
       "      <th>pixel_0_3</th>\n",
       "      <th>pixel_0_4</th>\n",
       "      <th>pixel_0_5</th>\n",
       "      <th>pixel_0_6</th>\n",
       "      <th>pixel_0_7</th>\n",
       "      <th>pixel_1_0</th>\n",
       "      <th>pixel_1_1</th>\n",
       "      <th>...</th>\n",
       "      <th>pixel_6_6</th>\n",
       "      <th>pixel_6_7</th>\n",
       "      <th>pixel_7_0</th>\n",
       "      <th>pixel_7_1</th>\n",
       "      <th>pixel_7_2</th>\n",
       "      <th>pixel_7_3</th>\n",
       "      <th>pixel_7_4</th>\n",
       "      <th>pixel_7_5</th>\n",
       "      <th>pixel_7_6</th>\n",
       "      <th>pixel_7_7</th>\n",
       "    </tr>\n",
       "  </thead>\n",
       "  <tbody>\n",
       "    <tr>\n",
       "      <th>428</th>\n",
       "      <td>0.0</td>\n",
       "      <td>0.0</td>\n",
       "      <td>0.0</td>\n",
       "      <td>1.0</td>\n",
       "      <td>12.0</td>\n",
       "      <td>7.0</td>\n",
       "      <td>0.0</td>\n",
       "      <td>0.0</td>\n",
       "      <td>0.0</td>\n",
       "      <td>0.0</td>\n",
       "      <td>...</td>\n",
       "      <td>0.0</td>\n",
       "      <td>0.0</td>\n",
       "      <td>0.0</td>\n",
       "      <td>0.0</td>\n",
       "      <td>0.0</td>\n",
       "      <td>3.0</td>\n",
       "      <td>15.0</td>\n",
       "      <td>13.0</td>\n",
       "      <td>0.0</td>\n",
       "      <td>0.0</td>\n",
       "    </tr>\n",
       "    <tr>\n",
       "      <th>1357</th>\n",
       "      <td>0.0</td>\n",
       "      <td>0.0</td>\n",
       "      <td>1.0</td>\n",
       "      <td>15.0</td>\n",
       "      <td>15.0</td>\n",
       "      <td>2.0</td>\n",
       "      <td>0.0</td>\n",
       "      <td>0.0</td>\n",
       "      <td>0.0</td>\n",
       "      <td>0.0</td>\n",
       "      <td>...</td>\n",
       "      <td>0.0</td>\n",
       "      <td>0.0</td>\n",
       "      <td>0.0</td>\n",
       "      <td>0.0</td>\n",
       "      <td>1.0</td>\n",
       "      <td>14.0</td>\n",
       "      <td>16.0</td>\n",
       "      <td>7.0</td>\n",
       "      <td>0.0</td>\n",
       "      <td>0.0</td>\n",
       "    </tr>\n",
       "    <tr>\n",
       "      <th>1185</th>\n",
       "      <td>0.0</td>\n",
       "      <td>1.0</td>\n",
       "      <td>12.0</td>\n",
       "      <td>15.0</td>\n",
       "      <td>16.0</td>\n",
       "      <td>13.0</td>\n",
       "      <td>1.0</td>\n",
       "      <td>0.0</td>\n",
       "      <td>0.0</td>\n",
       "      <td>4.0</td>\n",
       "      <td>...</td>\n",
       "      <td>0.0</td>\n",
       "      <td>0.0</td>\n",
       "      <td>0.0</td>\n",
       "      <td>2.0</td>\n",
       "      <td>13.0</td>\n",
       "      <td>16.0</td>\n",
       "      <td>10.0</td>\n",
       "      <td>0.0</td>\n",
       "      <td>0.0</td>\n",
       "      <td>0.0</td>\n",
       "    </tr>\n",
       "    <tr>\n",
       "      <th>31</th>\n",
       "      <td>0.0</td>\n",
       "      <td>0.0</td>\n",
       "      <td>2.0</td>\n",
       "      <td>13.0</td>\n",
       "      <td>8.0</td>\n",
       "      <td>0.0</td>\n",
       "      <td>0.0</td>\n",
       "      <td>0.0</td>\n",
       "      <td>0.0</td>\n",
       "      <td>0.0</td>\n",
       "      <td>...</td>\n",
       "      <td>16.0</td>\n",
       "      <td>2.0</td>\n",
       "      <td>0.0</td>\n",
       "      <td>0.0</td>\n",
       "      <td>2.0</td>\n",
       "      <td>15.0</td>\n",
       "      <td>13.0</td>\n",
       "      <td>14.0</td>\n",
       "      <td>13.0</td>\n",
       "      <td>2.0</td>\n",
       "    </tr>\n",
       "    <tr>\n",
       "      <th>1603</th>\n",
       "      <td>0.0</td>\n",
       "      <td>2.0</td>\n",
       "      <td>11.0</td>\n",
       "      <td>14.0</td>\n",
       "      <td>14.0</td>\n",
       "      <td>9.0</td>\n",
       "      <td>0.0</td>\n",
       "      <td>0.0</td>\n",
       "      <td>0.0</td>\n",
       "      <td>3.0</td>\n",
       "      <td>...</td>\n",
       "      <td>0.0</td>\n",
       "      <td>0.0</td>\n",
       "      <td>0.0</td>\n",
       "      <td>1.0</td>\n",
       "      <td>15.0</td>\n",
       "      <td>13.0</td>\n",
       "      <td>1.0</td>\n",
       "      <td>0.0</td>\n",
       "      <td>0.0</td>\n",
       "      <td>0.0</td>\n",
       "    </tr>\n",
       "    <tr>\n",
       "      <th>...</th>\n",
       "      <td>...</td>\n",
       "      <td>...</td>\n",
       "      <td>...</td>\n",
       "      <td>...</td>\n",
       "      <td>...</td>\n",
       "      <td>...</td>\n",
       "      <td>...</td>\n",
       "      <td>...</td>\n",
       "      <td>...</td>\n",
       "      <td>...</td>\n",
       "      <td>...</td>\n",
       "      <td>...</td>\n",
       "      <td>...</td>\n",
       "      <td>...</td>\n",
       "      <td>...</td>\n",
       "      <td>...</td>\n",
       "      <td>...</td>\n",
       "      <td>...</td>\n",
       "      <td>...</td>\n",
       "      <td>...</td>\n",
       "      <td>...</td>\n",
       "    </tr>\n",
       "    <tr>\n",
       "      <th>1130</th>\n",
       "      <td>0.0</td>\n",
       "      <td>1.0</td>\n",
       "      <td>13.0</td>\n",
       "      <td>16.0</td>\n",
       "      <td>16.0</td>\n",
       "      <td>12.0</td>\n",
       "      <td>1.0</td>\n",
       "      <td>0.0</td>\n",
       "      <td>0.0</td>\n",
       "      <td>12.0</td>\n",
       "      <td>...</td>\n",
       "      <td>9.0</td>\n",
       "      <td>0.0</td>\n",
       "      <td>0.0</td>\n",
       "      <td>1.0</td>\n",
       "      <td>14.0</td>\n",
       "      <td>16.0</td>\n",
       "      <td>16.0</td>\n",
       "      <td>11.0</td>\n",
       "      <td>1.0</td>\n",
       "      <td>0.0</td>\n",
       "    </tr>\n",
       "    <tr>\n",
       "      <th>1294</th>\n",
       "      <td>0.0</td>\n",
       "      <td>3.0</td>\n",
       "      <td>15.0</td>\n",
       "      <td>16.0</td>\n",
       "      <td>15.0</td>\n",
       "      <td>3.0</td>\n",
       "      <td>0.0</td>\n",
       "      <td>0.0</td>\n",
       "      <td>0.0</td>\n",
       "      <td>3.0</td>\n",
       "      <td>...</td>\n",
       "      <td>0.0</td>\n",
       "      <td>0.0</td>\n",
       "      <td>0.0</td>\n",
       "      <td>3.0</td>\n",
       "      <td>16.0</td>\n",
       "      <td>5.0</td>\n",
       "      <td>0.0</td>\n",
       "      <td>0.0</td>\n",
       "      <td>0.0</td>\n",
       "      <td>0.0</td>\n",
       "    </tr>\n",
       "    <tr>\n",
       "      <th>860</th>\n",
       "      <td>0.0</td>\n",
       "      <td>0.0</td>\n",
       "      <td>9.0</td>\n",
       "      <td>16.0</td>\n",
       "      <td>16.0</td>\n",
       "      <td>13.0</td>\n",
       "      <td>1.0</td>\n",
       "      <td>0.0</td>\n",
       "      <td>0.0</td>\n",
       "      <td>0.0</td>\n",
       "      <td>...</td>\n",
       "      <td>0.0</td>\n",
       "      <td>0.0</td>\n",
       "      <td>0.0</td>\n",
       "      <td>0.0</td>\n",
       "      <td>9.0</td>\n",
       "      <td>14.0</td>\n",
       "      <td>16.0</td>\n",
       "      <td>16.0</td>\n",
       "      <td>2.0</td>\n",
       "      <td>0.0</td>\n",
       "    </tr>\n",
       "    <tr>\n",
       "      <th>1459</th>\n",
       "      <td>0.0</td>\n",
       "      <td>0.0</td>\n",
       "      <td>1.0</td>\n",
       "      <td>13.0</td>\n",
       "      <td>16.0</td>\n",
       "      <td>10.0</td>\n",
       "      <td>0.0</td>\n",
       "      <td>0.0</td>\n",
       "      <td>0.0</td>\n",
       "      <td>0.0</td>\n",
       "      <td>...</td>\n",
       "      <td>0.0</td>\n",
       "      <td>0.0</td>\n",
       "      <td>0.0</td>\n",
       "      <td>0.0</td>\n",
       "      <td>1.0</td>\n",
       "      <td>15.0</td>\n",
       "      <td>7.0</td>\n",
       "      <td>0.0</td>\n",
       "      <td>0.0</td>\n",
       "      <td>0.0</td>\n",
       "    </tr>\n",
       "    <tr>\n",
       "      <th>1126</th>\n",
       "      <td>0.0</td>\n",
       "      <td>0.0</td>\n",
       "      <td>1.0</td>\n",
       "      <td>12.0</td>\n",
       "      <td>11.0</td>\n",
       "      <td>1.0</td>\n",
       "      <td>0.0</td>\n",
       "      <td>0.0</td>\n",
       "      <td>0.0</td>\n",
       "      <td>0.0</td>\n",
       "      <td>...</td>\n",
       "      <td>0.0</td>\n",
       "      <td>0.0</td>\n",
       "      <td>0.0</td>\n",
       "      <td>0.0</td>\n",
       "      <td>2.0</td>\n",
       "      <td>11.0</td>\n",
       "      <td>13.0</td>\n",
       "      <td>1.0</td>\n",
       "      <td>0.0</td>\n",
       "      <td>0.0</td>\n",
       "    </tr>\n",
       "  </tbody>\n",
       "</table>\n",
       "<p>1203 rows × 64 columns</p>\n",
       "</div>"
      ],
      "text/plain": [
       "      pixel_0_0  pixel_0_1  pixel_0_2  pixel_0_3  pixel_0_4  pixel_0_5  \\\n",
       "428         0.0        0.0        0.0        1.0       12.0        7.0   \n",
       "1357        0.0        0.0        1.0       15.0       15.0        2.0   \n",
       "1185        0.0        1.0       12.0       15.0       16.0       13.0   \n",
       "31          0.0        0.0        2.0       13.0        8.0        0.0   \n",
       "1603        0.0        2.0       11.0       14.0       14.0        9.0   \n",
       "...         ...        ...        ...        ...        ...        ...   \n",
       "1130        0.0        1.0       13.0       16.0       16.0       12.0   \n",
       "1294        0.0        3.0       15.0       16.0       15.0        3.0   \n",
       "860         0.0        0.0        9.0       16.0       16.0       13.0   \n",
       "1459        0.0        0.0        1.0       13.0       16.0       10.0   \n",
       "1126        0.0        0.0        1.0       12.0       11.0        1.0   \n",
       "\n",
       "      pixel_0_6  pixel_0_7  pixel_1_0  pixel_1_1  ...  pixel_6_6  pixel_6_7  \\\n",
       "428         0.0        0.0        0.0        0.0  ...        0.0        0.0   \n",
       "1357        0.0        0.0        0.0        0.0  ...        0.0        0.0   \n",
       "1185        1.0        0.0        0.0        4.0  ...        0.0        0.0   \n",
       "31          0.0        0.0        0.0        0.0  ...       16.0        2.0   \n",
       "1603        0.0        0.0        0.0        3.0  ...        0.0        0.0   \n",
       "...         ...        ...        ...        ...  ...        ...        ...   \n",
       "1130        1.0        0.0        0.0       12.0  ...        9.0        0.0   \n",
       "1294        0.0        0.0        0.0        3.0  ...        0.0        0.0   \n",
       "860         1.0        0.0        0.0        0.0  ...        0.0        0.0   \n",
       "1459        0.0        0.0        0.0        0.0  ...        0.0        0.0   \n",
       "1126        0.0        0.0        0.0        0.0  ...        0.0        0.0   \n",
       "\n",
       "      pixel_7_0  pixel_7_1  pixel_7_2  pixel_7_3  pixel_7_4  pixel_7_5  \\\n",
       "428         0.0        0.0        0.0        3.0       15.0       13.0   \n",
       "1357        0.0        0.0        1.0       14.0       16.0        7.0   \n",
       "1185        0.0        2.0       13.0       16.0       10.0        0.0   \n",
       "31          0.0        0.0        2.0       15.0       13.0       14.0   \n",
       "1603        0.0        1.0       15.0       13.0        1.0        0.0   \n",
       "...         ...        ...        ...        ...        ...        ...   \n",
       "1130        0.0        1.0       14.0       16.0       16.0       11.0   \n",
       "1294        0.0        3.0       16.0        5.0        0.0        0.0   \n",
       "860         0.0        0.0        9.0       14.0       16.0       16.0   \n",
       "1459        0.0        0.0        1.0       15.0        7.0        0.0   \n",
       "1126        0.0        0.0        2.0       11.0       13.0        1.0   \n",
       "\n",
       "      pixel_7_6  pixel_7_7  \n",
       "428         0.0        0.0  \n",
       "1357        0.0        0.0  \n",
       "1185        0.0        0.0  \n",
       "31         13.0        2.0  \n",
       "1603        0.0        0.0  \n",
       "...         ...        ...  \n",
       "1130        1.0        0.0  \n",
       "1294        0.0        0.0  \n",
       "860         2.0        0.0  \n",
       "1459        0.0        0.0  \n",
       "1126        0.0        0.0  \n",
       "\n",
       "[1203 rows x 64 columns]"
      ]
     },
     "execution_count": 27,
     "metadata": {},
     "output_type": "execute_result"
    }
   ],
   "source": [
    "X_train"
   ]
  },
  {
   "cell_type": "code",
   "execution_count": 28,
   "id": "6e3467c6",
   "metadata": {},
   "outputs": [
    {
     "data": {
      "text/plain": [
       "(1203, 64)"
      ]
     },
     "execution_count": 28,
     "metadata": {},
     "output_type": "execute_result"
    }
   ],
   "source": [
    "X_train.shape"
   ]
  },
  {
   "cell_type": "code",
   "execution_count": 29,
   "id": "ada3fdde",
   "metadata": {},
   "outputs": [
    {
     "data": {
      "text/plain": [
       "(594, 64)"
      ]
     },
     "execution_count": 29,
     "metadata": {},
     "output_type": "execute_result"
    }
   ],
   "source": [
    "X_test.shape"
   ]
  },
  {
   "cell_type": "code",
   "execution_count": 30,
   "id": "f7d49be4",
   "metadata": {},
   "outputs": [
    {
     "data": {
      "text/plain": [
       "1245    6\n",
       "220     9\n",
       "1518    3\n",
       "438     7\n",
       "1270    2\n",
       "       ..\n",
       "18      8\n",
       "423     9\n",
       "1278    4\n",
       "285     9\n",
       "1425    0\n",
       "Name: target_output, Length: 594, dtype: int32"
      ]
     },
     "execution_count": 30,
     "metadata": {},
     "output_type": "execute_result"
    }
   ],
   "source": [
    "y_test"
   ]
  },
  {
   "cell_type": "code",
   "execution_count": 31,
   "id": "e341231d",
   "metadata": {},
   "outputs": [
    {
     "data": {
      "text/plain": [
       "428     1\n",
       "1357    1\n",
       "1185    8\n",
       "31      9\n",
       "1603    3\n",
       "       ..\n",
       "1130    3\n",
       "1294    7\n",
       "860     2\n",
       "1459    7\n",
       "1126    1\n",
       "Name: target_output, Length: 1203, dtype: int32"
      ]
     },
     "execution_count": 31,
     "metadata": {},
     "output_type": "execute_result"
    }
   ],
   "source": [
    "y_train"
   ]
  },
  {
   "cell_type": "code",
   "execution_count": 32,
   "id": "f0ab523c",
   "metadata": {},
   "outputs": [],
   "source": [
    "model=LogisticRegression() #object"
   ]
  },
  {
   "cell_type": "code",
   "execution_count": 33,
   "id": "bad0c901",
   "metadata": {},
   "outputs": [
    {
     "name": "stderr",
     "output_type": "stream",
     "text": [
      "C:\\Users\\Comp\\anaconda3\\lib\\site-packages\\sklearn\\linear_model\\_logistic.py:814: ConvergenceWarning: lbfgs failed to converge (status=1):\n",
      "STOP: TOTAL NO. of ITERATIONS REACHED LIMIT.\n",
      "\n",
      "Increase the number of iterations (max_iter) or scale the data as shown in:\n",
      "    https://scikit-learn.org/stable/modules/preprocessing.html\n",
      "Please also refer to the documentation for alternative solver options:\n",
      "    https://scikit-learn.org/stable/modules/linear_model.html#logistic-regression\n",
      "  n_iter_i = _check_optimize_result(\n"
     ]
    },
    {
     "data": {
      "text/plain": [
       "LogisticRegression()"
      ]
     },
     "execution_count": 33,
     "metadata": {},
     "output_type": "execute_result"
    }
   ],
   "source": [
    "model.fit(X_train,y_train) # by default it takes only 999 samples not above\n",
    "#to increase use max_iter=2000"
   ]
  },
  {
   "cell_type": "code",
   "execution_count": 34,
   "id": "69d2648f",
   "metadata": {},
   "outputs": [],
   "source": [
    "model=LogisticRegression(max_iter=2000) # for maximum number of samples"
   ]
  },
  {
   "cell_type": "code",
   "execution_count": 35,
   "id": "26517936",
   "metadata": {},
   "outputs": [
    {
     "name": "stderr",
     "output_type": "stream",
     "text": [
      "C:\\Users\\Comp\\anaconda3\\lib\\site-packages\\sklearn\\linear_model\\_logistic.py:814: ConvergenceWarning: lbfgs failed to converge (status=1):\n",
      "STOP: TOTAL NO. of ITERATIONS REACHED LIMIT.\n",
      "\n",
      "Increase the number of iterations (max_iter) or scale the data as shown in:\n",
      "    https://scikit-learn.org/stable/modules/preprocessing.html\n",
      "Please also refer to the documentation for alternative solver options:\n",
      "    https://scikit-learn.org/stable/modules/linear_model.html#logistic-regression\n",
      "  n_iter_i = _check_optimize_result(\n"
     ]
    },
    {
     "data": {
      "text/plain": [
       "LogisticRegression(max_iter=2000)"
      ]
     },
     "execution_count": 35,
     "metadata": {},
     "output_type": "execute_result"
    }
   ],
   "source": [
    "model.fit(X_train,y_train)"
   ]
  },
  {
   "cell_type": "code",
   "execution_count": 36,
   "id": "9ecd3665",
   "metadata": {},
   "outputs": [
    {
     "data": {
      "text/plain": [
       "0.9730639730639731"
      ]
     },
     "execution_count": 36,
     "metadata": {},
     "output_type": "execute_result"
    }
   ],
   "source": [
    "model.score(X_test,y_test) # 97 accuracy beceuse dataset is already sorted"
   ]
  },
  {
   "cell_type": "code",
   "execution_count": 37,
   "id": "e9ae3fa4",
   "metadata": {},
   "outputs": [],
   "source": [
    "y_pred=model.predict(X_test)"
   ]
  },
  {
   "cell_type": "code",
   "execution_count": 38,
   "id": "89f98252",
   "metadata": {
    "scrolled": true
   },
   "outputs": [
    {
     "name": "stderr",
     "output_type": "stream",
     "text": [
      "C:\\Users\\Comp\\anaconda3\\lib\\site-packages\\sklearn\\base.py:450: UserWarning: X does not have valid feature names, but LogisticRegression was fitted with feature names\n",
      "  warnings.warn(\n"
     ]
    },
    {
     "data": {
      "text/plain": [
       "array([1])"
      ]
     },
     "execution_count": 38,
     "metadata": {},
     "output_type": "execute_result"
    }
   ],
   "source": [
    "model.predict(digits.data[1500].reshape(1,-1))"
   ]
  },
  {
   "cell_type": "code",
   "execution_count": 39,
   "id": "a554d6e2",
   "metadata": {},
   "outputs": [],
   "source": [
    "import seaborn as sns"
   ]
  },
  {
   "cell_type": "code",
   "execution_count": 40,
   "id": "04f41f35",
   "metadata": {},
   "outputs": [
    {
     "data": {
      "text/plain": [
       "<AxesSubplot:>"
      ]
     },
     "execution_count": 40,
     "metadata": {},
     "output_type": "execute_result"
    },
    {
     "data": {
      "image/png": "[encoded data removed]",
      "text/plain": [
       "<Figure size 432x288 with 2 Axes>"
      ]
     },
     "metadata": {
      "needs_background": "light"
     },
     "output_type": "display_data"
    }
   ],
   "source": [
    "cm=confusion_matrix(y_test,y_pred)\n",
    "sns.heatmap(cm,annot=True)\n"
   ]
  },
  {
   "cell_type": "code",
   "execution_count": 41,
   "id": "cc914749",
   "metadata": {},
   "outputs": [],
   "source": [
    "from sklearn.tree import DecisionTreeClassifier"
   ]
  },
  {
   "cell_type": "code",
   "execution_count": 42,
   "id": "a6042dca",
   "metadata": {},
   "outputs": [],
   "source": [
    "model=DecisionTreeClassifier()"
   ]
  },
  {
   "cell_type": "code",
   "execution_count": 43,
   "id": "e9e03145",
   "metadata": {},
   "outputs": [
    {
     "data": {
      "text/plain": [
       "DecisionTreeClassifier()"
      ]
     },
     "execution_count": 43,
     "metadata": {},
     "output_type": "execute_result"
    }
   ],
   "source": [
    "model.fit(X_train,y_train)"
   ]
  },
  {
   "cell_type": "code",
   "execution_count": 44,
   "id": "25b32a3d",
   "metadata": {},
   "outputs": [
    {
     "data": {
      "text/plain": [
       "0.8451178451178452"
      ]
     },
     "execution_count": 44,
     "metadata": {},
     "output_type": "execute_result"
    }
   ],
   "source": [
    "model.score(X_test,y_test)"
   ]
  },
  {
   "cell_type": "code",
   "execution_count": 45,
   "id": "23839a85",
   "metadata": {},
   "outputs": [],
   "source": [
    "import matplotlib.pyplot as plt\n",
    "from sklearn import tree"
   ]
  },
  {
   "cell_type": "code",
   "execution_count": 49,
   "id": "f4433fca",
   "metadata": {},
   "outputs": [
    {
     "data": {
      "text/plain": [
       "[Text(0.28777573529411765, 0.9642857142857143, 'X[36] <= 0.5\\ngini = 0.9\\nsamples = 1203\\nvalue = [123, 127, 125, 127, 117, 109, 124, 117, 122, 112]'),\n",
       " Text(0.06102941176470588, 0.8928571428571429, 'X[42] <= 5.0\\ngini = 0.548\\nsamples = 190\\nvalue = [121, 0, 3, 1, 5, 16, 4, 0, 3, 37]'),\n",
       " Text(0.029411764705882353, 0.8214285714285714, 'X[21] <= 8.0\\ngini = 0.409\\nsamples = 49\\nvalue = [0, 0, 1, 1, 0, 11, 0, 0, 0, 36]'),\n",
       " Text(0.011764705882352941, 0.75, 'X[54] <= 9.5\\ngini = 0.292\\nsamples = 12\\nvalue = [0, 0, 1, 0, 0, 10, 0, 0, 0, 1]'),\n",
       " Text(0.0058823529411764705, 0.6785714285714286, 'gini = 0.0\\nsamples = 10\\nvalue = [0, 0, 0, 0, 0, 10, 0, 0, 0, 0]'),\n",
       " Text(0.01764705882352941, 0.6785714285714286, 'X[19] <= 13.5\\ngini = 0.5\\nsamples = 2\\nvalue = [0, 0, 1, 0, 0, 0, 0, 0, 0, 1]'),\n",
       " Text(0.011764705882352941, 0.6071428571428571, 'gini = 0.0\\nsamples = 1\\nvalue = [0, 0, 1, 0, 0, 0, 0, 0, 0, 0]'),\n",
       " Text(0.023529411764705882, 0.6071428571428571, 'gini = 0.0\\nsamples = 1\\nvalue = [0, 0, 0, 0, 0, 0, 0, 0, 0, 1]'),\n",
       " Text(0.047058823529411764, 0.75, 'X[26] <= 15.5\\ngini = 0.104\\nsamples = 37\\nvalue = [0, 0, 0, 1, 0, 1, 0, 0, 0, 35]'),\n",
       " Text(0.041176470588235294, 0.6785714285714286, 'X[9] <= 10.5\\ngini = 0.054\\nsamples = 36\\nvalue = [0, 0, 0, 1, 0, 0, 0, 0, 0, 35]'),\n",
       " Text(0.03529411764705882, 0.6071428571428571, 'gini = 0.0\\nsamples = 35\\nvalue = [0, 0, 0, 0, 0, 0, 0, 0, 0, 35]'),\n",
       " Text(0.047058823529411764, 0.6071428571428571, 'gini = 0.0\\nsamples = 1\\nvalue = [0, 0, 0, 1, 0, 0, 0, 0, 0, 0]'),\n",
       " Text(0.052941176470588235, 0.6785714285714286, 'gini = 0.0\\nsamples = 1\\nvalue = [0, 0, 0, 0, 0, 1, 0, 0, 0, 0]'),\n",
       " Text(0.09264705882352942, 0.8214285714285714, 'X[37] <= 0.5\\ngini = 0.26\\nsamples = 141\\nvalue = [121, 0, 2, 0, 5, 5, 4, 0, 3, 1]'),\n",
       " Text(0.07058823529411765, 0.75, 'X[20] <= 0.5\\ngini = 0.711\\nsamples = 11\\nvalue = [0, 0, 1, 0, 0, 4, 3, 0, 3, 0]'),\n",
       " Text(0.06470588235294118, 0.6785714285714286, 'gini = 0.0\\nsamples = 4\\nvalue = [0, 0, 0, 0, 0, 4, 0, 0, 0, 0]'),\n",
       " Text(0.07647058823529412, 0.6785714285714286, 'X[13] <= 7.0\\ngini = 0.612\\nsamples = 7\\nvalue = [0, 0, 1, 0, 0, 0, 3, 0, 3, 0]'),\n",
       " Text(0.07058823529411765, 0.6071428571428571, 'X[3] <= 14.5\\ngini = 0.375\\nsamples = 4\\nvalue = [0, 0, 1, 0, 0, 0, 3, 0, 0, 0]'),\n",
       " Text(0.06470588235294118, 0.5357142857142857, 'gini = 0.0\\nsamples = 3\\nvalue = [0, 0, 0, 0, 0, 0, 3, 0, 0, 0]'),\n",
       " Text(0.07647058823529412, 0.5357142857142857, 'gini = 0.0\\nsamples = 1\\nvalue = [0, 0, 1, 0, 0, 0, 0, 0, 0, 0]'),\n",
       " Text(0.08235294117647059, 0.6071428571428571, 'gini = 0.0\\nsamples = 3\\nvalue = [0, 0, 0, 0, 0, 0, 0, 0, 3, 0]'),\n",
       " Text(0.11470588235294117, 0.75, 'X[13] <= 1.5\\ngini = 0.132\\nsamples = 130\\nvalue = [121, 0, 1, 0, 5, 1, 1, 0, 0, 1]'),\n",
       " Text(0.1, 0.6785714285714286, 'X[41] <= 3.0\\ngini = 0.278\\nsamples = 6\\nvalue = [0, 0, 0, 0, 5, 0, 1, 0, 0, 0]'),\n",
       " Text(0.09411764705882353, 0.6071428571428571, 'gini = 0.0\\nsamples = 1\\nvalue = [0, 0, 0, 0, 0, 0, 1, 0, 0, 0]'),\n",
       " Text(0.10588235294117647, 0.6071428571428571, 'gini = 0.0\\nsamples = 5\\nvalue = [0, 0, 0, 0, 5, 0, 0, 0, 0, 0]'),\n",
       " Text(0.12941176470588237, 0.6785714285714286, 'X[34] <= 2.0\\ngini = 0.048\\nsamples = 124\\nvalue = [121, 0, 1, 0, 0, 1, 0, 0, 0, 1]'),\n",
       " Text(0.11764705882352941, 0.6071428571428571, 'X[22] <= 6.5\\ngini = 0.5\\nsamples = 2\\nvalue = [0, 0, 1, 0, 0, 0, 0, 0, 0, 1]'),\n",
       " Text(0.11176470588235295, 0.5357142857142857, 'gini = 0.0\\nsamples = 1\\nvalue = [0, 0, 1, 0, 0, 0, 0, 0, 0, 0]'),\n",
       " Text(0.12352941176470589, 0.5357142857142857, 'gini = 0.0\\nsamples = 1\\nvalue = [0, 0, 0, 0, 0, 0, 0, 0, 0, 1]'),\n",
       " Text(0.1411764705882353, 0.6071428571428571, 'X[50] <= 5.5\\ngini = 0.016\\nsamples = 122\\nvalue = [121, 0, 0, 0, 0, 1, 0, 0, 0, 0]'),\n",
       " Text(0.13529411764705881, 0.5357142857142857, 'gini = 0.0\\nsamples = 1\\nvalue = [0, 0, 0, 0, 0, 1, 0, 0, 0, 0]'),\n",
       " Text(0.14705882352941177, 0.5357142857142857, 'gini = 0.0\\nsamples = 121\\nvalue = [121, 0, 0, 0, 0, 0, 0, 0, 0, 0]'),\n",
       " Text(0.5145220588235294, 0.8928571428571429, 'X[21] <= 0.5\\ngini = 0.887\\nsamples = 1013\\nvalue = [2, 127, 122, 126, 112, 93, 120, 117, 119, 75]'),\n",
       " Text(0.2735294117647059, 0.8214285714285714, 'X[42] <= 8.5\\ngini = 0.736\\nsamples = 295\\nvalue = [0, 26, 30, 10, 19, 85, 117, 4, 3, 1]'),\n",
       " Text(0.22647058823529412, 0.75, 'X[5] <= 1.5\\ngini = 0.658\\nsamples = 156\\nvalue = [0, 22, 25, 10, 6, 84, 2, 3, 3, 1]'),\n",
       " Text(0.19411764705882353, 0.6785714285714286, 'X[10] <= 11.5\\ngini = 0.74\\nsamples = 69\\nvalue = [0, 22, 25, 10, 4, 1, 2, 2, 2, 1]'),\n",
       " Text(0.17058823529411765, 0.6071428571428571, 'X[38] <= 0.5\\ngini = 0.482\\nsamples = 30\\nvalue = [0, 21, 0, 1, 4, 0, 2, 2, 0, 0]'),\n",
       " Text(0.1588235294117647, 0.5357142857142857, 'X[28] <= 2.5\\ngini = 0.087\\nsamples = 22\\nvalue = [0, 21, 0, 0, 0, 0, 1, 0, 0, 0]'),\n",
       " Text(0.15294117647058825, 0.4642857142857143, 'gini = 0.0\\nsamples = 1\\nvalue = [0, 0, 0, 0, 0, 0, 1, 0, 0, 0]'),\n",
       " Text(0.16470588235294117, 0.4642857142857143, 'gini = 0.0\\nsamples = 21\\nvalue = [0, 21, 0, 0, 0, 0, 0, 0, 0, 0]'),\n",
       " Text(0.18235294117647058, 0.5357142857142857, 'X[25] <= 2.0\\ngini = 0.656\\nsamples = 8\\nvalue = [0, 0, 0, 1, 4, 0, 1, 2, 0, 0]'),\n",
       " Text(0.17647058823529413, 0.4642857142857143, 'X[26] <= 8.0\\ngini = 0.625\\nsamples = 4\\nvalue = [0, 0, 0, 1, 0, 0, 1, 2, 0, 0]'),\n",
       " Text(0.17058823529411765, 0.39285714285714285, 'gini = 0.0\\nsamples = 2\\nvalue = [0, 0, 0, 0, 0, 0, 0, 2, 0, 0]'),\n",
       " Text(0.18235294117647058, 0.39285714285714285, 'X[60] <= 13.5\\ngini = 0.5\\nsamples = 2\\nvalue = [0, 0, 0, 1, 0, 0, 1, 0, 0, 0]'),\n",
       " Text(0.17647058823529413, 0.32142857142857145, 'gini = 0.0\\nsamples = 1\\nvalue = [0, 0, 0, 1, 0, 0, 0, 0, 0, 0]'),\n",
       " Text(0.18823529411764706, 0.32142857142857145, 'gini = 0.0\\nsamples = 1\\nvalue = [0, 0, 0, 0, 0, 0, 1, 0, 0, 0]'),\n",
       " Text(0.18823529411764706, 0.4642857142857143, 'gini = 0.0\\nsamples = 4\\nvalue = [0, 0, 0, 0, 4, 0, 0, 0, 0, 0]'),\n",
       " Text(0.21764705882352942, 0.6071428571428571, 'X[37] <= 4.0\\ngini = 0.531\\nsamples = 39\\nvalue = [0, 1, 25, 9, 0, 1, 0, 0, 2, 1]'),\n",
       " Text(0.20588235294117646, 0.5357142857142857, 'X[26] <= 12.5\\ngini = 0.14\\nsamples = 27\\nvalue = [0, 1, 25, 0, 0, 0, 0, 0, 1, 0]'),\n",
       " Text(0.2, 0.4642857142857143, 'gini = 0.0\\nsamples = 25\\nvalue = [0, 0, 25, 0, 0, 0, 0, 0, 0, 0]'),\n",
       " Text(0.21176470588235294, 0.4642857142857143, 'X[61] <= 7.0\\ngini = 0.5\\nsamples = 2\\nvalue = [0, 1, 0, 0, 0, 0, 0, 0, 1, 0]'),\n",
       " Text(0.20588235294117646, 0.39285714285714285, 'gini = 0.0\\nsamples = 1\\nvalue = [0, 1, 0, 0, 0, 0, 0, 0, 0, 0]'),\n",
       " Text(0.21764705882352942, 0.39285714285714285, 'gini = 0.0\\nsamples = 1\\nvalue = [0, 0, 0, 0, 0, 0, 0, 0, 1, 0]'),\n",
       " Text(0.22941176470588234, 0.5357142857142857, 'X[54] <= 9.5\\ngini = 0.417\\nsamples = 12\\nvalue = [0, 0, 0, 9, 0, 1, 0, 0, 1, 1]'),\n",
       " Text(0.2235294117647059, 0.4642857142857143, 'gini = 0.0\\nsamples = 9\\nvalue = [0, 0, 0, 9, 0, 0, 0, 0, 0, 0]'),\n",
       " Text(0.23529411764705882, 0.4642857142857143, 'X[53] <= 9.5\\ngini = 0.667\\nsamples = 3\\nvalue = [0, 0, 0, 0, 0, 1, 0, 0, 1, 1]'),\n",
       " Text(0.22941176470588234, 0.39285714285714285, 'gini = 0.0\\nsamples = 1\\nvalue = [0, 0, 0, 0, 0, 0, 0, 0, 0, 1]'),\n",
       " Text(0.2411764705882353, 0.39285714285714285, 'X[10] <= 14.5\\ngini = 0.5\\nsamples = 2\\nvalue = [0, 0, 0, 0, 0, 1, 0, 0, 1, 0]'),\n",
       " Text(0.23529411764705882, 0.32142857142857145, 'gini = 0.0\\nsamples = 1\\nvalue = [0, 0, 0, 0, 0, 1, 0, 0, 0, 0]'),\n",
       " Text(0.24705882352941178, 0.32142857142857145, 'gini = 0.0\\nsamples = 1\\nvalue = [0, 0, 0, 0, 0, 0, 0, 0, 1, 0]'),\n",
       " Text(0.25882352941176473, 0.6785714285714286, 'X[58] <= 0.5\\ngini = 0.089\\nsamples = 87\\nvalue = [0, 0, 0, 0, 2, 83, 0, 1, 1, 0]'),\n",
       " Text(0.24705882352941178, 0.6071428571428571, 'X[6] <= 3.5\\ngini = 0.625\\nsamples = 4\\nvalue = [0, 0, 0, 0, 2, 1, 0, 1, 0, 0]'),\n",
       " Text(0.2411764705882353, 0.5357142857142857, 'gini = 0.0\\nsamples = 2\\nvalue = [0, 0, 0, 0, 2, 0, 0, 0, 0, 0]'),\n",
       " Text(0.2529411764705882, 0.5357142857142857, 'X[23] <= 2.5\\ngini = 0.5\\nsamples = 2\\nvalue = [0, 0, 0, 0, 0, 1, 0, 1, 0, 0]'),\n",
       " Text(0.24705882352941178, 0.4642857142857143, 'gini = 0.0\\nsamples = 1\\nvalue = [0, 0, 0, 0, 0, 1, 0, 0, 0, 0]'),\n",
       " Text(0.25882352941176473, 0.4642857142857143, 'gini = 0.0\\nsamples = 1\\nvalue = [0, 0, 0, 0, 0, 0, 0, 1, 0, 0]'),\n",
       " Text(0.27058823529411763, 0.6071428571428571, 'X[20] <= 13.0\\ngini = 0.024\\nsamples = 83\\nvalue = [0, 0, 0, 0, 0, 82, 0, 0, 1, 0]'),\n",
       " Text(0.2647058823529412, 0.5357142857142857, 'gini = 0.0\\nsamples = 82\\nvalue = [0, 0, 0, 0, 0, 82, 0, 0, 0, 0]'),\n",
       " Text(0.27647058823529413, 0.5357142857142857, 'gini = 0.0\\nsamples = 1\\nvalue = [0, 0, 0, 0, 0, 0, 0, 0, 1, 0]'),\n",
       " Text(0.3205882352941177, 0.75, 'X[54] <= 1.5\\ngini = 0.305\\nsamples = 139\\nvalue = [0, 4, 5, 0, 13, 1, 115, 1, 0, 0]'),\n",
       " Text(0.3058823529411765, 0.6785714285714286, 'X[10] <= 4.5\\ngini = 0.689\\nsamples = 27\\nvalue = [0, 4, 2, 0, 13, 1, 6, 1, 0, 0]'),\n",
       " Text(0.29411764705882354, 0.6071428571428571, 'X[34] <= 11.5\\ngini = 0.133\\nsamples = 14\\nvalue = [0, 0, 0, 0, 13, 0, 1, 0, 0, 0]'),\n",
       " Text(0.28823529411764703, 0.5357142857142857, 'gini = 0.0\\nsamples = 1\\nvalue = [0, 0, 0, 0, 0, 0, 1, 0, 0, 0]'),\n",
       " Text(0.3, 0.5357142857142857, 'gini = 0.0\\nsamples = 13\\nvalue = [0, 0, 0, 0, 13, 0, 0, 0, 0, 0]'),\n",
       " Text(0.3176470588235294, 0.6071428571428571, 'X[28] <= 9.5\\ngini = 0.722\\nsamples = 13\\nvalue = [0, 4, 2, 0, 0, 1, 5, 1, 0, 0]'),\n",
       " Text(0.31176470588235294, 0.5357142857142857, 'gini = 0.0\\nsamples = 5\\nvalue = [0, 0, 0, 0, 0, 0, 5, 0, 0, 0]'),\n",
       " Text(0.3235294117647059, 0.5357142857142857, 'X[17] <= 1.0\\ngini = 0.656\\nsamples = 8\\nvalue = [0, 4, 2, 0, 0, 1, 0, 1, 0, 0]'),\n",
       " Text(0.3176470588235294, 0.4642857142857143, 'gini = 0.0\\nsamples = 4\\nvalue = [0, 4, 0, 0, 0, 0, 0, 0, 0, 0]'),\n",
       " Text(0.32941176470588235, 0.4642857142857143, 'X[41] <= 0.5\\ngini = 0.625\\nsamples = 4\\nvalue = [0, 0, 2, 0, 0, 1, 0, 1, 0, 0]'),\n",
       " Text(0.3235294117647059, 0.39285714285714285, 'gini = 0.0\\nsamples = 2\\nvalue = [0, 0, 2, 0, 0, 0, 0, 0, 0, 0]'),\n",
       " Text(0.3352941176470588, 0.39285714285714285, 'X[26] <= 8.5\\ngini = 0.5\\nsamples = 2\\nvalue = [0, 0, 0, 0, 0, 1, 0, 1, 0, 0]'),\n",
       " Text(0.32941176470588235, 0.32142857142857145, 'gini = 0.0\\nsamples = 1\\nvalue = [0, 0, 0, 0, 0, 0, 0, 1, 0, 0]'),\n",
       " Text(0.3411764705882353, 0.32142857142857145, 'gini = 0.0\\nsamples = 1\\nvalue = [0, 0, 0, 0, 0, 1, 0, 0, 0, 0]'),\n",
       " Text(0.3352941176470588, 0.6785714285714286, 'X[59] <= 15.5\\ngini = 0.052\\nsamples = 112\\nvalue = [0, 0, 3, 0, 0, 0, 109, 0, 0, 0]'),\n",
       " Text(0.32941176470588235, 0.6071428571428571, 'gini = 0.0\\nsamples = 109\\nvalue = [0, 0, 0, 0, 0, 0, 109, 0, 0, 0]'),\n",
       " Text(0.3411764705882353, 0.6071428571428571, 'gini = 0.0\\nsamples = 3\\nvalue = [0, 0, 3, 0, 0, 0, 0, 0, 0, 0]'),\n",
       " Text(0.7555147058823529, 0.8214285714285714, 'X[33] <= 4.5\\ngini = 0.859\\nsamples = 718\\nvalue = [2, 101, 92, 116, 93, 8, 3, 113, 116, 74]'),\n",
       " Text(0.5669117647058823, 0.75, 'X[60] <= 7.5\\ngini = 0.842\\nsamples = 615\\nvalue = [2, 95, 92, 115, 12, 8, 1, 102, 114, 74]'),\n",
       " Text(0.4323529411764706, 0.6785714285714286, 'X[53] <= 3.5\\ngini = 0.503\\nsamples = 137\\nvalue = [0, 5, 3, 8, 5, 3, 0, 95, 8, 10]'),\n",
       " Text(0.38823529411764707, 0.6071428571428571, 'X[37] <= 0.5\\ngini = 0.334\\nsamples = 117\\nvalue = [0, 2, 0, 4, 5, 1, 0, 95, 4, 6]'),\n",
       " Text(0.34705882352941175, 0.5357142857142857, 'X[4] <= 6.0\\ngini = 0.824\\nsamples = 17\\nvalue = [0, 2, 0, 3, 3, 0, 0, 4, 3, 2]'),\n",
       " Text(0.3411764705882353, 0.4642857142857143, 'gini = 0.0\\nsamples = 3\\nvalue = [0, 0, 0, 0, 3, 0, 0, 0, 0, 0]'),\n",
       " Text(0.35294117647058826, 0.4642857142857143, 'X[52] <= 2.0\\ngini = 0.786\\nsamples = 14\\nvalue = [0, 2, 0, 3, 0, 0, 0, 4, 3, 2]'),\n",
       " Text(0.34705882352941175, 0.39285714285714285, 'gini = 0.0\\nsamples = 4\\nvalue = [0, 0, 0, 0, 0, 0, 0, 4, 0, 0]'),\n",
       " Text(0.3588235294117647, 0.39285714285714285, 'X[26] <= 3.5\\ngini = 0.74\\nsamples = 10\\nvalue = [0, 2, 0, 3, 0, 0, 0, 0, 3, 2]'),\n",
       " Text(0.35294117647058826, 0.32142857142857145, 'gini = 0.0\\nsamples = 3\\nvalue = [0, 0, 0, 3, 0, 0, 0, 0, 0, 0]'),\n",
       " Text(0.36470588235294116, 0.32142857142857145, 'X[19] <= 6.0\\ngini = 0.653\\nsamples = 7\\nvalue = [0, 2, 0, 0, 0, 0, 0, 0, 3, 2]'),\n",
       " Text(0.3588235294117647, 0.25, 'gini = 0.0\\nsamples = 3\\nvalue = [0, 0, 0, 0, 0, 0, 0, 0, 3, 0]'),\n",
       " Text(0.37058823529411766, 0.25, 'X[17] <= 1.5\\ngini = 0.5\\nsamples = 4\\nvalue = [0, 2, 0, 0, 0, 0, 0, 0, 0, 2]'),\n",
       " Text(0.36470588235294116, 0.17857142857142858, 'gini = 0.0\\nsamples = 2\\nvalue = [0, 2, 0, 0, 0, 0, 0, 0, 0, 0]'),\n",
       " Text(0.3764705882352941, 0.17857142857142858, 'gini = 0.0\\nsamples = 2\\nvalue = [0, 0, 0, 0, 0, 0, 0, 0, 0, 2]'),\n",
       " Text(0.4294117647058823, 0.5357142857142857, 'X[17] <= 7.0\\ngini = 0.17\\nsamples = 100\\nvalue = [0, 0, 0, 1, 2, 1, 0, 91, 1, 4]'),\n",
       " Text(0.4117647058823529, 0.4642857142857143, 'X[57] <= 0.5\\ngini = 0.101\\nsamples = 96\\nvalue = [0, 0, 0, 1, 1, 1, 0, 91, 1, 1]'),\n",
       " Text(0.3941176470588235, 0.39285714285714285, 'X[25] <= 3.5\\ngini = 0.043\\nsamples = 91\\nvalue = [0, 0, 0, 0, 1, 0, 0, 89, 0, 1]'),\n",
       " Text(0.38823529411764707, 0.32142857142857145, 'gini = 0.0\\nsamples = 85\\nvalue = [0, 0, 0, 0, 0, 0, 0, 85, 0, 0]'),\n",
       " Text(0.4, 0.32142857142857145, 'X[58] <= 0.5\\ngini = 0.5\\nsamples = 6\\nvalue = [0, 0, 0, 0, 1, 0, 0, 4, 0, 1]'),\n",
       " Text(0.3941176470588235, 0.25, 'X[52] <= 6.0\\ngini = 0.5\\nsamples = 2\\nvalue = [0, 0, 0, 0, 1, 0, 0, 0, 0, 1]'),\n",
       " Text(0.38823529411764707, 0.17857142857142858, 'gini = 0.0\\nsamples = 1\\nvalue = [0, 0, 0, 0, 1, 0, 0, 0, 0, 0]'),\n",
       " Text(0.4, 0.17857142857142858, 'gini = 0.0\\nsamples = 1\\nvalue = [0, 0, 0, 0, 0, 0, 0, 0, 0, 1]'),\n",
       " Text(0.40588235294117647, 0.25, 'gini = 0.0\\nsamples = 4\\nvalue = [0, 0, 0, 0, 0, 0, 0, 4, 0, 0]'),\n",
       " Text(0.4294117647058823, 0.39285714285714285, 'X[43] <= 10.5\\ngini = 0.72\\nsamples = 5\\nvalue = [0, 0, 0, 1, 0, 1, 0, 2, 1, 0]'),\n",
       " Text(0.4235294117647059, 0.32142857142857145, 'X[19] <= 5.5\\ngini = 0.667\\nsamples = 3\\nvalue = [0, 0, 0, 1, 0, 1, 0, 0, 1, 0]'),\n",
       " Text(0.4176470588235294, 0.25, 'gini = 0.0\\nsamples = 1\\nvalue = [0, 0, 0, 1, 0, 0, 0, 0, 0, 0]'),\n",
       " Text(0.4294117647058823, 0.25, 'X[3] <= 10.5\\ngini = 0.5\\nsamples = 2\\nvalue = [0, 0, 0, 0, 0, 1, 0, 0, 1, 0]'),\n",
       " Text(0.4235294117647059, 0.17857142857142858, 'gini = 0.0\\nsamples = 1\\nvalue = [0, 0, 0, 0, 0, 1, 0, 0, 0, 0]'),\n",
       " Text(0.43529411764705883, 0.17857142857142858, 'gini = 0.0\\nsamples = 1\\nvalue = [0, 0, 0, 0, 0, 0, 0, 0, 1, 0]'),\n",
       " Text(0.43529411764705883, 0.32142857142857145, 'gini = 0.0\\nsamples = 2\\nvalue = [0, 0, 0, 0, 0, 0, 0, 2, 0, 0]'),\n",
       " Text(0.4470588235294118, 0.4642857142857143, 'X[19] <= 1.0\\ngini = 0.375\\nsamples = 4\\nvalue = [0, 0, 0, 0, 1, 0, 0, 0, 0, 3]'),\n",
       " Text(0.4411764705882353, 0.39285714285714285, 'gini = 0.0\\nsamples = 3\\nvalue = [0, 0, 0, 0, 0, 0, 0, 0, 0, 3]'),\n",
       " Text(0.45294117647058824, 0.39285714285714285, 'gini = 0.0\\nsamples = 1\\nvalue = [0, 0, 0, 0, 1, 0, 0, 0, 0, 0]'),\n",
       " Text(0.4764705882352941, 0.6071428571428571, 'X[44] <= 6.5\\ngini = 0.825\\nsamples = 20\\nvalue = [0, 3, 3, 4, 0, 2, 0, 0, 4, 4]'),\n",
       " Text(0.4647058823529412, 0.5357142857142857, 'X[19] <= 12.5\\ngini = 0.32\\nsamples = 5\\nvalue = [0, 1, 0, 0, 0, 0, 0, 0, 0, 4]'),\n",
       " Text(0.4588235294117647, 0.4642857142857143, 'gini = 0.0\\nsamples = 4\\nvalue = [0, 0, 0, 0, 0, 0, 0, 0, 0, 4]'),\n",
       " Text(0.47058823529411764, 0.4642857142857143, 'gini = 0.0\\nsamples = 1\\nvalue = [0, 1, 0, 0, 0, 0, 0, 0, 0, 0]'),\n",
       " Text(0.48823529411764705, 0.5357142857142857, 'X[4] <= 10.5\\ngini = 0.782\\nsamples = 15\\nvalue = [0, 2, 3, 4, 0, 2, 0, 0, 4, 0]'),\n",
       " Text(0.4823529411764706, 0.4642857142857143, 'X[27] <= 5.0\\ngini = 0.727\\nsamples = 11\\nvalue = [0, 2, 3, 0, 0, 2, 0, 0, 4, 0]'),\n",
       " Text(0.4764705882352941, 0.39285714285714285, 'gini = 0.0\\nsamples = 3\\nvalue = [0, 0, 3, 0, 0, 0, 0, 0, 0, 0]'),\n",
       " Text(0.48823529411764705, 0.39285714285714285, 'X[50] <= 8.5\\ngini = 0.625\\nsamples = 8\\nvalue = [0, 2, 0, 0, 0, 2, 0, 0, 4, 0]'),\n",
       " Text(0.4823529411764706, 0.32142857142857145, 'X[11] <= 8.0\\ngini = 0.5\\nsamples = 4\\nvalue = [0, 2, 0, 0, 0, 2, 0, 0, 0, 0]'),\n",
       " Text(0.4764705882352941, 0.25, 'gini = 0.0\\nsamples = 2\\nvalue = [0, 2, 0, 0, 0, 0, 0, 0, 0, 0]'),\n",
       " Text(0.48823529411764705, 0.25, 'gini = 0.0\\nsamples = 2\\nvalue = [0, 0, 0, 0, 0, 2, 0, 0, 0, 0]'),\n",
       " Text(0.49411764705882355, 0.32142857142857145, 'gini = 0.0\\nsamples = 4\\nvalue = [0, 0, 0, 0, 0, 0, 0, 0, 4, 0]'),\n",
       " Text(0.49411764705882355, 0.4642857142857143, 'gini = 0.0\\nsamples = 4\\nvalue = [0, 0, 0, 4, 0, 0, 0, 0, 0, 0]'),\n",
       " Text(0.7014705882352941, 0.6785714285714286, 'X[43] <= 2.5\\ngini = 0.812\\nsamples = 478\\nvalue = [2, 90, 89, 107, 7, 5, 1, 7, 106, 64]'),\n",
       " Text(0.6022058823529411, 0.6071428571428571, 'X[29] <= 12.5\\ngini = 0.669\\nsamples = 204\\nvalue = [0, 19, 6, 97, 1, 5, 0, 0, 15, 61]'),\n",
       " Text(0.5602941176470588, 0.5357142857142857, 'X[34] <= 3.5\\ngini = 0.393\\nsamples = 121\\nvalue = [0, 4, 1, 93, 0, 3, 0, 0, 13, 7]'),\n",
       " Text(0.5323529411764706, 0.4642857142857143, 'X[26] <= 8.5\\ngini = 0.153\\nsamples = 99\\nvalue = [0, 2, 1, 91, 0, 3, 0, 0, 0, 2]'),\n",
       " Text(0.5176470588235295, 0.39285714285714285, 'X[63] <= 3.5\\ngini = 0.062\\nsamples = 94\\nvalue = [0, 1, 1, 91, 0, 0, 0, 0, 0, 1]'),\n",
       " Text(0.5058823529411764, 0.32142857142857145, 'X[4] <= 7.5\\ngini = 0.022\\nsamples = 92\\nvalue = [0, 0, 0, 91, 0, 0, 0, 0, 0, 1]'),\n",
       " Text(0.5, 0.25, 'X[45] <= 10.0\\ngini = 0.375\\nsamples = 4\\nvalue = [0, 0, 0, 3, 0, 0, 0, 0, 0, 1]'),\n",
       " Text(0.49411764705882355, 0.17857142857142858, 'gini = 0.0\\nsamples = 1\\nvalue = [0, 0, 0, 0, 0, 0, 0, 0, 0, 1]'),\n",
       " Text(0.5058823529411764, 0.17857142857142858, 'gini = 0.0\\nsamples = 3\\nvalue = [0, 0, 0, 3, 0, 0, 0, 0, 0, 0]'),\n",
       " Text(0.5117647058823529, 0.25, 'gini = 0.0\\nsamples = 88\\nvalue = [0, 0, 0, 88, 0, 0, 0, 0, 0, 0]'),\n",
       " Text(0.5294117647058824, 0.32142857142857145, 'X[25] <= 2.5\\ngini = 0.5\\nsamples = 2\\nvalue = [0, 1, 1, 0, 0, 0, 0, 0, 0, 0]'),\n",
       " Text(0.5235294117647059, 0.25, 'gini = 0.0\\nsamples = 1\\nvalue = [0, 1, 0, 0, 0, 0, 0, 0, 0, 0]'),\n",
       " Text(0.5352941176470588, 0.25, 'gini = 0.0\\nsamples = 1\\nvalue = [0, 0, 1, 0, 0, 0, 0, 0, 0, 0]'),\n",
       " Text(0.5470588235294118, 0.39285714285714285, 'X[36] <= 13.5\\ngini = 0.56\\nsamples = 5\\nvalue = [0, 1, 0, 0, 0, 3, 0, 0, 0, 1]'),\n",
       " Text(0.5411764705882353, 0.32142857142857145, 'gini = 0.0\\nsamples = 3\\nvalue = [0, 0, 0, 0, 0, 3, 0, 0, 0, 0]'),\n",
       " Text(0.5529411764705883, 0.32142857142857145, 'X[34] <= 2.5\\ngini = 0.5\\nsamples = 2\\nvalue = [0, 1, 0, 0, 0, 0, 0, 0, 0, 1]'),\n",
       " Text(0.5470588235294118, 0.25, 'gini = 0.0\\nsamples = 1\\nvalue = [0, 1, 0, 0, 0, 0, 0, 0, 0, 0]'),\n",
       " Text(0.5588235294117647, 0.25, 'gini = 0.0\\nsamples = 1\\nvalue = [0, 0, 0, 0, 0, 0, 0, 0, 0, 1]'),\n",
       " Text(0.5882352941176471, 0.4642857142857143, 'X[42] <= 6.0\\ngini = 0.583\\nsamples = 22\\nvalue = [0, 2, 0, 2, 0, 0, 0, 0, 13, 5]'),\n",
       " Text(0.5823529411764706, 0.39285714285714285, 'X[25] <= 2.0\\ngini = 0.593\\nsamples = 9\\nvalue = [0, 2, 0, 2, 0, 0, 0, 0, 0, 5]'),\n",
       " Text(0.5764705882352941, 0.32142857142857145, 'X[36] <= 15.0\\ngini = 0.5\\nsamples = 4\\nvalue = [0, 2, 0, 2, 0, 0, 0, 0, 0, 0]'),\n",
       " Text(0.5705882352941176, 0.25, 'gini = 0.0\\nsamples = 2\\nvalue = [0, 0, 0, 2, 0, 0, 0, 0, 0, 0]'),\n",
       " Text(0.5823529411764706, 0.25, 'gini = 0.0\\nsamples = 2\\nvalue = [0, 2, 0, 0, 0, 0, 0, 0, 0, 0]'),\n",
       " Text(0.5882352941176471, 0.32142857142857145, 'gini = 0.0\\nsamples = 5\\nvalue = [0, 0, 0, 0, 0, 0, 0, 0, 0, 5]'),\n",
       " Text(0.5941176470588235, 0.39285714285714285, 'gini = 0.0\\nsamples = 13\\nvalue = [0, 0, 0, 0, 0, 0, 0, 0, 13, 0]'),\n",
       " Text(0.6441176470588236, 0.5357142857142857, 'X[44] <= 9.5\\ngini = 0.537\\nsamples = 83\\nvalue = [0, 15, 5, 4, 1, 2, 0, 0, 2, 54]'),\n",
       " Text(0.6176470588235294, 0.4642857142857143, 'X[26] <= 1.5\\ngini = 0.293\\nsamples = 61\\nvalue = [0, 3, 0, 4, 0, 2, 0, 0, 1, 51]'),\n",
       " Text(0.6058823529411764, 0.39285714285714285, 'X[19] <= 9.0\\ngini = 0.444\\nsamples = 6\\nvalue = [0, 0, 0, 4, 0, 0, 0, 0, 0, 2]'),\n",
       " Text(0.6, 0.32142857142857145, 'gini = 0.0\\nsamples = 4\\nvalue = [0, 0, 0, 4, 0, 0, 0, 0, 0, 0]'),\n",
       " Text(0.611764705882353, 0.32142857142857145, 'gini = 0.0\\nsamples = 2\\nvalue = [0, 0, 0, 0, 0, 0, 0, 0, 0, 2]'),\n",
       " Text(0.6294117647058823, 0.39285714285714285, 'X[19] <= 14.5\\ngini = 0.202\\nsamples = 55\\nvalue = [0, 3, 0, 0, 0, 2, 0, 0, 1, 49]'),\n",
       " Text(0.6235294117647059, 0.32142857142857145, 'gini = 0.0\\nsamples = 48\\nvalue = [0, 0, 0, 0, 0, 0, 0, 0, 0, 48]'),\n",
       " Text(0.6352941176470588, 0.32142857142857145, 'X[21] <= 15.5\\ngini = 0.694\\nsamples = 7\\nvalue = [0, 3, 0, 0, 0, 2, 0, 0, 1, 1]'),\n",
       " Text(0.6294117647058823, 0.25, 'X[20] <= 9.5\\ngini = 0.625\\nsamples = 4\\nvalue = [0, 0, 0, 0, 0, 2, 0, 0, 1, 1]'),\n",
       " Text(0.6235294117647059, 0.17857142857142858, 'X[41] <= 1.5\\ngini = 0.5\\nsamples = 2\\nvalue = [0, 0, 0, 0, 0, 0, 0, 0, 1, 1]'),\n",
       " Text(0.6176470588235294, 0.10714285714285714, 'gini = 0.0\\nsamples = 1\\nvalue = [0, 0, 0, 0, 0, 0, 0, 0, 0, 1]'),\n",
       " Text(0.6294117647058823, 0.10714285714285714, 'gini = 0.0\\nsamples = 1\\nvalue = [0, 0, 0, 0, 0, 0, 0, 0, 1, 0]'),\n",
       " Text(0.6352941176470588, 0.17857142857142858, 'gini = 0.0\\nsamples = 2\\nvalue = [0, 0, 0, 0, 0, 2, 0, 0, 0, 0]'),\n",
       " Text(0.6411764705882353, 0.25, 'gini = 0.0\\nsamples = 3\\nvalue = [0, 3, 0, 0, 0, 0, 0, 0, 0, 0]'),\n",
       " Text(0.6705882352941176, 0.4642857142857143, 'X[12] <= 14.0\\ngini = 0.628\\nsamples = 22\\nvalue = [0, 12, 5, 0, 1, 0, 0, 0, 1, 3]'),\n",
       " Text(0.6647058823529411, 0.39285714285714285, 'X[2] <= 3.5\\ngini = 0.64\\nsamples = 10\\nvalue = [0, 0, 5, 0, 1, 0, 0, 0, 1, 3]'),\n",
       " Text(0.6588235294117647, 0.32142857142857145, 'X[17] <= 3.5\\ngini = 0.56\\nsamples = 5\\nvalue = [0, 0, 0, 0, 1, 0, 0, 0, 1, 3]'),\n",
       " Text(0.6529411764705882, 0.25, 'X[61] <= 7.0\\ngini = 0.5\\nsamples = 2\\nvalue = [0, 0, 0, 0, 1, 0, 0, 0, 1, 0]'),\n",
       " Text(0.6470588235294118, 0.17857142857142858, 'gini = 0.0\\nsamples = 1\\nvalue = [0, 0, 0, 0, 1, 0, 0, 0, 0, 0]'),\n",
       " Text(0.6588235294117647, 0.17857142857142858, 'gini = 0.0\\nsamples = 1\\nvalue = [0, 0, 0, 0, 0, 0, 0, 0, 1, 0]'),\n",
       " Text(0.6647058823529411, 0.25, 'gini = 0.0\\nsamples = 3\\nvalue = [0, 0, 0, 0, 0, 0, 0, 0, 0, 3]'),\n",
       " Text(0.6705882352941176, 0.32142857142857145, 'gini = 0.0\\nsamples = 5\\nvalue = [0, 0, 5, 0, 0, 0, 0, 0, 0, 0]'),\n",
       " Text(0.6764705882352942, 0.39285714285714285, 'gini = 0.0\\nsamples = 12\\nvalue = [0, 12, 0, 0, 0, 0, 0, 0, 0, 0]'),\n",
       " Text(0.8007352941176471, 0.6071428571428571, 'X[27] <= 9.5\\ngini = 0.728\\nsamples = 274\\nvalue = [2, 71, 83, 10, 6, 0, 1, 7, 91, 3]'),\n",
       " Text(0.7338235294117647, 0.5357142857142857, 'X[34] <= 5.5\\ngini = 0.439\\nsamples = 99\\nvalue = [2, 0, 73, 2, 3, 0, 0, 7, 10, 2]'),\n",
       " Text(0.7058823529411765, 0.4642857142857143, 'X[20] <= 1.0\\ngini = 0.148\\nsamples = 77\\nvalue = [0, 0, 71, 2, 0, 0, 0, 2, 2, 0]'),\n",
       " Text(0.6882352941176471, 0.39285714285714285, 'X[3] <= 8.5\\ngini = 0.64\\nsamples = 5\\nvalue = [0, 0, 1, 0, 0, 0, 0, 2, 2, 0]'),\n",
       " Text(0.6823529411764706, 0.32142857142857145, 'gini = 0.0\\nsamples = 2\\nvalue = [0, 0, 0, 0, 0, 0, 0, 2, 0, 0]'),\n",
       " Text(0.6941176470588235, 0.32142857142857145, 'X[18] <= 7.0\\ngini = 0.444\\nsamples = 3\\nvalue = [0, 0, 1, 0, 0, 0, 0, 0, 2, 0]'),\n",
       " Text(0.6882352941176471, 0.25, 'gini = 0.0\\nsamples = 1\\nvalue = [0, 0, 1, 0, 0, 0, 0, 0, 0, 0]'),\n",
       " Text(0.7, 0.25, 'gini = 0.0\\nsamples = 2\\nvalue = [0, 0, 0, 0, 0, 0, 0, 0, 2, 0]'),\n",
       " Text(0.7235294117647059, 0.39285714285714285, 'X[38] <= 1.5\\ngini = 0.054\\nsamples = 72\\nvalue = [0, 0, 70, 2, 0, 0, 0, 0, 0, 0]'),\n",
       " Text(0.7176470588235294, 0.32142857142857145, 'X[61] <= 0.5\\ngini = 0.028\\nsamples = 71\\nvalue = [0, 0, 70, 1, 0, 0, 0, 0, 0, 0]'),\n",
       " Text(0.711764705882353, 0.25, 'gini = 0.0\\nsamples = 1\\nvalue = [0, 0, 0, 1, 0, 0, 0, 0, 0, 0]'),\n",
       " Text(0.7235294117647059, 0.25, 'gini = 0.0\\nsamples = 70\\nvalue = [0, 0, 70, 0, 0, 0, 0, 0, 0, 0]'),\n",
       " Text(0.7294117647058823, 0.32142857142857145, 'gini = 0.0\\nsamples = 1\\nvalue = [0, 0, 0, 1, 0, 0, 0, 0, 0, 0]'),\n",
       " Text(0.7617647058823529, 0.4642857142857143, 'X[37] <= 10.5\\ngini = 0.773\\nsamples = 22\\nvalue = [2, 0, 2, 0, 3, 0, 0, 5, 8, 2]'),\n",
       " Text(0.7470588235294118, 0.39285714285714285, 'X[52] <= 15.5\\ngini = 0.219\\nsamples = 8\\nvalue = [0, 0, 1, 0, 0, 0, 0, 0, 7, 0]'),\n",
       " Text(0.7411764705882353, 0.32142857142857145, 'gini = 0.0\\nsamples = 7\\nvalue = [0, 0, 0, 0, 0, 0, 0, 0, 7, 0]'),\n",
       " Text(0.7529411764705882, 0.32142857142857145, 'gini = 0.0\\nsamples = 1\\nvalue = [0, 0, 1, 0, 0, 0, 0, 0, 0, 0]'),\n",
       " Text(0.7764705882352941, 0.39285714285714285, 'X[26] <= 7.5\\ngini = 0.776\\nsamples = 14\\nvalue = [2, 0, 1, 0, 3, 0, 0, 5, 1, 2]'),\n",
       " Text(0.7647058823529411, 0.32142857142857145, 'X[42] <= 13.5\\ngini = 0.278\\nsamples = 6\\nvalue = [0, 0, 1, 0, 0, 0, 0, 5, 0, 0]'),\n",
       " Text(0.7588235294117647, 0.25, 'gini = 0.0\\nsamples = 5\\nvalue = [0, 0, 0, 0, 0, 0, 0, 5, 0, 0]'),\n",
       " Text(0.7705882352941177, 0.25, 'gini = 0.0\\nsamples = 1\\nvalue = [0, 0, 1, 0, 0, 0, 0, 0, 0, 0]'),\n",
       " Text(0.788235294117647, 0.32142857142857145, 'X[13] <= 2.5\\ngini = 0.719\\nsamples = 8\\nvalue = [2, 0, 0, 0, 3, 0, 0, 0, 1, 2]'),\n",
       " Text(0.7823529411764706, 0.25, 'gini = 0.0\\nsamples = 3\\nvalue = [0, 0, 0, 0, 3, 0, 0, 0, 0, 0]'),\n",
       " Text(0.7941176470588235, 0.25, 'X[9] <= 1.0\\ngini = 0.64\\nsamples = 5\\nvalue = [2, 0, 0, 0, 0, 0, 0, 0, 1, 2]'),\n",
       " Text(0.788235294117647, 0.17857142857142858, 'gini = 0.0\\nsamples = 2\\nvalue = [2, 0, 0, 0, 0, 0, 0, 0, 0, 0]'),\n",
       " Text(0.8, 0.17857142857142858, 'X[52] <= 5.0\\ngini = 0.444\\nsamples = 3\\nvalue = [0, 0, 0, 0, 0, 0, 0, 0, 1, 2]'),\n",
       " Text(0.7941176470588235, 0.10714285714285714, 'gini = 0.0\\nsamples = 1\\nvalue = [0, 0, 0, 0, 0, 0, 0, 0, 1, 0]'),\n",
       " Text(0.8058823529411765, 0.10714285714285714, 'gini = 0.0\\nsamples = 2\\nvalue = [0, 0, 0, 0, 0, 0, 0, 0, 0, 2]'),\n",
       " Text(0.8676470588235294, 0.5357142857142857, 'X[20] <= 13.5\\ngini = 0.615\\nsamples = 175\\nvalue = [0, 71, 10, 8, 3, 0, 1, 0, 81, 1]'),\n",
       " Text(0.8294117647058824, 0.4642857142857143, 'X[38] <= 3.0\\ngini = 0.109\\nsamples = 71\\nvalue = [0, 0, 1, 0, 1, 0, 1, 0, 67, 1]'),\n",
       " Text(0.8176470588235294, 0.39285714285714285, 'X[36] <= 1.5\\ngini = 0.057\\nsamples = 69\\nvalue = [0, 0, 1, 0, 0, 0, 0, 0, 67, 1]'),\n",
       " Text(0.8117647058823529, 0.32142857142857145, 'gini = 0.0\\nsamples = 1\\nvalue = [0, 0, 0, 0, 0, 0, 0, 0, 0, 1]'),\n",
       " Text(0.8235294117647058, 0.32142857142857145, 'X[36] <= 5.0\\ngini = 0.029\\nsamples = 68\\nvalue = [0, 0, 1, 0, 0, 0, 0, 0, 67, 0]'),\n",
       " Text(0.8176470588235294, 0.25, 'X[49] <= 2.0\\ngini = 0.5\\nsamples = 2\\nvalue = [0, 0, 1, 0, 0, 0, 0, 0, 1, 0]'),\n",
       " Text(0.8117647058823529, 0.17857142857142858, 'gini = 0.0\\nsamples = 1\\nvalue = [0, 0, 1, 0, 0, 0, 0, 0, 0, 0]'),\n",
       " Text(0.8235294117647058, 0.17857142857142858, 'gini = 0.0\\nsamples = 1\\nvalue = [0, 0, 0, 0, 0, 0, 0, 0, 1, 0]'),\n",
       " Text(0.8294117647058824, 0.25, 'gini = 0.0\\nsamples = 66\\nvalue = [0, 0, 0, 0, 0, 0, 0, 0, 66, 0]'),\n",
       " Text(0.8411764705882353, 0.39285714285714285, 'X[37] <= 10.0\\ngini = 0.5\\nsamples = 2\\nvalue = [0, 0, 0, 0, 1, 0, 1, 0, 0, 0]'),\n",
       " Text(0.8352941176470589, 0.32142857142857145, 'gini = 0.0\\nsamples = 1\\nvalue = [0, 0, 0, 0, 0, 0, 1, 0, 0, 0]'),\n",
       " Text(0.8470588235294118, 0.32142857142857145, 'gini = 0.0\\nsamples = 1\\nvalue = [0, 0, 0, 0, 1, 0, 0, 0, 0, 0]'),\n",
       " Text(0.9058823529411765, 0.4642857142857143, 'X[10] <= 11.0\\ngini = 0.502\\nsamples = 104\\nvalue = [0, 71, 9, 8, 2, 0, 0, 0, 14, 0]'),\n",
       " Text(0.8764705882352941, 0.39285714285714285, 'X[12] <= 14.0\\ngini = 0.184\\nsamples = 71\\nvalue = [0, 64, 0, 2, 2, 0, 0, 0, 3, 0]'),\n",
       " Text(0.8588235294117647, 0.32142857142857145, 'X[43] <= 7.0\\ngini = 0.625\\nsamples = 4\\nvalue = [0, 0, 0, 2, 1, 0, 0, 0, 1, 0]'),\n",
       " Text(0.8529411764705882, 0.25, 'gini = 0.0\\nsamples = 2\\nvalue = [0, 0, 0, 2, 0, 0, 0, 0, 0, 0]'),\n",
       " Text(0.8647058823529412, 0.25, 'X[44] <= 9.0\\ngini = 0.5\\nsamples = 2\\nvalue = [0, 0, 0, 0, 1, 0, 0, 0, 1, 0]'),\n",
       " Text(0.8588235294117647, 0.17857142857142858, 'gini = 0.0\\nsamples = 1\\nvalue = [0, 0, 0, 0, 0, 0, 0, 0, 1, 0]'),\n",
       " Text(0.8705882352941177, 0.17857142857142858, 'gini = 0.0\\nsamples = 1\\nvalue = [0, 0, 0, 0, 1, 0, 0, 0, 0, 0]'),\n",
       " Text(0.8941176470588236, 0.32142857142857145, 'X[41] <= 8.5\\ngini = 0.086\\nsamples = 67\\nvalue = [0, 64, 0, 0, 1, 0, 0, 0, 2, 0]'),\n",
       " Text(0.888235294117647, 0.25, 'X[36] <= 3.5\\ngini = 0.059\\nsamples = 66\\nvalue = [0, 64, 0, 0, 0, 0, 0, 0, 2, 0]'),\n",
       " Text(0.8823529411764706, 0.17857142857142858, 'gini = 0.0\\nsamples = 1\\nvalue = [0, 0, 0, 0, 0, 0, 0, 0, 1, 0]'),\n",
       " Text(0.8941176470588236, 0.17857142857142858, 'X[52] <= 7.5\\ngini = 0.03\\nsamples = 65\\nvalue = [0, 64, 0, 0, 0, 0, 0, 0, 1, 0]'),\n",
       " Text(0.888235294117647, 0.10714285714285714, 'X[4] <= 12.0\\ngini = 0.5\\nsamples = 2\\nvalue = [0, 1, 0, 0, 0, 0, 0, 0, 1, 0]'),\n",
       " Text(0.8823529411764706, 0.03571428571428571, 'gini = 0.0\\nsamples = 1\\nvalue = [0, 0, 0, 0, 0, 0, 0, 0, 1, 0]'),\n",
       " Text(0.8941176470588236, 0.03571428571428571, 'gini = 0.0\\nsamples = 1\\nvalue = [0, 1, 0, 0, 0, 0, 0, 0, 0, 0]'),\n",
       " Text(0.9, 0.10714285714285714, 'gini = 0.0\\nsamples = 63\\nvalue = [0, 63, 0, 0, 0, 0, 0, 0, 0, 0]'),\n",
       " Text(0.9, 0.25, 'gini = 0.0\\nsamples = 1\\nvalue = [0, 0, 0, 0, 1, 0, 0, 0, 0, 0]'),\n",
       " Text(0.9352941176470588, 0.39285714285714285, 'X[44] <= 7.0\\ngini = 0.736\\nsamples = 33\\nvalue = [0, 7, 9, 6, 0, 0, 0, 0, 11, 0]'),\n",
       " Text(0.9176470588235294, 0.32142857142857145, 'X[38] <= 1.5\\ngini = 0.314\\nsamples = 11\\nvalue = [0, 0, 9, 1, 0, 0, 0, 0, 1, 0]'),\n",
       " Text(0.9117647058823529, 0.25, 'gini = 0.0\\nsamples = 9\\nvalue = [0, 0, 9, 0, 0, 0, 0, 0, 0, 0]'),\n",
       " Text(0.9235294117647059, 0.25, 'X[60] <= 15.0\\ngini = 0.5\\nsamples = 2\\nvalue = [0, 0, 0, 1, 0, 0, 0, 0, 1, 0]'),\n",
       " Text(0.9176470588235294, 0.17857142857142858, 'gini = 0.0\\nsamples = 1\\nvalue = [0, 0, 0, 1, 0, 0, 0, 0, 0, 0]'),\n",
       " Text(0.9294117647058824, 0.17857142857142858, 'gini = 0.0\\nsamples = 1\\nvalue = [0, 0, 0, 0, 0, 0, 0, 0, 1, 0]'),\n",
       " Text(0.9529411764705882, 0.32142857142857145, 'X[43] <= 15.0\\ngini = 0.64\\nsamples = 22\\nvalue = [0, 7, 0, 5, 0, 0, 0, 0, 10, 0]'),\n",
       " Text(0.9470588235294117, 0.25, 'X[42] <= 6.0\\ngini = 0.444\\nsamples = 15\\nvalue = [0, 0, 0, 5, 0, 0, 0, 0, 10, 0]'),\n",
       " Text(0.9411764705882353, 0.17857142857142858, 'gini = 0.0\\nsamples = 5\\nvalue = [0, 0, 0, 5, 0, 0, 0, 0, 0, 0]'),\n",
       " Text(0.9529411764705882, 0.17857142857142858, 'gini = 0.0\\nsamples = 10\\nvalue = [0, 0, 0, 0, 0, 0, 0, 0, 10, 0]'),\n",
       " Text(0.9588235294117647, 0.25, 'gini = 0.0\\nsamples = 7\\nvalue = [0, 7, 0, 0, 0, 0, 0, 0, 0, 0]'),\n",
       " Text(0.9441176470588235, 0.75, 'X[26] <= 11.5\\ngini = 0.366\\nsamples = 103\\nvalue = [0, 6, 0, 1, 81, 0, 2, 11, 2, 0]'),\n",
       " Text(0.9235294117647059, 0.6785714285714286, 'X[60] <= 14.0\\ngini = 0.391\\nsamples = 13\\nvalue = [0, 1, 0, 1, 1, 0, 0, 10, 0, 0]'),\n",
       " Text(0.9176470588235294, 0.6071428571428571, 'gini = 0.0\\nsamples = 10\\nvalue = [0, 0, 0, 0, 0, 0, 0, 10, 0, 0]'),\n",
       " Text(0.9294117647058824, 0.6071428571428571, 'X[54] <= 8.0\\ngini = 0.667\\nsamples = 3\\nvalue = [0, 1, 0, 1, 1, 0, 0, 0, 0, 0]'),\n",
       " Text(0.9235294117647059, 0.5357142857142857, 'X[41] <= 8.0\\ngini = 0.5\\nsamples = 2\\nvalue = [0, 1, 0, 0, 1, 0, 0, 0, 0, 0]'),\n",
       " Text(0.9176470588235294, 0.4642857142857143, 'gini = 0.0\\nsamples = 1\\nvalue = [0, 1, 0, 0, 0, 0, 0, 0, 0, 0]'),\n",
       " Text(0.9294117647058824, 0.4642857142857143, 'gini = 0.0\\nsamples = 1\\nvalue = [0, 0, 0, 0, 1, 0, 0, 0, 0, 0]'),\n",
       " Text(0.9352941176470588, 0.5357142857142857, 'gini = 0.0\\nsamples = 1\\nvalue = [0, 0, 0, 1, 0, 0, 0, 0, 0, 0]'),\n",
       " Text(0.9647058823529412, 0.6785714285714286, 'X[13] <= 13.5\\ngini = 0.206\\nsamples = 90\\nvalue = [0, 5, 0, 0, 80, 0, 2, 1, 2, 0]'),\n",
       " Text(0.9529411764705882, 0.6071428571428571, 'X[37] <= 6.5\\ngini = 0.048\\nsamples = 81\\nvalue = [0, 2, 0, 0, 79, 0, 0, 0, 0, 0]'),\n",
       " Text(0.9470588235294117, 0.5357142857142857, 'X[60] <= 14.0\\ngini = 0.444\\nsamples = 3\\nvalue = [0, 2, 0, 0, 1, 0, 0, 0, 0, 0]'),\n",
       " Text(0.9411764705882353, 0.4642857142857143, 'gini = 0.0\\nsamples = 1\\nvalue = [0, 0, 0, 0, 1, 0, 0, 0, 0, 0]'),\n",
       " Text(0.9529411764705882, 0.4642857142857143, 'gini = 0.0\\nsamples = 2\\nvalue = [0, 2, 0, 0, 0, 0, 0, 0, 0, 0]'),\n",
       " Text(0.9588235294117647, 0.5357142857142857, 'gini = 0.0\\nsamples = 78\\nvalue = [0, 0, 0, 0, 78, 0, 0, 0, 0, 0]'),\n",
       " Text(0.9764705882352941, 0.6071428571428571, 'X[3] <= 3.0\\ngini = 0.765\\nsamples = 9\\nvalue = [0, 3, 0, 0, 1, 0, 2, 1, 2, 0]'),\n",
       " Text(0.9705882352941176, 0.5357142857142857, 'gini = 0.0\\nsamples = 3\\nvalue = [0, 3, 0, 0, 0, 0, 0, 0, 0, 0]'),\n",
       " Text(0.9823529411764705, 0.5357142857142857, 'X[21] <= 9.5\\ngini = 0.722\\nsamples = 6\\nvalue = [0, 0, 0, 0, 1, 0, 2, 1, 2, 0]'),\n",
       " Text(0.9764705882352941, 0.4642857142857143, 'gini = 0.0\\nsamples = 2\\nvalue = [0, 0, 0, 0, 0, 0, 2, 0, 0, 0]'),\n",
       " Text(0.9882352941176471, 0.4642857142857143, 'X[50] <= 8.0\\ngini = 0.625\\nsamples = 4\\nvalue = [0, 0, 0, 0, 1, 0, 0, 1, 2, 0]'),\n",
       " Text(0.9823529411764705, 0.39285714285714285, 'X[33] <= 7.5\\ngini = 0.5\\nsamples = 2\\nvalue = [0, 0, 0, 0, 1, 0, 0, 1, 0, 0]'),\n",
       " Text(0.9764705882352941, 0.32142857142857145, 'gini = 0.0\\nsamples = 1\\nvalue = [0, 0, 0, 0, 0, 0, 0, 1, 0, 0]'),\n",
       " Text(0.9882352941176471, 0.32142857142857145, 'gini = 0.0\\nsamples = 1\\nvalue = [0, 0, 0, 0, 1, 0, 0, 0, 0, 0]'),\n",
       " Text(0.9941176470588236, 0.39285714285714285, 'gini = 0.0\\nsamples = 2\\nvalue = [0, 0, 0, 0, 0, 0, 0, 0, 2, 0]')]"
      ]
     },
     "execution_count": 49,
     "metadata": {},
     "output_type": "execute_result"
    },
    {
     "data": {
      "image/png": "[encoded data removed]",
      "text/plain": [
       "<Figure size 1440x720 with 1 Axes>"
      ]
     },
     "metadata": {
      "needs_background": "light"
     },
     "output_type": "display_data"
    }
   ],
   "source": [
    "plt.figure(figsize=(20,10))\n",
    "tree.plot_tree(model.fit(X_train,y_train))"
   ]
  },
  {
   "cell_type": "code",
   "execution_count": 50,
   "id": "074067af",
   "metadata": {},
   "outputs": [
    {
     "data": {
      "text/plain": [
       "0.9730639730639731"
      ]
     },
     "execution_count": 50,
     "metadata": {},
     "output_type": "execute_result"
    }
   ],
   "source": [
    "from sklearn.ensemble import RandomForestClassifier\n",
    "rf=RandomForestClassifier()\n",
    "rf.fit(X_train,y_train)\n",
    "rf.score(X_test,y_test)"
   ]
  },
  {
   "cell_type": "code",
   "execution_count": null,
   "id": "e1ad821e",
   "metadata": {},
   "outputs": [],
   "source": []
  }
 ],
 "metadata": {
  "kernelspec": {
   "display_name": "Python 3 (ipykernel)",
   "language": "python",
   "name": "python3"
  },
  "language_info": {
   "codemirror_mode": {
    "name": "ipython",
    "version": 3
   },
   "file_extension": ".py",
   "mimetype": "text/x-python",
   "name": "python",
   "nbconvert_exporter": "python",
   "pygments_lexer": "ipython3",
   "version": "3.9.12"
  }
 },
 "nbformat": 4,
 "nbformat_minor": 5
}
