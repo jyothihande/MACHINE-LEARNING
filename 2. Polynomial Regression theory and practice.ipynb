{
 "cells": [
  {
   "cell_type": "code",
   "execution_count": null,
   "id": "0068e5ae",
   "metadata": {},
   "outputs": [],
   "source": [
    "y = mx + c\n",
    "y = m0x0 + m1x1 + m2x2 + m3x3 +....+ mnxn\n",
    "degree 0,1,2,3\n",
    "Polynimial Reg using numpy have two methods :\n",
    "1.Polyfit(mention degree,x,y,it gives  2D array) and \n",
    "2.Poly1d sloves array and gives ans as coef and intercept values \n"
   ]
  },
  {
   "cell_type": "code",
   "execution_count": null,
   "id": "87c35ab7",
   "metadata": {},
   "outputs": [],
   "source": [
    "Polynomial degree using sklearn"
   ]
  },
  {
   "cell_type": "code",
   "execution_count": 1,
   "id": "f264fffb",
   "metadata": {},
   "outputs": [],
   "source": [
    "x=[1,2,3,4,5,6,7,8,9,10,11,12,13,14,15]\n",
    "y=[48,45,40,41,35,39,38,33,40,41,44,49,46,47,48]"
   ]
  },
  {
   "cell_type": "code",
   "execution_count": 2,
   "id": "d70af355",
   "metadata": {},
   "outputs": [],
   "source": [
    "import matplotlib.pyplot as plt"
   ]
  },
  {
   "cell_type": "code",
   "execution_count": 3,
   "id": "704d151d",
   "metadata": {},
   "outputs": [
    {
     "data": {
      "image/png": "[encoded data removed]",
      "text/plain": [
       "<Figure size 432x288 with 1 Axes>"
      ]
     },
     "metadata": {
      "needs_background": "light"
     },
     "output_type": "display_data"
    }
   ],
   "source": [
    "plt.scatter(x,y)\n",
    "plt.show()"
   ]
  },
  {
   "cell_type": "code",
   "execution_count": 4,
   "id": "2b6eb5b8",
   "metadata": {},
   "outputs": [],
   "source": [
    "import pandas as pd"
   ]
  },
  {
   "cell_type": "code",
   "execution_count": null,
   "id": "c0236218",
   "metadata": {},
   "outputs": [],
   "source": [
    "convert x and y into dataframe\n",
    "first convert x ,y into series then concaniate for making it into dataframe"
   ]
  },
  {
   "cell_type": "code",
   "execution_count": 5,
   "id": "0ecb303f",
   "metadata": {},
   "outputs": [],
   "source": [
    "s1=pd.Series(x,name='time')\n",
    "s2=pd.Series(y,name='distance')"
   ]
  },
  {
   "cell_type": "code",
   "execution_count": 6,
   "id": "ee4005b2",
   "metadata": {},
   "outputs": [],
   "source": [
    "df=pd.concat([s1,s2],axis=1)"
   ]
  },
  {
   "cell_type": "code",
   "execution_count": 7,
   "id": "9127008e",
   "metadata": {},
   "outputs": [
    {
     "data": {
      "text/html": [
       "<div>\n",
       "<style scoped>\n",
       "    .dataframe tbody tr th:only-of-type {\n",
       "        vertical-align: middle;\n",
       "    }\n",
       "\n",
       "    .dataframe tbody tr th {\n",
       "        vertical-align: top;\n",
       "    }\n",
       "\n",
       "    .dataframe thead th {\n",
       "        text-align: right;\n",
       "    }\n",
       "</style>\n",
       "<table border=\"1\" class=\"dataframe\">\n",
       "  <thead>\n",
       "    <tr style=\"text-align: right;\">\n",
       "      <th></th>\n",
       "      <th>time</th>\n",
       "      <th>distance</th>\n",
       "    </tr>\n",
       "  </thead>\n",
       "  <tbody>\n",
       "    <tr>\n",
       "      <th>0</th>\n",
       "      <td>1</td>\n",
       "      <td>48</td>\n",
       "    </tr>\n",
       "    <tr>\n",
       "      <th>1</th>\n",
       "      <td>2</td>\n",
       "      <td>45</td>\n",
       "    </tr>\n",
       "    <tr>\n",
       "      <th>2</th>\n",
       "      <td>3</td>\n",
       "      <td>40</td>\n",
       "    </tr>\n",
       "    <tr>\n",
       "      <th>3</th>\n",
       "      <td>4</td>\n",
       "      <td>41</td>\n",
       "    </tr>\n",
       "    <tr>\n",
       "      <th>4</th>\n",
       "      <td>5</td>\n",
       "      <td>35</td>\n",
       "    </tr>\n",
       "    <tr>\n",
       "      <th>5</th>\n",
       "      <td>6</td>\n",
       "      <td>39</td>\n",
       "    </tr>\n",
       "    <tr>\n",
       "      <th>6</th>\n",
       "      <td>7</td>\n",
       "      <td>38</td>\n",
       "    </tr>\n",
       "    <tr>\n",
       "      <th>7</th>\n",
       "      <td>8</td>\n",
       "      <td>33</td>\n",
       "    </tr>\n",
       "    <tr>\n",
       "      <th>8</th>\n",
       "      <td>9</td>\n",
       "      <td>40</td>\n",
       "    </tr>\n",
       "    <tr>\n",
       "      <th>9</th>\n",
       "      <td>10</td>\n",
       "      <td>41</td>\n",
       "    </tr>\n",
       "    <tr>\n",
       "      <th>10</th>\n",
       "      <td>11</td>\n",
       "      <td>44</td>\n",
       "    </tr>\n",
       "    <tr>\n",
       "      <th>11</th>\n",
       "      <td>12</td>\n",
       "      <td>49</td>\n",
       "    </tr>\n",
       "    <tr>\n",
       "      <th>12</th>\n",
       "      <td>13</td>\n",
       "      <td>46</td>\n",
       "    </tr>\n",
       "    <tr>\n",
       "      <th>13</th>\n",
       "      <td>14</td>\n",
       "      <td>47</td>\n",
       "    </tr>\n",
       "    <tr>\n",
       "      <th>14</th>\n",
       "      <td>15</td>\n",
       "      <td>48</td>\n",
       "    </tr>\n",
       "  </tbody>\n",
       "</table>\n",
       "</div>"
      ],
      "text/plain": [
       "    time  distance\n",
       "0      1        48\n",
       "1      2        45\n",
       "2      3        40\n",
       "3      4        41\n",
       "4      5        35\n",
       "5      6        39\n",
       "6      7        38\n",
       "7      8        33\n",
       "8      9        40\n",
       "9     10        41\n",
       "10    11        44\n",
       "11    12        49\n",
       "12    13        46\n",
       "13    14        47\n",
       "14    15        48"
      ]
     },
     "execution_count": 7,
     "metadata": {},
     "output_type": "execute_result"
    }
   ],
   "source": [
    "df"
   ]
  },
  {
   "cell_type": "code",
   "execution_count": 8,
   "id": "0f0f15d0",
   "metadata": {},
   "outputs": [],
   "source": [
    "from sklearn.preprocessing import PolynomialFeatures"
   ]
  },
  {
   "cell_type": "code",
   "execution_count": 9,
   "id": "b39f6854",
   "metadata": {},
   "outputs": [],
   "source": [
    "pf=PolynomialFeatures() # PolynomialFeatures is class and pf is objest\n",
    "\n",
    "# by default degrre is 2"
   ]
  },
  {
   "cell_type": "code",
   "execution_count": 10,
   "id": "94e87acb",
   "metadata": {},
   "outputs": [
    {
     "data": {
      "text/plain": [
       "array([[  1.,   1.,   1.],\n",
       "       [  1.,   2.,   4.],\n",
       "       [  1.,   3.,   9.],\n",
       "       [  1.,   4.,  16.],\n",
       "       [  1.,   5.,  25.],\n",
       "       [  1.,   6.,  36.],\n",
       "       [  1.,   7.,  49.],\n",
       "       [  1.,   8.,  64.],\n",
       "       [  1.,   9.,  81.],\n",
       "       [  1.,  10., 100.],\n",
       "       [  1.,  11., 121.],\n",
       "       [  1.,  12., 144.],\n",
       "       [  1.,  13., 169.],\n",
       "       [  1.,  14., 196.],\n",
       "       [  1.,  15., 225.]])"
      ]
     },
     "execution_count": 10,
     "metadata": {},
     "output_type": "execute_result"
    }
   ],
   "source": [
    "x1=pf.fit_transform(df[['time']])\n",
    "x1 # fit transform saves time and does trains degree on passed samples  "
   ]
  },
  {
   "cell_type": "code",
   "execution_count": 11,
   "id": "22996b2a",
   "metadata": {},
   "outputs": [],
   "source": [
    "from sklearn.linear_model import LinearRegression"
   ]
  },
  {
   "cell_type": "code",
   "execution_count": 12,
   "id": "06b63b6a",
   "metadata": {},
   "outputs": [],
   "source": [
    "model=LinearRegression()"
   ]
  },
  {
   "cell_type": "code",
   "execution_count": 13,
   "id": "a5854b5f",
   "metadata": {},
   "outputs": [
    {
     "data": {
      "text/plain": [
       "LinearRegression()"
      ]
     },
     "execution_count": 13,
     "metadata": {},
     "output_type": "execute_result"
    }
   ],
   "source": [
    "model.fit(x1,df.distance)"
   ]
  },
  {
   "cell_type": "code",
   "execution_count": 14,
   "id": "4def77d4",
   "metadata": {},
   "outputs": [
    {
     "data": {
      "text/plain": [
       "array([ 0.       , -3.0322075,  0.2133969])"
      ]
     },
     "execution_count": 14,
     "metadata": {},
     "output_type": "execute_result"
    }
   ],
   "source": [
    "coef=model.coef_\n",
    "coef"
   ]
  },
  {
   "cell_type": "code",
   "execution_count": 15,
   "id": "eb0b6631",
   "metadata": {
    "scrolled": true
   },
   "outputs": [
    {
     "data": {
      "text/plain": [
       "48.88351648351646"
      ]
     },
     "execution_count": 15,
     "metadata": {},
     "output_type": "execute_result"
    }
   ],
   "source": [
    "intercept=model.intercept_\n",
    "intercept"
   ]
  },
  {
   "cell_type": "code",
   "execution_count": 16,
   "id": "12fc1dae",
   "metadata": {},
   "outputs": [],
   "source": [
    "import numpy as np"
   ]
  },
  {
   "cell_type": "code",
   "execution_count": 17,
   "id": "afbc7d30",
   "metadata": {},
   "outputs": [],
   "source": [
    "x = np.array(x)"
   ]
  },
  {
   "cell_type": "code",
   "execution_count": 26,
   "id": "e47d7cdd",
   "metadata": {},
   "outputs": [
    {
     "data": {
      "text/plain": [
       "array([ 1.        ,  2.03448276,  3.06896552,  4.10344828,  5.13793103,\n",
       "        6.17241379,  7.20689655,  8.24137931,  9.27586207, 10.31034483,\n",
       "       11.34482759, 12.37931034, 13.4137931 , 14.44827586, 15.48275862,\n",
       "       16.51724138, 17.55172414, 18.5862069 , 19.62068966, 20.65517241,\n",
       "       21.68965517, 22.72413793, 23.75862069, 24.79310345, 25.82758621,\n",
       "       26.86206897, 27.89655172, 28.93103448, 29.96551724, 31.        ])"
      ]
     },
     "execution_count": 26,
     "metadata": {},
     "output_type": "execute_result"
    }
   ],
   "source": [
    "line=np.linspace(1,31,30)\n",
    "line"
   ]
  },
  {
   "cell_type": "code",
   "execution_count": 27,
   "id": "b607046c",
   "metadata": {},
   "outputs": [],
   "source": [
    "y_pred=intercept + line*coef[1]+coef[2]*line**2"
   ]
  },
  {
   "cell_type": "code",
   "execution_count": 28,
   "id": "0d7f5bcd",
   "metadata": {},
   "outputs": [
    {
     "data": {
      "text/plain": [
       "array([ 46.06470588,  43.59781799,  41.58766544,  40.03424821,\n",
       "        38.93756632,  38.29761977,  38.11440854,  38.38793265,\n",
       "        39.11819209,  40.30518686,  41.94891697,  44.04938241,\n",
       "        46.60658318,  49.62051929,  53.09119073,  57.0185975 ,\n",
       "        61.4027396 ,  66.24361704,  71.54122981,  77.29557792,\n",
       "        83.50666135,  90.17448012,  97.29903422, 104.88032366,\n",
       "       112.91834843, 121.41310853, 130.36460396, 139.77283473,\n",
       "       149.63780083, 159.95950226])"
      ]
     },
     "execution_count": 28,
     "metadata": {},
     "output_type": "execute_result"
    }
   ],
   "source": [
    "y_pred"
   ]
  },
  {
   "cell_type": "code",
   "execution_count": 29,
   "id": "2746ccf8",
   "metadata": {},
   "outputs": [
    {
     "data": {
      "image/png": "[encoded data removed]",
      "text/plain": [
       "<Figure size 432x288 with 1 Axes>"
      ]
     },
     "metadata": {
      "needs_background": "light"
     },
     "output_type": "display_data"
    }
   ],
   "source": [
    "plt.scatter(x,y)\n",
    "plt.plot(line,y_pred,c='r')\n",
    "plt.show()"
   ]
  },
  {
   "cell_type": "code",
   "execution_count": 30,
   "id": "85013708",
   "metadata": {},
   "outputs": [
    {
     "data": {
      "text/plain": [
       "array([46.06470588, 43.67268908, 41.70746606, 40.16903685, 39.05740142,\n",
       "       38.37255979, 38.11451196, 38.28325792, 38.87879767, 39.90113122,\n",
       "       41.35025856, 43.2261797 , 45.52889463, 48.25840336, 51.41470588])"
      ]
     },
     "execution_count": 30,
     "metadata": {},
     "output_type": "execute_result"
    }
   ],
   "source": [
    "y_prediction=model.predict(x1)\n",
    "y_prediction"
   ]
  },
  {
   "cell_type": "code",
   "execution_count": 31,
   "id": "a674eb66",
   "metadata": {},
   "outputs": [
    {
     "data": {
      "text/plain": [
       "[48, 45, 40, 41, 35, 39, 38, 33, 40, 41, 44, 49, 46, 47, 48]"
      ]
     },
     "execution_count": 31,
     "metadata": {},
     "output_type": "execute_result"
    }
   ],
   "source": [
    "y"
   ]
  },
  {
   "cell_type": "code",
   "execution_count": 32,
   "id": "e1a0c856",
   "metadata": {},
   "outputs": [
    {
     "data": {
      "text/plain": [
       "0.6749105652065338"
      ]
     },
     "execution_count": 32,
     "metadata": {},
     "output_type": "execute_result"
    }
   ],
   "source": [
    "model.score(x1,df['distance'])"
   ]
  },
  {
   "cell_type": "code",
   "execution_count": null,
   "id": "14c66df0",
   "metadata": {},
   "outputs": [],
   "source": []
  }
 ],
 "metadata": {
  "kernelspec": {
   "display_name": "Python 3 (ipykernel)",
   "language": "python",
   "name": "python3"
  },
  "language_info": {
   "codemirror_mode": {
    "name": "ipython",
    "version": 3
   },
   "file_extension": ".py",
   "mimetype": "text/x-python",
   "name": "python",
   "nbconvert_exporter": "python",
   "pygments_lexer": "ipython3",
   "version": "3.9.12"
  }
 },
 "nbformat": 4,
 "nbformat_minor": 5
}
