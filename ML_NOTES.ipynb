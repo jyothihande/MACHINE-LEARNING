{
 "cells": [
  {
   "cell_type": "code",
   "execution_count": null,
   "id": "4f1b0b97",
   "metadata": {},
   "outputs": [],
   "source": [
    "import pandas as pd\n",
    "import numpy as np\n",
    "import matplotlib.pyplot as plt\n",
    "\n",
    "\n",
    "polynomial degree using sklearn\n",
    "pip install scikit-learn\n",
    "1.from sklearn.linear_model import LinearRegression\n",
    "  **from sklearn.preprocessing import PolynomialFeatures \n",
    "  **mulpitple reg\n",
    "     Normalisation and standardizatio\n",
    "     **from sklearn.preprocessing import MinMaxScaler\n",
    "     **from sklearn.preprocessing import StandardScaler\n",
    "\n",
    "\n",
    "2.from sklearn.linear_model import LogisticRegression\n",
    "   **from sklearn.neighbors import KNeighborsClassifier\n",
    "   **from sklearn.datasets import load_iris\n",
    "   **from sklearn.naive_bayes import BernoulliNB\n",
    "     from sklearn.naive_bayes import GaussianNB\n",
    "     from sklearn.naive_bayes import MultinomialNB\n",
    "     --from sklearn.feature_extraction.text import CountVectorizer\n",
    "     --from sklearn.feature_extraction.text import TfidfVectorizer\n",
    "   **decision tree \n",
    "     --from sklearn.tree import DecisionTreeClassifiere ,DecisionTreeRegressor\n",
    "     --from sklearn.ensemble import RandomForestClassifier\n",
    "from sklearn.metrics import r2_score\n",
    "from sklearn.metrics import mean_squared_error\n",
    "from sklearn.metrics import confusion_matrix\n",
    "from sklearn.metrics import classification_report\n",
    "\n",
    "from sklearn.datasets import load_digits\n",
    " \n",
    "from sklearn.pipeline import Pipeline # Pipeline is a class\n",
    "\n",
    "from sklearn.model_selection import train_test_split\n",
    "from sklearn.model_selection import cross_val_score\n",
    "\n",
    " import seaborn as sns\n",
    " sns.displot(marks_pred)\n",
    " cm=confusion_matrix(y_test,y_pred)\n",
    " sns.heatmap(cm,annot=True)\n",
    "\n",
    "-- feature engg:\n",
    "from sklearn.preprocessing import LabelEncoder,OneHotEncoder \n",
    "dummies=pd.get_dummies(df['fuel'])\n",
    "\n",
    "import scipy \n",
    "# earlier engg do not have scikit so they use scipy to find paramteres like slop,intercept\n",
    "!pip install scipy\n",
    "from scipy import stats"
   ]
  },
  {
   "cell_type": "raw",
   "id": "5f3ab514",
   "metadata": {},
   "source": [
    "df=pd.read_csv(\"E:\\\\DATA SCIENCE\\\\NOVEMBER\\\\student1.csv\")"
   ]
  },
  {
   "cell_type": "code",
   "execution_count": null,
   "id": "f9836085",
   "metadata": {},
   "outputs": [],
   "source": [
    "from sklearn.naive_bayes import BernoulliNB\n",
    "from sklearn.naive_bayes import GaussianNB\n",
    "from sklearn.naive_bayes import MultinomialNB\n"
   ]
  },
  {
   "cell_type": "code",
   "execution_count": null,
   "id": "09148d3e",
   "metadata": {},
   "outputs": [],
   "source": [
    "import pandas as pd\n",
    "import numpy as np\n",
    "from sklearn.datasets import load_digits\n",
    "from sklearn.model_selection import train_test_split\n",
    "from sklearn.linear_model import LogisticRegression\n",
    "from sklearn.svm import SVC\n",
    "from sklearn.ensemble import RandomForestClassifier"
   ]
  },
  {
   "cell_type": "code",
   "execution_count": null,
   "id": "04b62b04",
   "metadata": {},
   "outputs": [],
   "source": [
    "from sklearn.model_selection import GridSearchCV ,GroupKFold,GroupShuffleSplit"
   ]
  },
  {
   "cell_type": "code",
   "execution_count": null,
   "id": "2d8c1fd5",
   "metadata": {},
   "outputs": [],
   "source": [
    "USE OF cross_val_score in load iris dataset\n",
    "\n",
    "1.Data aquisition / data selection -- get dataset from sql,clou or excel\n",
    "2.Data preparation for to change into dataset , treatment of unstructed data,data info\n",
    "3.EDA  exfoliatory data Analysis : convert int into obj or obj into int, replace or remove or null values, dropping errors, 40 years in age column but only 40 int is requires that is column conversion\n",
    "relationship between two columns.\n",
    "4.Feature engg : used for making dataset clean and simple,scaling technique - minmax scaler  and standard scaler ,when data of column is out of range like 101 year old age  , changing date type column\n",
    "\n",
    "5.Model Selection: by comparing input columns and output column for highest accuracy and less error\n",
    "\n",
    "6.Hyper parameter tuning : use of RandomizedSearchCV( for large dataset )  OR GridSearchCV (for small dataset) paramter inside Radom-forest alg.\n"
   ]
  },
  {
   "cell_type": "raw",
   "id": "c40ab880",
   "metadata": {},
   "source": [
    "d={'a':10,\"b\":20}"
   ]
  },
  {
   "cell_type": "raw",
   "id": "c9a2d5bf",
   "metadata": {},
   "source": [
    "change value of b as b = 30 and add new value c= 40"
   ]
  },
  {
   "cell_type": "raw",
   "id": "5bebcf8d",
   "metadata": {},
   "source": [
    "d['b']"
   ]
  },
  {
   "cell_type": "raw",
   "id": "e624f829",
   "metadata": {},
   "source": [
    "d['b']=30"
   ]
  },
  {
   "cell_type": "raw",
   "id": "40379a40",
   "metadata": {},
   "source": [
    "d"
   ]
  },
  {
   "cell_type": "raw",
   "id": "1ae747ac",
   "metadata": {},
   "source": [
    "d['c'] = 40\n",
    "d"
   ]
  },
  {
   "cell_type": "raw",
   "id": "f9014002",
   "metadata": {},
   "source": [
    "as user names usually are not case sensitive so write a code where SAM120 OR sam120 \n",
    "are both are varified username\n",
    "\n",
    "where as passwords are always casesensitive"
   ]
  },
  {
   "cell_type": "raw",
   "id": "8eacc52d",
   "metadata": {},
   "source": [
    "username = input(\"Enter your username :\")\n",
    "if username == \"sam120\":\n",
    "    print('varified')\n",
    "else:\n",
    "    print(\"invalid username\")"
   ]
  },
  {
   "cell_type": "raw",
   "id": "e28eb93b",
   "metadata": {},
   "source": [
    "username = input(\"Enter your username :\")\n",
    "password = int(input(\"Enter your password :\"))\n",
    "\n",
    "if username.lower() == \"sam120\" and password == 12345 :\n",
    "    print('varified')\n",
    "else:\n",
    "    print(\"invalid username and password\")"
   ]
  },
  {
   "cell_type": "code",
   "execution_count": null,
   "id": "6c4b0603",
   "metadata": {},
   "outputs": [],
   "source": []
  },
  {
   "cell_type": "code",
   "execution_count": null,
   "id": "cf3c9be9",
   "metadata": {},
   "outputs": [],
   "source": []
  }
 ],
 "metadata": {
  "kernelspec": {
   "display_name": "Python 3 (ipykernel)",
   "language": "python",
   "name": "python3"
  },
  "language_info": {
   "codemirror_mode": {
    "name": "ipython",
    "version": 3
   },
   "file_extension": ".py",
   "mimetype": "text/x-python",
   "name": "python",
   "nbconvert_exporter": "python",
   "pygments_lexer": "ipython3",
   "version": "3.9.12"
  }
 },
 "nbformat": 4,
 "nbformat_minor": 5
}
