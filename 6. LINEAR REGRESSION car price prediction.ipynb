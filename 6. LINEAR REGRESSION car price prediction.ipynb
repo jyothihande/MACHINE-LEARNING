{
 "cells": [
  {
   "cell_type": "code",
   "execution_count": null,
   "id": "6bca7cf2",
   "metadata": {},
   "outputs": [],
   "source": [
    "LINEAR REGRESSION PROBLEM  \n",
    "X IS INPUT\n",
    "y is output and continuous values"
   ]
  },
  {
   "cell_type": "raw",
   "id": "7c2a1668",
   "metadata": {},
   "source": [
    "for get dummies code is \n",
    "X = pd.get_dummies(data=X,columns=[\"\",\"\",\"\"],drop_first = True)"
   ]
  },
  {
   "cell_type": "code",
   "execution_count": 1,
   "id": "1dbae18f",
   "metadata": {},
   "outputs": [],
   "source": [
    "import pandas as pd\n",
    "import matplotlib.pyplot as plt"
   ]
  },
  {
   "cell_type": "code",
   "execution_count": 33,
   "id": "925efe84",
   "metadata": {},
   "outputs": [],
   "source": [
    "df=pd.read_csv(\"E:\\DATA SCIENCE\\JANUARY\\car data.csv\")"
   ]
  },
  {
   "cell_type": "code",
   "execution_count": 101,
   "id": "23b22e92",
   "metadata": {},
   "outputs": [
    {
     "data": {
      "text/html": [
       "<div>\n",
       "<style scoped>\n",
       "    .dataframe tbody tr th:only-of-type {\n",
       "        vertical-align: middle;\n",
       "    }\n",
       "\n",
       "    .dataframe tbody tr th {\n",
       "        vertical-align: top;\n",
       "    }\n",
       "\n",
       "    .dataframe thead th {\n",
       "        text-align: right;\n",
       "    }\n",
       "</style>\n",
       "<table border=\"1\" class=\"dataframe\">\n",
       "  <thead>\n",
       "    <tr style=\"text-align: right;\">\n",
       "      <th></th>\n",
       "      <th>Car_Name</th>\n",
       "      <th>Year</th>\n",
       "      <th>Selling_Price</th>\n",
       "      <th>Present_Price</th>\n",
       "      <th>Kms_Driven</th>\n",
       "      <th>Fuel_Type</th>\n",
       "      <th>Seller_Type</th>\n",
       "      <th>Transmission</th>\n",
       "      <th>Owner</th>\n",
       "    </tr>\n",
       "  </thead>\n",
       "  <tbody>\n",
       "    <tr>\n",
       "      <th>239</th>\n",
       "      <td>eon</td>\n",
       "      <td>2012</td>\n",
       "      <td>2.00</td>\n",
       "      <td>4.43</td>\n",
       "      <td>23709</td>\n",
       "      <td>Petrol</td>\n",
       "      <td>Dealer</td>\n",
       "      <td>Manual</td>\n",
       "      <td>0</td>\n",
       "    </tr>\n",
       "    <tr>\n",
       "      <th>21</th>\n",
       "      <td>ignis</td>\n",
       "      <td>2017</td>\n",
       "      <td>4.90</td>\n",
       "      <td>5.71</td>\n",
       "      <td>2400</td>\n",
       "      <td>Petrol</td>\n",
       "      <td>Dealer</td>\n",
       "      <td>Manual</td>\n",
       "      <td>0</td>\n",
       "    </tr>\n",
       "    <tr>\n",
       "      <th>235</th>\n",
       "      <td>verna</td>\n",
       "      <td>2017</td>\n",
       "      <td>9.10</td>\n",
       "      <td>9.40</td>\n",
       "      <td>15141</td>\n",
       "      <td>Petrol</td>\n",
       "      <td>Dealer</td>\n",
       "      <td>Manual</td>\n",
       "      <td>0</td>\n",
       "    </tr>\n",
       "    <tr>\n",
       "      <th>293</th>\n",
       "      <td>city</td>\n",
       "      <td>2010</td>\n",
       "      <td>3.25</td>\n",
       "      <td>9.90</td>\n",
       "      <td>38000</td>\n",
       "      <td>Petrol</td>\n",
       "      <td>Dealer</td>\n",
       "      <td>Manual</td>\n",
       "      <td>0</td>\n",
       "    </tr>\n",
       "    <tr>\n",
       "      <th>218</th>\n",
       "      <td>verna</td>\n",
       "      <td>2014</td>\n",
       "      <td>6.45</td>\n",
       "      <td>9.40</td>\n",
       "      <td>45078</td>\n",
       "      <td>Petrol</td>\n",
       "      <td>Dealer</td>\n",
       "      <td>Manual</td>\n",
       "      <td>0</td>\n",
       "    </tr>\n",
       "  </tbody>\n",
       "</table>\n",
       "</div>"
      ],
      "text/plain": [
       "    Car_Name  Year  Selling_Price  Present_Price  Kms_Driven Fuel_Type  \\\n",
       "239      eon  2012           2.00           4.43       23709    Petrol   \n",
       "21     ignis  2017           4.90           5.71        2400    Petrol   \n",
       "235    verna  2017           9.10           9.40       15141    Petrol   \n",
       "293     city  2010           3.25           9.90       38000    Petrol   \n",
       "218    verna  2014           6.45           9.40       45078    Petrol   \n",
       "\n",
       "    Seller_Type Transmission  Owner  \n",
       "239      Dealer       Manual      0  \n",
       "21       Dealer       Manual      0  \n",
       "235      Dealer       Manual      0  \n",
       "293      Dealer       Manual      0  \n",
       "218      Dealer       Manual      0  "
      ]
     },
     "execution_count": 101,
     "metadata": {},
     "output_type": "execute_result"
    }
   ],
   "source": [
    "df.sample(5)"
   ]
  },
  {
   "cell_type": "code",
   "execution_count": 102,
   "id": "11e25e3d",
   "metadata": {},
   "outputs": [],
   "source": [
    "X=df.drop(\"Selling_Price\",axis=1)\n",
    "# X is out input all columns except selling price"
   ]
  },
  {
   "cell_type": "code",
   "execution_count": 103,
   "id": "10e066c6",
   "metadata": {},
   "outputs": [],
   "source": [
    "y= df.Selling_Price"
   ]
  },
  {
   "cell_type": "code",
   "execution_count": 104,
   "id": "059e9d70",
   "metadata": {},
   "outputs": [
    {
     "name": "stdout",
     "output_type": "stream",
     "text": [
      "<class 'pandas.core.frame.DataFrame'>\n",
      "RangeIndex: 301 entries, 0 to 300\n",
      "Data columns (total 8 columns):\n",
      " #   Column         Non-Null Count  Dtype  \n",
      "---  ------         --------------  -----  \n",
      " 0   Car_Name       301 non-null    object \n",
      " 1   Year           301 non-null    int64  \n",
      " 2   Present_Price  301 non-null    float64\n",
      " 3   Kms_Driven     301 non-null    int64  \n",
      " 4   Fuel_Type      301 non-null    object \n",
      " 5   Seller_Type    301 non-null    object \n",
      " 6   Transmission   301 non-null    object \n",
      " 7   Owner          301 non-null    int64  \n",
      "dtypes: float64(1), int64(3), object(4)\n",
      "memory usage: 18.9+ KB\n"
     ]
    }
   ],
   "source": [
    "X.info() # here convert object datatype/string into int"
   ]
  },
  {
   "cell_type": "code",
   "execution_count": null,
   "id": "ca22c13f",
   "metadata": {},
   "outputs": [],
   "source": [
    "sort all those columns which are not required from X (input)\n",
    "drop car name and present price"
   ]
  },
  {
   "cell_type": "code",
   "execution_count": 105,
   "id": "0655a9d9",
   "metadata": {},
   "outputs": [],
   "source": [
    "X.drop(['Car_Name','Present_Price'],axis=1,inplace=True)"
   ]
  },
  {
   "cell_type": "code",
   "execution_count": 106,
   "id": "a01f1501",
   "metadata": {},
   "outputs": [
    {
     "data": {
      "text/html": [
       "<div>\n",
       "<style scoped>\n",
       "    .dataframe tbody tr th:only-of-type {\n",
       "        vertical-align: middle;\n",
       "    }\n",
       "\n",
       "    .dataframe tbody tr th {\n",
       "        vertical-align: top;\n",
       "    }\n",
       "\n",
       "    .dataframe thead th {\n",
       "        text-align: right;\n",
       "    }\n",
       "</style>\n",
       "<table border=\"1\" class=\"dataframe\">\n",
       "  <thead>\n",
       "    <tr style=\"text-align: right;\">\n",
       "      <th></th>\n",
       "      <th>Year</th>\n",
       "      <th>Kms_Driven</th>\n",
       "      <th>Fuel_Type</th>\n",
       "      <th>Seller_Type</th>\n",
       "      <th>Transmission</th>\n",
       "      <th>Owner</th>\n",
       "    </tr>\n",
       "  </thead>\n",
       "  <tbody>\n",
       "    <tr>\n",
       "      <th>0</th>\n",
       "      <td>2014</td>\n",
       "      <td>27000</td>\n",
       "      <td>Petrol</td>\n",
       "      <td>Dealer</td>\n",
       "      <td>Manual</td>\n",
       "      <td>0</td>\n",
       "    </tr>\n",
       "    <tr>\n",
       "      <th>1</th>\n",
       "      <td>2013</td>\n",
       "      <td>43000</td>\n",
       "      <td>Diesel</td>\n",
       "      <td>Dealer</td>\n",
       "      <td>Manual</td>\n",
       "      <td>0</td>\n",
       "    </tr>\n",
       "    <tr>\n",
       "      <th>2</th>\n",
       "      <td>2017</td>\n",
       "      <td>6900</td>\n",
       "      <td>Petrol</td>\n",
       "      <td>Dealer</td>\n",
       "      <td>Manual</td>\n",
       "      <td>0</td>\n",
       "    </tr>\n",
       "    <tr>\n",
       "      <th>3</th>\n",
       "      <td>2011</td>\n",
       "      <td>5200</td>\n",
       "      <td>Petrol</td>\n",
       "      <td>Dealer</td>\n",
       "      <td>Manual</td>\n",
       "      <td>0</td>\n",
       "    </tr>\n",
       "    <tr>\n",
       "      <th>4</th>\n",
       "      <td>2014</td>\n",
       "      <td>42450</td>\n",
       "      <td>Diesel</td>\n",
       "      <td>Dealer</td>\n",
       "      <td>Manual</td>\n",
       "      <td>0</td>\n",
       "    </tr>\n",
       "  </tbody>\n",
       "</table>\n",
       "</div>"
      ],
      "text/plain": [
       "   Year  Kms_Driven Fuel_Type Seller_Type Transmission  Owner\n",
       "0  2014       27000    Petrol      Dealer       Manual      0\n",
       "1  2013       43000    Diesel      Dealer       Manual      0\n",
       "2  2017        6900    Petrol      Dealer       Manual      0\n",
       "3  2011        5200    Petrol      Dealer       Manual      0\n",
       "4  2014       42450    Diesel      Dealer       Manual      0"
      ]
     },
     "execution_count": 106,
     "metadata": {},
     "output_type": "execute_result"
    }
   ],
   "source": [
    "X.head()"
   ]
  },
  {
   "cell_type": "code",
   "execution_count": 107,
   "id": "6ece8ac3",
   "metadata": {},
   "outputs": [
    {
     "data": {
      "text/plain": [
       "Year            0\n",
       "Kms_Driven      0\n",
       "Fuel_Type       0\n",
       "Seller_Type     0\n",
       "Transmission    0\n",
       "Owner           0\n",
       "dtype: int64"
      ]
     },
     "execution_count": 107,
     "metadata": {},
     "output_type": "execute_result"
    }
   ],
   "source": [
    "X.isnull().sum()\n",
    "# check null values"
   ]
  },
  {
   "cell_type": "code",
   "execution_count": 108,
   "id": "ee318600",
   "metadata": {
    "scrolled": true
   },
   "outputs": [
    {
     "data": {
      "text/plain": [
       "pandas.core.series.Series"
      ]
     },
     "execution_count": 108,
     "metadata": {},
     "output_type": "execute_result"
    }
   ],
   "source": [
    "type(X.Year) "
   ]
  },
  {
   "cell_type": "code",
   "execution_count": null,
   "id": "b827b987",
   "metadata": {},
   "outputs": [],
   "source": [
    "convert type of year into int from series for easy calculations\n",
    "add new column with resp to Year that is how old car is? 2023 - (Year of X)2017"
   ]
  },
  {
   "cell_type": "code",
   "execution_count": 109,
   "id": "16a23681",
   "metadata": {},
   "outputs": [],
   "source": [
    "X['Years']= 2023 - X['Year']"
   ]
  },
  {
   "cell_type": "code",
   "execution_count": 110,
   "id": "cd4490b6",
   "metadata": {},
   "outputs": [
    {
     "data": {
      "text/plain": [
       "0       9\n",
       "1      10\n",
       "2       6\n",
       "3      12\n",
       "4       9\n",
       "       ..\n",
       "296     7\n",
       "297     8\n",
       "298    14\n",
       "299     6\n",
       "300     7\n",
       "Name: Years, Length: 301, dtype: int64"
      ]
     },
     "execution_count": 110,
     "metadata": {},
     "output_type": "execute_result"
    }
   ],
   "source": [
    "X['Years']"
   ]
  },
  {
   "cell_type": "raw",
   "id": "ce7e2b2c",
   "metadata": {},
   "source": [
    "-------------- OR "
   ]
  },
  {
   "cell_type": "code",
   "execution_count": 111,
   "id": "c8807d9b",
   "metadata": {},
   "outputs": [],
   "source": [
    "years=[]\n",
    "for i in X['Year']:\n",
    "    a=2023-i\n",
    "    years.append(a)"
   ]
  },
  {
   "cell_type": "code",
   "execution_count": 112,
   "id": "6297ca41",
   "metadata": {},
   "outputs": [
    {
     "data": {
      "text/plain": [
       "[9,\n",
       " 10,\n",
       " 6,\n",
       " 12,\n",
       " 9,\n",
       " 5,\n",
       " 8,\n",
       " 8,\n",
       " 7,\n",
       " 8,\n",
       " 6,\n",
       " 8,\n",
       " 8,\n",
       " 8,\n",
       " 14,\n",
       " 7,\n",
       " 8,\n",
       " 7,\n",
       " 8,\n",
       " 13,\n",
       " 7,\n",
       " 6,\n",
       " 12,\n",
       " 9,\n",
       " 10,\n",
       " 12,\n",
       " 10,\n",
       " 6,\n",
       " 13,\n",
       " 8,\n",
       " 11,\n",
       " 12,\n",
       " 9,\n",
       " 9,\n",
       " 9,\n",
       " 12,\n",
       " 8,\n",
       " 20,\n",
       " 7,\n",
       " 20,\n",
       " 7,\n",
       " 9,\n",
       " 15,\n",
       " 9,\n",
       " 11,\n",
       " 9,\n",
       " 10,\n",
       " 17,\n",
       " 8,\n",
       " 6,\n",
       " 11,\n",
       " 8,\n",
       " 6,\n",
       " 10,\n",
       " 18,\n",
       " 14,\n",
       " 8,\n",
       " 13,\n",
       " 9,\n",
       " 9,\n",
       " 10,\n",
       " 8,\n",
       " 9,\n",
       " 8,\n",
       " 6,\n",
       " 9,\n",
       " 6,\n",
       " 13,\n",
       " 12,\n",
       " 7,\n",
       " 9,\n",
       " 12,\n",
       " 10,\n",
       " 12,\n",
       " 9,\n",
       " 8,\n",
       " 10,\n",
       " 19,\n",
       " 13,\n",
       " 11,\n",
       " 7,\n",
       " 8,\n",
       " 6,\n",
       " 8,\n",
       " 18,\n",
       " 17,\n",
       " 13,\n",
       " 11,\n",
       " 10,\n",
       " 9,\n",
       " 14,\n",
       " 9,\n",
       " 18,\n",
       " 8,\n",
       " 15,\n",
       " 11,\n",
       " 7,\n",
       " 6,\n",
       " 10,\n",
       " 13,\n",
       " 7,\n",
       " 6,\n",
       " 6,\n",
       " 6,\n",
       " 6,\n",
       " 8,\n",
       " 9,\n",
       " 10,\n",
       " 7,\n",
       " 6,\n",
       " 7,\n",
       " 7,\n",
       " 9,\n",
       " 7,\n",
       " 8,\n",
       " 8,\n",
       " 10,\n",
       " 8,\n",
       " 8,\n",
       " 10,\n",
       " 7,\n",
       " 12,\n",
       " 7,\n",
       " 10,\n",
       " 11,\n",
       " 14,\n",
       " 6,\n",
       " 7,\n",
       " 6,\n",
       " 6,\n",
       " 6,\n",
       " 8,\n",
       " 6,\n",
       " 7,\n",
       " 6,\n",
       " 8,\n",
       " 9,\n",
       " 10,\n",
       " 7,\n",
       " 8,\n",
       " 10,\n",
       " 7,\n",
       " 8,\n",
       " 7,\n",
       " 9,\n",
       " 11,\n",
       " 9,\n",
       " 8,\n",
       " 13,\n",
       " 7,\n",
       " 12,\n",
       " 7,\n",
       " 11,\n",
       " 10,\n",
       " 9,\n",
       " 6,\n",
       " 6,\n",
       " 8,\n",
       " 6,\n",
       " 6,\n",
       " 12,\n",
       " 9,\n",
       " 11,\n",
       " 13,\n",
       " 7,\n",
       " 7,\n",
       " 7,\n",
       " 9,\n",
       " 10,\n",
       " 8,\n",
       " 11,\n",
       " 8,\n",
       " 9,\n",
       " 6,\n",
       " 8,\n",
       " 12,\n",
       " 12,\n",
       " 7,\n",
       " 9,\n",
       " 13,\n",
       " 11,\n",
       " 7,\n",
       " 10,\n",
       " 10,\n",
       " 15,\n",
       " 15,\n",
       " 13,\n",
       " 10,\n",
       " 10,\n",
       " 18,\n",
       " 15,\n",
       " 11,\n",
       " 16,\n",
       " 10,\n",
       " 15,\n",
       " 8,\n",
       " 15,\n",
       " 13,\n",
       " 12,\n",
       " 16,\n",
       " 17,\n",
       " 13,\n",
       " 8,\n",
       " 12,\n",
       " 8,\n",
       " 7,\n",
       " 6,\n",
       " 8,\n",
       " 6,\n",
       " 8,\n",
       " 11,\n",
       " 8,\n",
       " 7,\n",
       " 12,\n",
       " 6,\n",
       " 11,\n",
       " 7,\n",
       " 7,\n",
       " 9,\n",
       " 11,\n",
       " 6,\n",
       " 10,\n",
       " 9,\n",
       " 8,\n",
       " 10,\n",
       " 12,\n",
       " 8,\n",
       " 12,\n",
       " 11,\n",
       " 11,\n",
       " 10,\n",
       " 6,\n",
       " 8,\n",
       " 10,\n",
       " 8,\n",
       " 6,\n",
       " 7,\n",
       " 8,\n",
       " 10,\n",
       " 11,\n",
       " 11,\n",
       " 8,\n",
       " 9,\n",
       " 7,\n",
       " 10,\n",
       " 11,\n",
       " 11,\n",
       " 8,\n",
       " 10,\n",
       " 7,\n",
       " 7,\n",
       " 10,\n",
       " 8,\n",
       " 9,\n",
       " 10,\n",
       " 11,\n",
       " 7,\n",
       " 8,\n",
       " 8,\n",
       " 9,\n",
       " 7,\n",
       " 7,\n",
       " 8,\n",
       " 7,\n",
       " 8,\n",
       " 6,\n",
       " 9,\n",
       " 7,\n",
       " 6,\n",
       " 8,\n",
       " 12,\n",
       " 14,\n",
       " 8,\n",
       " 13,\n",
       " 9,\n",
       " 7,\n",
       " 8,\n",
       " 8,\n",
       " 7,\n",
       " 9,\n",
       " 8,\n",
       " 17,\n",
       " 9,\n",
       " 7,\n",
       " 10,\n",
       " 7,\n",
       " 7,\n",
       " 8,\n",
       " 8,\n",
       " 7,\n",
       " 9,\n",
       " 8,\n",
       " 7,\n",
       " 13,\n",
       " 9,\n",
       " 8,\n",
       " 7,\n",
       " 8,\n",
       " 14,\n",
       " 6,\n",
       " 7]"
      ]
     },
     "execution_count": 112,
     "metadata": {},
     "output_type": "execute_result"
    }
   ],
   "source": [
    "years"
   ]
  },
  {
   "cell_type": "code",
   "execution_count": 113,
   "id": "ae820f3e",
   "metadata": {},
   "outputs": [
    {
     "data": {
      "text/html": [
       "<div>\n",
       "<style scoped>\n",
       "    .dataframe tbody tr th:only-of-type {\n",
       "        vertical-align: middle;\n",
       "    }\n",
       "\n",
       "    .dataframe tbody tr th {\n",
       "        vertical-align: top;\n",
       "    }\n",
       "\n",
       "    .dataframe thead th {\n",
       "        text-align: right;\n",
       "    }\n",
       "</style>\n",
       "<table border=\"1\" class=\"dataframe\">\n",
       "  <thead>\n",
       "    <tr style=\"text-align: right;\">\n",
       "      <th></th>\n",
       "      <th>Year</th>\n",
       "      <th>Kms_Driven</th>\n",
       "      <th>Fuel_Type</th>\n",
       "      <th>Seller_Type</th>\n",
       "      <th>Transmission</th>\n",
       "      <th>Owner</th>\n",
       "      <th>Years</th>\n",
       "    </tr>\n",
       "  </thead>\n",
       "  <tbody>\n",
       "    <tr>\n",
       "      <th>0</th>\n",
       "      <td>2014</td>\n",
       "      <td>27000</td>\n",
       "      <td>Petrol</td>\n",
       "      <td>Dealer</td>\n",
       "      <td>Manual</td>\n",
       "      <td>0</td>\n",
       "      <td>9</td>\n",
       "    </tr>\n",
       "    <tr>\n",
       "      <th>1</th>\n",
       "      <td>2013</td>\n",
       "      <td>43000</td>\n",
       "      <td>Diesel</td>\n",
       "      <td>Dealer</td>\n",
       "      <td>Manual</td>\n",
       "      <td>0</td>\n",
       "      <td>10</td>\n",
       "    </tr>\n",
       "    <tr>\n",
       "      <th>2</th>\n",
       "      <td>2017</td>\n",
       "      <td>6900</td>\n",
       "      <td>Petrol</td>\n",
       "      <td>Dealer</td>\n",
       "      <td>Manual</td>\n",
       "      <td>0</td>\n",
       "      <td>6</td>\n",
       "    </tr>\n",
       "    <tr>\n",
       "      <th>3</th>\n",
       "      <td>2011</td>\n",
       "      <td>5200</td>\n",
       "      <td>Petrol</td>\n",
       "      <td>Dealer</td>\n",
       "      <td>Manual</td>\n",
       "      <td>0</td>\n",
       "      <td>12</td>\n",
       "    </tr>\n",
       "    <tr>\n",
       "      <th>4</th>\n",
       "      <td>2014</td>\n",
       "      <td>42450</td>\n",
       "      <td>Diesel</td>\n",
       "      <td>Dealer</td>\n",
       "      <td>Manual</td>\n",
       "      <td>0</td>\n",
       "      <td>9</td>\n",
       "    </tr>\n",
       "  </tbody>\n",
       "</table>\n",
       "</div>"
      ],
      "text/plain": [
       "   Year  Kms_Driven Fuel_Type Seller_Type Transmission  Owner  Years\n",
       "0  2014       27000    Petrol      Dealer       Manual      0      9\n",
       "1  2013       43000    Diesel      Dealer       Manual      0     10\n",
       "2  2017        6900    Petrol      Dealer       Manual      0      6\n",
       "3  2011        5200    Petrol      Dealer       Manual      0     12\n",
       "4  2014       42450    Diesel      Dealer       Manual      0      9"
      ]
     },
     "execution_count": 113,
     "metadata": {},
     "output_type": "execute_result"
    }
   ],
   "source": [
    "X.head()"
   ]
  },
  {
   "cell_type": "raw",
   "id": "16ac5fa9",
   "metadata": {},
   "source": [
    "-------------- OR making changes in the same column of year"
   ]
  },
  {
   "cell_type": "code",
   "execution_count": 114,
   "id": "ca810370",
   "metadata": {},
   "outputs": [],
   "source": [
    "X['Year']= 2023 - X['Year']"
   ]
  },
  {
   "cell_type": "code",
   "execution_count": 115,
   "id": "449cbec3",
   "metadata": {},
   "outputs": [
    {
     "data": {
      "text/html": [
       "<div>\n",
       "<style scoped>\n",
       "    .dataframe tbody tr th:only-of-type {\n",
       "        vertical-align: middle;\n",
       "    }\n",
       "\n",
       "    .dataframe tbody tr th {\n",
       "        vertical-align: top;\n",
       "    }\n",
       "\n",
       "    .dataframe thead th {\n",
       "        text-align: right;\n",
       "    }\n",
       "</style>\n",
       "<table border=\"1\" class=\"dataframe\">\n",
       "  <thead>\n",
       "    <tr style=\"text-align: right;\">\n",
       "      <th></th>\n",
       "      <th>Year</th>\n",
       "      <th>Kms_Driven</th>\n",
       "      <th>Fuel_Type</th>\n",
       "      <th>Seller_Type</th>\n",
       "      <th>Transmission</th>\n",
       "      <th>Owner</th>\n",
       "      <th>Years</th>\n",
       "    </tr>\n",
       "  </thead>\n",
       "  <tbody>\n",
       "    <tr>\n",
       "      <th>0</th>\n",
       "      <td>9</td>\n",
       "      <td>27000</td>\n",
       "      <td>Petrol</td>\n",
       "      <td>Dealer</td>\n",
       "      <td>Manual</td>\n",
       "      <td>0</td>\n",
       "      <td>9</td>\n",
       "    </tr>\n",
       "    <tr>\n",
       "      <th>1</th>\n",
       "      <td>10</td>\n",
       "      <td>43000</td>\n",
       "      <td>Diesel</td>\n",
       "      <td>Dealer</td>\n",
       "      <td>Manual</td>\n",
       "      <td>0</td>\n",
       "      <td>10</td>\n",
       "    </tr>\n",
       "    <tr>\n",
       "      <th>2</th>\n",
       "      <td>6</td>\n",
       "      <td>6900</td>\n",
       "      <td>Petrol</td>\n",
       "      <td>Dealer</td>\n",
       "      <td>Manual</td>\n",
       "      <td>0</td>\n",
       "      <td>6</td>\n",
       "    </tr>\n",
       "    <tr>\n",
       "      <th>3</th>\n",
       "      <td>12</td>\n",
       "      <td>5200</td>\n",
       "      <td>Petrol</td>\n",
       "      <td>Dealer</td>\n",
       "      <td>Manual</td>\n",
       "      <td>0</td>\n",
       "      <td>12</td>\n",
       "    </tr>\n",
       "    <tr>\n",
       "      <th>4</th>\n",
       "      <td>9</td>\n",
       "      <td>42450</td>\n",
       "      <td>Diesel</td>\n",
       "      <td>Dealer</td>\n",
       "      <td>Manual</td>\n",
       "      <td>0</td>\n",
       "      <td>9</td>\n",
       "    </tr>\n",
       "  </tbody>\n",
       "</table>\n",
       "</div>"
      ],
      "text/plain": [
       "   Year  Kms_Driven Fuel_Type Seller_Type Transmission  Owner  Years\n",
       "0     9       27000    Petrol      Dealer       Manual      0      9\n",
       "1    10       43000    Diesel      Dealer       Manual      0     10\n",
       "2     6        6900    Petrol      Dealer       Manual      0      6\n",
       "3    12        5200    Petrol      Dealer       Manual      0     12\n",
       "4     9       42450    Diesel      Dealer       Manual      0      9"
      ]
     },
     "execution_count": 115,
     "metadata": {},
     "output_type": "execute_result"
    }
   ],
   "source": [
    "X.head()"
   ]
  },
  {
   "cell_type": "code",
   "execution_count": 116,
   "id": "f5b41159",
   "metadata": {},
   "outputs": [],
   "source": [
    "X.drop(['Year'],axis=1,inplace=True)"
   ]
  },
  {
   "cell_type": "code",
   "execution_count": 117,
   "id": "f2772a6b",
   "metadata": {},
   "outputs": [
    {
     "data": {
      "text/html": [
       "<div>\n",
       "<style scoped>\n",
       "    .dataframe tbody tr th:only-of-type {\n",
       "        vertical-align: middle;\n",
       "    }\n",
       "\n",
       "    .dataframe tbody tr th {\n",
       "        vertical-align: top;\n",
       "    }\n",
       "\n",
       "    .dataframe thead th {\n",
       "        text-align: right;\n",
       "    }\n",
       "</style>\n",
       "<table border=\"1\" class=\"dataframe\">\n",
       "  <thead>\n",
       "    <tr style=\"text-align: right;\">\n",
       "      <th></th>\n",
       "      <th>Kms_Driven</th>\n",
       "      <th>Fuel_Type</th>\n",
       "      <th>Seller_Type</th>\n",
       "      <th>Transmission</th>\n",
       "      <th>Owner</th>\n",
       "      <th>Years</th>\n",
       "    </tr>\n",
       "  </thead>\n",
       "  <tbody>\n",
       "    <tr>\n",
       "      <th>0</th>\n",
       "      <td>27000</td>\n",
       "      <td>Petrol</td>\n",
       "      <td>Dealer</td>\n",
       "      <td>Manual</td>\n",
       "      <td>0</td>\n",
       "      <td>9</td>\n",
       "    </tr>\n",
       "    <tr>\n",
       "      <th>1</th>\n",
       "      <td>43000</td>\n",
       "      <td>Diesel</td>\n",
       "      <td>Dealer</td>\n",
       "      <td>Manual</td>\n",
       "      <td>0</td>\n",
       "      <td>10</td>\n",
       "    </tr>\n",
       "    <tr>\n",
       "      <th>2</th>\n",
       "      <td>6900</td>\n",
       "      <td>Petrol</td>\n",
       "      <td>Dealer</td>\n",
       "      <td>Manual</td>\n",
       "      <td>0</td>\n",
       "      <td>6</td>\n",
       "    </tr>\n",
       "    <tr>\n",
       "      <th>3</th>\n",
       "      <td>5200</td>\n",
       "      <td>Petrol</td>\n",
       "      <td>Dealer</td>\n",
       "      <td>Manual</td>\n",
       "      <td>0</td>\n",
       "      <td>12</td>\n",
       "    </tr>\n",
       "    <tr>\n",
       "      <th>4</th>\n",
       "      <td>42450</td>\n",
       "      <td>Diesel</td>\n",
       "      <td>Dealer</td>\n",
       "      <td>Manual</td>\n",
       "      <td>0</td>\n",
       "      <td>9</td>\n",
       "    </tr>\n",
       "  </tbody>\n",
       "</table>\n",
       "</div>"
      ],
      "text/plain": [
       "   Kms_Driven Fuel_Type Seller_Type Transmission  Owner  Years\n",
       "0       27000    Petrol      Dealer       Manual      0      9\n",
       "1       43000    Diesel      Dealer       Manual      0     10\n",
       "2        6900    Petrol      Dealer       Manual      0      6\n",
       "3        5200    Petrol      Dealer       Manual      0     12\n",
       "4       42450    Diesel      Dealer       Manual      0      9"
      ]
     },
     "execution_count": 117,
     "metadata": {},
     "output_type": "execute_result"
    }
   ],
   "source": [
    "X.head()"
   ]
  },
  {
   "cell_type": "code",
   "execution_count": 118,
   "id": "5b52ed1a",
   "metadata": {},
   "outputs": [
    {
     "data": {
      "text/plain": [
       "(301, 6)"
      ]
     },
     "execution_count": 118,
     "metadata": {},
     "output_type": "execute_result"
    }
   ],
   "source": [
    "X.shape # we have total 301 samples"
   ]
  },
  {
   "cell_type": "code",
   "execution_count": null,
   "id": "c55fdfe6",
   "metadata": {},
   "outputs": [],
   "source": [
    "To check unique elements from columns of a dataset X is input"
   ]
  },
  {
   "cell_type": "code",
   "execution_count": 119,
   "id": "f42bace1",
   "metadata": {},
   "outputs": [
    {
     "data": {
      "text/plain": [
       "array([0, 1, 3], dtype=int64)"
      ]
     },
     "execution_count": 119,
     "metadata": {},
     "output_type": "execute_result"
    }
   ],
   "source": [
    "X['Owner'].unique()"
   ]
  },
  {
   "cell_type": "code",
   "execution_count": 120,
   "id": "40bf2de9",
   "metadata": {},
   "outputs": [
    {
     "data": {
      "text/plain": [
       "array(['Manual', 'Automatic'], dtype=object)"
      ]
     },
     "execution_count": 120,
     "metadata": {},
     "output_type": "execute_result"
    }
   ],
   "source": [
    "X['Transmission'].unique()"
   ]
  },
  {
   "cell_type": "code",
   "execution_count": 121,
   "id": "59e3f9ac",
   "metadata": {},
   "outputs": [
    {
     "data": {
      "text/plain": [
       "array(['Dealer', 'Individual'], dtype=object)"
      ]
     },
     "execution_count": 121,
     "metadata": {},
     "output_type": "execute_result"
    }
   ],
   "source": [
    "X['Seller_Type'].unique()"
   ]
  },
  {
   "cell_type": "code",
   "execution_count": 122,
   "id": "432cf1ee",
   "metadata": {},
   "outputs": [
    {
     "data": {
      "text/plain": [
       "array(['Petrol', 'Diesel', 'CNG'], dtype=object)"
      ]
     },
     "execution_count": 122,
     "metadata": {},
     "output_type": "execute_result"
    }
   ],
   "source": [
    "X['Fuel_Type'].unique()"
   ]
  },
  {
   "cell_type": "code",
   "execution_count": null,
   "id": "a3a7a4a2",
   "metadata": {},
   "outputs": [],
   "source": [
    "convert type of year into int from series for easy calculations\n",
    "fuel type,transmission,seller type convert these\n",
    "\n",
    "use of FEATURE ENGG. use get dummies or encode the column itself"
   ]
  },
  {
   "cell_type": "code",
   "execution_count": 123,
   "id": "02856868",
   "metadata": {},
   "outputs": [
    {
     "data": {
      "text/html": [
       "<div>\n",
       "<style scoped>\n",
       "    .dataframe tbody tr th:only-of-type {\n",
       "        vertical-align: middle;\n",
       "    }\n",
       "\n",
       "    .dataframe tbody tr th {\n",
       "        vertical-align: top;\n",
       "    }\n",
       "\n",
       "    .dataframe thead th {\n",
       "        text-align: right;\n",
       "    }\n",
       "</style>\n",
       "<table border=\"1\" class=\"dataframe\">\n",
       "  <thead>\n",
       "    <tr style=\"text-align: right;\">\n",
       "      <th></th>\n",
       "      <th>Kms_Driven</th>\n",
       "      <th>Fuel_Type</th>\n",
       "      <th>Seller_Type</th>\n",
       "      <th>Transmission</th>\n",
       "      <th>Owner</th>\n",
       "      <th>Years</th>\n",
       "    </tr>\n",
       "  </thead>\n",
       "  <tbody>\n",
       "    <tr>\n",
       "      <th>0</th>\n",
       "      <td>27000</td>\n",
       "      <td>Petrol</td>\n",
       "      <td>Dealer</td>\n",
       "      <td>Manual</td>\n",
       "      <td>0</td>\n",
       "      <td>9</td>\n",
       "    </tr>\n",
       "    <tr>\n",
       "      <th>1</th>\n",
       "      <td>43000</td>\n",
       "      <td>Diesel</td>\n",
       "      <td>Dealer</td>\n",
       "      <td>Manual</td>\n",
       "      <td>0</td>\n",
       "      <td>10</td>\n",
       "    </tr>\n",
       "    <tr>\n",
       "      <th>2</th>\n",
       "      <td>6900</td>\n",
       "      <td>Petrol</td>\n",
       "      <td>Dealer</td>\n",
       "      <td>Manual</td>\n",
       "      <td>0</td>\n",
       "      <td>6</td>\n",
       "    </tr>\n",
       "    <tr>\n",
       "      <th>3</th>\n",
       "      <td>5200</td>\n",
       "      <td>Petrol</td>\n",
       "      <td>Dealer</td>\n",
       "      <td>Manual</td>\n",
       "      <td>0</td>\n",
       "      <td>12</td>\n",
       "    </tr>\n",
       "    <tr>\n",
       "      <th>4</th>\n",
       "      <td>42450</td>\n",
       "      <td>Diesel</td>\n",
       "      <td>Dealer</td>\n",
       "      <td>Manual</td>\n",
       "      <td>0</td>\n",
       "      <td>9</td>\n",
       "    </tr>\n",
       "  </tbody>\n",
       "</table>\n",
       "</div>"
      ],
      "text/plain": [
       "   Kms_Driven Fuel_Type Seller_Type Transmission  Owner  Years\n",
       "0       27000    Petrol      Dealer       Manual      0      9\n",
       "1       43000    Diesel      Dealer       Manual      0     10\n",
       "2        6900    Petrol      Dealer       Manual      0      6\n",
       "3        5200    Petrol      Dealer       Manual      0     12\n",
       "4       42450    Diesel      Dealer       Manual      0      9"
      ]
     },
     "execution_count": 123,
     "metadata": {},
     "output_type": "execute_result"
    }
   ],
   "source": [
    "X.head()"
   ]
  },
  {
   "cell_type": "code",
   "execution_count": 124,
   "id": "a4c1ac02",
   "metadata": {},
   "outputs": [],
   "source": [
    "from sklearn.preprocessing import LabelEncoder"
   ]
  },
  {
   "cell_type": "code",
   "execution_count": 125,
   "id": "14953f2c",
   "metadata": {},
   "outputs": [],
   "source": [
    "label=LabelEncoder()"
   ]
  },
  {
   "cell_type": "code",
   "execution_count": 126,
   "id": "c36c39c7",
   "metadata": {},
   "outputs": [],
   "source": [
    "X['Seller_Type']=label.fit_transform(X['Seller_Type'])\n",
    "X['Fuel_Type']=label.fit_transform(X['Fuel_Type'])\n",
    "X['Transmission']=label.fit_transform(X['Transmission'])"
   ]
  },
  {
   "cell_type": "code",
   "execution_count": 127,
   "id": "d2d50fb0",
   "metadata": {},
   "outputs": [],
   "source": [
    "X=pd.concat([X['Seller_Type'],X['Fuel_Type'],X['Transmission'],X['Kms_Driven'],X['Owner'],X['Years']],axis=1)"
   ]
  },
  {
   "cell_type": "code",
   "execution_count": 128,
   "id": "85171c2f",
   "metadata": {},
   "outputs": [
    {
     "data": {
      "text/html": [
       "<div>\n",
       "<style scoped>\n",
       "    .dataframe tbody tr th:only-of-type {\n",
       "        vertical-align: middle;\n",
       "    }\n",
       "\n",
       "    .dataframe tbody tr th {\n",
       "        vertical-align: top;\n",
       "    }\n",
       "\n",
       "    .dataframe thead th {\n",
       "        text-align: right;\n",
       "    }\n",
       "</style>\n",
       "<table border=\"1\" class=\"dataframe\">\n",
       "  <thead>\n",
       "    <tr style=\"text-align: right;\">\n",
       "      <th></th>\n",
       "      <th>Seller_Type</th>\n",
       "      <th>Fuel_Type</th>\n",
       "      <th>Transmission</th>\n",
       "      <th>Kms_Driven</th>\n",
       "      <th>Owner</th>\n",
       "      <th>Years</th>\n",
       "    </tr>\n",
       "  </thead>\n",
       "  <tbody>\n",
       "    <tr>\n",
       "      <th>125</th>\n",
       "      <td>1</td>\n",
       "      <td>2</td>\n",
       "      <td>1</td>\n",
       "      <td>40000</td>\n",
       "      <td>0</td>\n",
       "      <td>14</td>\n",
       "    </tr>\n",
       "    <tr>\n",
       "      <th>276</th>\n",
       "      <td>0</td>\n",
       "      <td>2</td>\n",
       "      <td>1</td>\n",
       "      <td>24800</td>\n",
       "      <td>0</td>\n",
       "      <td>8</td>\n",
       "    </tr>\n",
       "    <tr>\n",
       "      <th>14</th>\n",
       "      <td>0</td>\n",
       "      <td>2</td>\n",
       "      <td>1</td>\n",
       "      <td>77427</td>\n",
       "      <td>0</td>\n",
       "      <td>14</td>\n",
       "    </tr>\n",
       "    <tr>\n",
       "      <th>296</th>\n",
       "      <td>0</td>\n",
       "      <td>1</td>\n",
       "      <td>1</td>\n",
       "      <td>33988</td>\n",
       "      <td>0</td>\n",
       "      <td>7</td>\n",
       "    </tr>\n",
       "    <tr>\n",
       "      <th>98</th>\n",
       "      <td>0</td>\n",
       "      <td>2</td>\n",
       "      <td>1</td>\n",
       "      <td>45000</td>\n",
       "      <td>0</td>\n",
       "      <td>10</td>\n",
       "    </tr>\n",
       "    <tr>\n",
       "      <th>131</th>\n",
       "      <td>1</td>\n",
       "      <td>2</td>\n",
       "      <td>1</td>\n",
       "      <td>18000</td>\n",
       "      <td>0</td>\n",
       "      <td>8</td>\n",
       "    </tr>\n",
       "    <tr>\n",
       "      <th>37</th>\n",
       "      <td>1</td>\n",
       "      <td>2</td>\n",
       "      <td>1</td>\n",
       "      <td>127000</td>\n",
       "      <td>0</td>\n",
       "      <td>20</td>\n",
       "    </tr>\n",
       "    <tr>\n",
       "      <th>150</th>\n",
       "      <td>1</td>\n",
       "      <td>2</td>\n",
       "      <td>1</td>\n",
       "      <td>6000</td>\n",
       "      <td>0</td>\n",
       "      <td>12</td>\n",
       "    </tr>\n",
       "    <tr>\n",
       "      <th>80</th>\n",
       "      <td>0</td>\n",
       "      <td>1</td>\n",
       "      <td>1</td>\n",
       "      <td>23000</td>\n",
       "      <td>0</td>\n",
       "      <td>7</td>\n",
       "    </tr>\n",
       "    <tr>\n",
       "      <th>70</th>\n",
       "      <td>0</td>\n",
       "      <td>1</td>\n",
       "      <td>1</td>\n",
       "      <td>71000</td>\n",
       "      <td>0</td>\n",
       "      <td>9</td>\n",
       "    </tr>\n",
       "    <tr>\n",
       "      <th>74</th>\n",
       "      <td>0</td>\n",
       "      <td>1</td>\n",
       "      <td>1</td>\n",
       "      <td>83000</td>\n",
       "      <td>0</td>\n",
       "      <td>9</td>\n",
       "    </tr>\n",
       "    <tr>\n",
       "      <th>197</th>\n",
       "      <td>1</td>\n",
       "      <td>2</td>\n",
       "      <td>1</td>\n",
       "      <td>33000</td>\n",
       "      <td>0</td>\n",
       "      <td>13</td>\n",
       "    </tr>\n",
       "    <tr>\n",
       "      <th>3</th>\n",
       "      <td>0</td>\n",
       "      <td>2</td>\n",
       "      <td>1</td>\n",
       "      <td>5200</td>\n",
       "      <td>0</td>\n",
       "      <td>12</td>\n",
       "    </tr>\n",
       "    <tr>\n",
       "      <th>76</th>\n",
       "      <td>0</td>\n",
       "      <td>2</td>\n",
       "      <td>1</td>\n",
       "      <td>72000</td>\n",
       "      <td>0</td>\n",
       "      <td>10</td>\n",
       "    </tr>\n",
       "    <tr>\n",
       "      <th>108</th>\n",
       "      <td>1</td>\n",
       "      <td>2</td>\n",
       "      <td>1</td>\n",
       "      <td>18000</td>\n",
       "      <td>0</td>\n",
       "      <td>7</td>\n",
       "    </tr>\n",
       "    <tr>\n",
       "      <th>89</th>\n",
       "      <td>0</td>\n",
       "      <td>2</td>\n",
       "      <td>1</td>\n",
       "      <td>40000</td>\n",
       "      <td>0</td>\n",
       "      <td>9</td>\n",
       "    </tr>\n",
       "    <tr>\n",
       "      <th>139</th>\n",
       "      <td>1</td>\n",
       "      <td>2</td>\n",
       "      <td>1</td>\n",
       "      <td>16600</td>\n",
       "      <td>0</td>\n",
       "      <td>8</td>\n",
       "    </tr>\n",
       "    <tr>\n",
       "      <th>291</th>\n",
       "      <td>0</td>\n",
       "      <td>2</td>\n",
       "      <td>1</td>\n",
       "      <td>31427</td>\n",
       "      <td>0</td>\n",
       "      <td>8</td>\n",
       "    </tr>\n",
       "    <tr>\n",
       "      <th>293</th>\n",
       "      <td>0</td>\n",
       "      <td>2</td>\n",
       "      <td>1</td>\n",
       "      <td>38000</td>\n",
       "      <td>0</td>\n",
       "      <td>13</td>\n",
       "    </tr>\n",
       "    <tr>\n",
       "      <th>130</th>\n",
       "      <td>1</td>\n",
       "      <td>2</td>\n",
       "      <td>1</td>\n",
       "      <td>11000</td>\n",
       "      <td>0</td>\n",
       "      <td>6</td>\n",
       "    </tr>\n",
       "  </tbody>\n",
       "</table>\n",
       "</div>"
      ],
      "text/plain": [
       "     Seller_Type  Fuel_Type  Transmission  Kms_Driven  Owner  Years\n",
       "125            1          2             1       40000      0     14\n",
       "276            0          2             1       24800      0      8\n",
       "14             0          2             1       77427      0     14\n",
       "296            0          1             1       33988      0      7\n",
       "98             0          2             1       45000      0     10\n",
       "131            1          2             1       18000      0      8\n",
       "37             1          2             1      127000      0     20\n",
       "150            1          2             1        6000      0     12\n",
       "80             0          1             1       23000      0      7\n",
       "70             0          1             1       71000      0      9\n",
       "74             0          1             1       83000      0      9\n",
       "197            1          2             1       33000      0     13\n",
       "3              0          2             1        5200      0     12\n",
       "76             0          2             1       72000      0     10\n",
       "108            1          2             1       18000      0      7\n",
       "89             0          2             1       40000      0      9\n",
       "139            1          2             1       16600      0      8\n",
       "291            0          2             1       31427      0      8\n",
       "293            0          2             1       38000      0     13\n",
       "130            1          2             1       11000      0      6"
      ]
     },
     "execution_count": 128,
     "metadata": {},
     "output_type": "execute_result"
    }
   ],
   "source": [
    "X.sample(20)"
   ]
  },
  {
   "cell_type": "code",
   "execution_count": 129,
   "id": "23c632c3",
   "metadata": {},
   "outputs": [
    {
     "name": "stdout",
     "output_type": "stream",
     "text": [
      "<class 'pandas.core.frame.DataFrame'>\n",
      "RangeIndex: 301 entries, 0 to 300\n",
      "Data columns (total 6 columns):\n",
      " #   Column        Non-Null Count  Dtype\n",
      "---  ------        --------------  -----\n",
      " 0   Seller_Type   301 non-null    int32\n",
      " 1   Fuel_Type     301 non-null    int32\n",
      " 2   Transmission  301 non-null    int32\n",
      " 3   Kms_Driven    301 non-null    int64\n",
      " 4   Owner         301 non-null    int64\n",
      " 5   Years         301 non-null    int64\n",
      "dtypes: int32(3), int64(3)\n",
      "memory usage: 10.7 KB\n"
     ]
    }
   ],
   "source": [
    "X.info()"
   ]
  },
  {
   "cell_type": "code",
   "execution_count": 130,
   "id": "42a58135",
   "metadata": {},
   "outputs": [],
   "source": [
    "from sklearn.preprocessing import MinMaxScaler"
   ]
  },
  {
   "cell_type": "code",
   "execution_count": null,
   "id": "2922d036",
   "metadata": {},
   "outputs": [],
   "source": [
    "from minmaxscaler we will use for normalising value of coulmns like owner,kms,year"
   ]
  },
  {
   "cell_type": "code",
   "execution_count": 131,
   "id": "ec548840",
   "metadata": {},
   "outputs": [],
   "source": [
    "scaler=MinMaxScaler()"
   ]
  },
  {
   "cell_type": "code",
   "execution_count": 132,
   "id": "8853fcd0",
   "metadata": {},
   "outputs": [
    {
     "data": {
      "text/plain": [
       "array([[0.05305305, 0.        , 0.26666667],\n",
       "       [0.08508509, 0.        , 0.33333333],\n",
       "       [0.01281281, 0.        , 0.06666667],\n",
       "       [0.00940941, 0.        , 0.46666667],\n",
       "       [0.08398398, 0.        , 0.26666667],\n",
       "       [0.00314515, 0.        , 0.        ],\n",
       "       [0.03662863, 0.        , 0.2       ],\n",
       "       [0.06592392, 0.        , 0.2       ],\n",
       "       [0.03958559, 0.        , 0.13333333],\n",
       "       [0.08381782, 0.        , 0.2       ],\n",
       "       [0.00327327, 0.        , 0.06666667],\n",
       "       [0.1011011 , 0.        , 0.2       ],\n",
       "       [0.02902903, 0.        , 0.2       ],\n",
       "       [0.05105105, 0.        , 0.2       ],\n",
       "       [0.15400801, 0.        , 0.6       ],\n",
       "       [0.08508509, 0.        , 0.13333333],\n",
       "       [0.08243844, 0.        , 0.2       ],\n",
       "       [0.08508509, 0.        , 0.13333333],\n",
       "       [0.07007007, 0.        , 0.2       ],\n",
       "       [0.08196597, 0.        , 0.53333333],\n",
       "       [0.04904905, 0.        , 0.13333333],\n",
       "       [0.0038038 , 0.        , 0.06666667],\n",
       "       [0.0990991 , 0.        , 0.46666667],\n",
       "       [0.08964965, 0.        , 0.26666667],\n",
       "       [0.11287087, 0.        , 0.33333333],\n",
       "       [0.03903904, 0.        , 0.46666667],\n",
       "       [0.10938539, 0.        , 0.33333333],\n",
       "       [0.03143143, 0.        , 0.06666667],\n",
       "       [0.08817217, 0.        , 0.53333333],\n",
       "       [0.08908909, 0.        , 0.2       ],\n",
       "       [0.10197998, 0.        , 0.4       ],\n",
       "       [0.10750751, 0.        , 0.46666667],\n",
       "       [0.07707708, 0.        , 0.26666667],\n",
       "       [0.08908909, 0.        , 0.26666667],\n",
       "       [0.08908909, 0.        , 0.26666667],\n",
       "       [0.0990951 , 0.        , 0.46666667],\n",
       "       [0.09663063, 0.        , 0.2       ],\n",
       "       [0.25325325, 0.        , 1.        ],\n",
       "       [0.01917718, 0.        , 0.13333333],\n",
       "       [0.12312312, 0.        , 1.        ],\n",
       "       [0.0480961 , 0.        , 0.13333333],\n",
       "       [0.0925045 , 0.        , 0.26666667],\n",
       "       [0.11511512, 0.        , 0.66666667],\n",
       "       [0.09065065, 0.        , 0.26666667],\n",
       "       [0.0990991 , 0.        , 0.4       ],\n",
       "       [0.02902903, 0.        , 0.26666667],\n",
       "       [0.12819219, 0.        , 0.33333333],\n",
       "       [0.12912913, 0.        , 0.8       ],\n",
       "       [0.05079079, 0.        , 0.2       ],\n",
       "       [0.07307307, 0.        , 0.06666667],\n",
       "       [0.20862262, 0.        , 0.4       ],\n",
       "       [0.07907908, 0.        , 0.2       ],\n",
       "       [0.02902903, 0.        , 0.06666667],\n",
       "       [0.26926927, 0.        , 0.33333333],\n",
       "       [0.17917918, 0.        , 0.86666667],\n",
       "       [0.13913914, 0.        , 0.6       ],\n",
       "       [0.08014815, 0.        , 0.2       ],\n",
       "       [0.0990991 , 0.        , 0.53333333],\n",
       "       [0.07804805, 0.33333333, 0.26666667],\n",
       "       [0.08108108, 0.        , 0.26666667],\n",
       "       [0.07908108, 0.        , 0.33333333],\n",
       "       [0.08025626, 0.        , 0.2       ],\n",
       "       [0.15515516, 0.        , 0.26666667],\n",
       "       [0.09309309, 0.        , 0.2       ],\n",
       "       [0.01101101, 0.        , 0.06666667],\n",
       "       [0.08908909, 0.        , 0.26666667],\n",
       "       [0.02102102, 0.        , 0.06666667],\n",
       "       [0.11711712, 0.        , 0.53333333],\n",
       "       [0.17517518, 0.        , 0.46666667],\n",
       "       [0.02302302, 0.        , 0.13333333],\n",
       "       [0.14114114, 0.        , 0.26666667],\n",
       "       [0.08908909, 0.        , 0.46666667],\n",
       "       [0.11111311, 0.        , 0.33333333],\n",
       "       [0.08508509, 0.        , 0.46666667],\n",
       "       [0.16516517, 0.        , 0.26666667],\n",
       "       [0.07107107, 0.        , 0.2       ],\n",
       "       [0.14314314, 0.        , 0.33333333],\n",
       "       [0.26957758, 0.        , 0.93333333],\n",
       "       [0.15915916, 0.        , 0.53333333],\n",
       "       [0.17717718, 0.        , 0.4       ],\n",
       "       [0.04504505, 0.        , 0.13333333],\n",
       "       [0.07907908, 0.        , 0.2       ],\n",
       "       [0.02902903, 0.        , 0.06666667],\n",
       "       [0.07507508, 0.        , 0.2       ],\n",
       "       [0.39374575, 0.        , 0.86666667],\n",
       "       [0.28328328, 1.        , 0.8       ],\n",
       "       [0.15515516, 0.        , 0.53333333],\n",
       "       [0.11111111, 0.        , 0.4       ],\n",
       "       [0.09309309, 0.        , 0.33333333],\n",
       "       [0.07907908, 0.        , 0.26666667],\n",
       "       [0.12312312, 0.        , 0.6       ],\n",
       "       [0.1155996 , 0.        , 0.26666667],\n",
       "       [0.14914915, 0.        , 0.86666667],\n",
       "       [0.07907908, 0.        , 0.2       ],\n",
       "       [0.17717718, 0.        , 0.66666667],\n",
       "       [0.14314314, 0.        , 0.4       ],\n",
       "       [0.05705706, 0.        , 0.13333333],\n",
       "       [0.01641642, 0.        , 0.06666667],\n",
       "       [0.08908909, 0.        , 0.33333333],\n",
       "       [0.09914715, 0.        , 0.53333333],\n",
       "       [0.00500501, 0.        , 0.13333333],\n",
       "       [0.0018018 , 0.        , 0.06666667],\n",
       "       [0.00700701, 0.        , 0.06666667],\n",
       "       [0.0014014 , 0.        , 0.06666667],\n",
       "       [0.00720721, 0.        , 0.06666667],\n",
       "       [0.04244244, 0.        , 0.2       ],\n",
       "       [0.03203203, 0.33333333, 0.26666667],\n",
       "       [0.02902903, 0.        , 0.33333333],\n",
       "       [0.03503504, 0.        , 0.13333333],\n",
       "       [0.02102102, 0.        , 0.06666667],\n",
       "       [0.01101101, 0.        , 0.13333333],\n",
       "       [0.01641642, 0.        , 0.13333333],\n",
       "       [0.01301301, 0.        , 0.26666667],\n",
       "       [0.06906907, 0.        , 0.13333333],\n",
       "       [0.03303303, 0.        , 0.2       ],\n",
       "       [0.03403403, 0.        , 0.2       ],\n",
       "       [0.06506507, 0.        , 0.33333333],\n",
       "       [0.02702703, 0.        , 0.2       ],\n",
       "       [0.05105105, 0.        , 0.2       ],\n",
       "       [0.00980981, 0.        , 0.33333333],\n",
       "       [0.01041041, 0.        , 0.13333333],\n",
       "       [0.01281281, 0.        , 0.46666667],\n",
       "       [0.01101101, 0.        , 0.13333333],\n",
       "       [0.09209209, 0.        , 0.33333333],\n",
       "       [0.02202202, 0.        , 0.4       ],\n",
       "       [0.07907908, 0.        , 0.6       ],\n",
       "       [0.0016016 , 0.        , 0.06666667],\n",
       "       [0.01301301, 0.        , 0.13333333],\n",
       "       [0.00500501, 0.        , 0.06666667],\n",
       "       [0.00900901, 0.        , 0.06666667],\n",
       "       [0.02102102, 0.        , 0.06666667],\n",
       "       [0.03503504, 0.        , 0.2       ],\n",
       "       [0.00600601, 0.        , 0.06666667],\n",
       "       [0.        , 0.        , 0.13333333],\n",
       "       [0.02262262, 0.        , 0.06666667],\n",
       "       [0.00900901, 0.        , 0.2       ],\n",
       "       [0.04604605, 0.        , 0.26666667],\n",
       "       [0.03103103, 0.        , 0.33333333],\n",
       "       [0.02902903, 0.        , 0.13333333],\n",
       "       [0.03223223, 0.        , 0.2       ],\n",
       "       [0.06306306, 0.        , 0.33333333],\n",
       "       [0.03903904, 0.        , 0.13333333],\n",
       "       [0.05705706, 0.        , 0.2       ],\n",
       "       [0.04904905, 0.        , 0.13333333],\n",
       "       [0.04904905, 0.        , 0.26666667],\n",
       "       [0.03703704, 0.        , 0.4       ],\n",
       "       [0.02902903, 0.        , 0.26666667],\n",
       "       [0.11511512, 0.        , 0.2       ],\n",
       "       [0.08908909, 0.        , 0.53333333],\n",
       "       [0.04704705, 0.        , 0.13333333],\n",
       "       [0.01101101, 0.        , 0.46666667],\n",
       "       [0.06106106, 0.        , 0.13333333],\n",
       "       [0.02502503, 0.        , 0.4       ],\n",
       "       [0.08908909, 0.        , 0.33333333],\n",
       "       [0.01501502, 0.        , 0.26666667],\n",
       "       [0.00760761, 0.        , 0.06666667],\n",
       "       [0.02902903, 0.        , 0.06666667],\n",
       "       [0.04504505, 0.        , 0.2       ],\n",
       "       [0.01621622, 0.        , 0.06666667],\n",
       "       [0.00700701, 0.        , 0.06666667],\n",
       "       [0.04704705, 0.        , 0.46666667],\n",
       "       [0.04504505, 0.        , 0.26666667],\n",
       "       [0.02802803, 0.        , 0.4       ],\n",
       "       [0.05305305, 0.        , 0.53333333],\n",
       "       [0.02702703, 0.        , 0.13333333],\n",
       "       [0.        , 0.        , 0.13333333],\n",
       "       [0.001001  , 0.        , 0.13333333],\n",
       "       [0.08308308, 0.        , 0.26666667],\n",
       "       [0.02302302, 0.        , 0.33333333],\n",
       "       [0.02702703, 0.        , 0.2       ],\n",
       "       [0.01001001, 0.        , 0.4       ],\n",
       "       [0.01241241, 0.        , 0.2       ],\n",
       "       [0.02642643, 0.        , 0.26666667],\n",
       "       [0.0016016 , 0.        , 0.06666667],\n",
       "       [0.07627628, 0.        , 0.2       ],\n",
       "       [0.14914915, 0.        , 0.46666667],\n",
       "       [0.05905906, 0.        , 0.46666667],\n",
       "       [0.04704705, 0.        , 0.13333333],\n",
       "       [0.03703704, 0.        , 0.26666667],\n",
       "       [0.42542543, 0.        , 0.53333333],\n",
       "       [0.11911912, 0.        , 0.4       ],\n",
       "       [0.0990991 , 0.        , 0.13333333],\n",
       "       [0.05905906, 0.        , 0.33333333],\n",
       "       [0.04104104, 0.        , 0.33333333],\n",
       "       [0.05105105, 0.33333333, 0.66666667],\n",
       "       [0.0028028 , 0.        , 0.66666667],\n",
       "       [0.04304304, 0.        , 0.53333333],\n",
       "       [0.06306306, 0.        , 0.33333333],\n",
       "       [0.03503504, 0.        , 0.33333333],\n",
       "       [0.10910911, 0.        , 0.86666667],\n",
       "       [0.11911912, 0.        , 0.66666667],\n",
       "       [0.04904905, 0.33333333, 0.4       ],\n",
       "       [0.0970971 , 0.33333333, 0.73333333],\n",
       "       [0.04704705, 0.33333333, 0.33333333],\n",
       "       [0.0990991 , 0.        , 0.66666667],\n",
       "       [0.06906907, 0.        , 0.2       ],\n",
       "       [1.        , 0.        , 0.66666667],\n",
       "       [0.06506507, 0.        , 0.53333333],\n",
       "       [0.06906907, 0.33333333, 0.46666667],\n",
       "       [0.10510511, 0.        , 0.73333333],\n",
       "       [0.18364965, 0.        , 0.8       ],\n",
       "       [0.11511512, 0.33333333, 0.53333333],\n",
       "       [0.05545546, 0.        , 0.2       ],\n",
       "       [0.10602603, 0.        , 0.46666667],\n",
       "       [0.05561962, 0.        , 0.2       ],\n",
       "       [0.00599199, 0.33333333, 0.13333333],\n",
       "       [0.02398198, 0.        , 0.06666667],\n",
       "       [0.06866266, 0.        , 0.2       ],\n",
       "       [0.00587588, 0.        , 0.06666667],\n",
       "       [0.04129129, 0.        , 0.2       ],\n",
       "       [0.07062062, 0.        , 0.4       ],\n",
       "       [0.08615616, 0.        , 0.2       ],\n",
       "       [0.04438639, 0.        , 0.13333333],\n",
       "       [0.06227027, 0.        , 0.46666667],\n",
       "       [0.03926727, 0.        , 0.06666667],\n",
       "       [0.07127127, 0.        , 0.4       ],\n",
       "       [0.02402402, 0.        , 0.13333333],\n",
       "       [0.02902903, 0.        , 0.13333333],\n",
       "       [0.08924525, 0.        , 0.26666667],\n",
       "       [0.07107107, 0.        , 0.4       ],\n",
       "       [0.07605205, 0.        , 0.06666667],\n",
       "       [0.06306306, 0.        , 0.33333333],\n",
       "       [0.15441842, 0.        , 0.26666667],\n",
       "       [0.12188388, 0.        , 0.2       ],\n",
       "       [0.07146747, 0.        , 0.33333333],\n",
       "       [0.04407808, 0.        , 0.46666667],\n",
       "       [0.0484044 , 0.        , 0.2       ],\n",
       "       [0.11311311, 0.        , 0.46666667],\n",
       "       [0.11911912, 0.        , 0.4       ],\n",
       "       [0.10336737, 0.        , 0.4       ],\n",
       "       [0.08908909, 0.        , 0.33333333],\n",
       "       [0.02903103, 0.        , 0.06666667],\n",
       "       [0.02482482, 0.        , 0.2       ],\n",
       "       [0.10510511, 0.        , 0.33333333],\n",
       "       [0.00799199, 0.        , 0.2       ],\n",
       "       [0.02931131, 0.        , 0.06666667],\n",
       "       [0.02272072, 0.        , 0.13333333],\n",
       "       [0.13513514, 0.        , 0.2       ],\n",
       "       [0.1196016 , 0.        , 0.33333333],\n",
       "       [0.04646446, 0.        , 0.4       ],\n",
       "       [0.06370771, 0.        , 0.4       ],\n",
       "       [0.0708028 , 0.33333333, 0.2       ],\n",
       "       [0.06706707, 0.        , 0.26666667],\n",
       "       [0.01301301, 0.        , 0.13333333],\n",
       "       [0.0970971 , 0.        , 0.33333333],\n",
       "       [0.14114114, 0.        , 0.4       ],\n",
       "       [0.06906907, 0.        , 0.4       ],\n",
       "       [0.07107107, 0.        , 0.2       ],\n",
       "       [0.05905906, 0.        , 0.33333333],\n",
       "       [0.03303303, 0.        , 0.13333333],\n",
       "       [0.07093894, 0.        , 0.13333333],\n",
       "       [0.11251451, 0.        , 0.33333333],\n",
       "       [0.06191592, 0.        , 0.2       ],\n",
       "       [0.0950951 , 0.        , 0.26666667],\n",
       "       [0.10759159, 0.        , 0.33333333],\n",
       "       [0.10645646, 0.        , 0.4       ],\n",
       "       [0.09822222, 0.        , 0.13333333],\n",
       "       [0.07972773, 0.        , 0.2       ],\n",
       "       [0.04904905, 0.        , 0.2       ],\n",
       "       [0.07117918, 0.        , 0.26666667],\n",
       "       [0.0575035 , 0.        , 0.13333333],\n",
       "       [0.01021021, 0.        , 0.13333333],\n",
       "       [0.07912513, 0.        , 0.2       ],\n",
       "       [0.03103504, 0.        , 0.13333333],\n",
       "       [0.07913113, 0.        , 0.2       ],\n",
       "       [0.04144144, 0.        , 0.06666667],\n",
       "       [0.06906907, 0.        , 0.26666667],\n",
       "       [0.03790591, 0.        , 0.13333333],\n",
       "       [0.03703704, 0.        , 0.06666667],\n",
       "       [0.03669269, 0.        , 0.2       ],\n",
       "       [0.13781982, 0.        , 0.46666667],\n",
       "       [0.13826226, 0.        , 0.6       ],\n",
       "       [0.05425425, 0.        , 0.2       ],\n",
       "       [0.12152753, 0.        , 0.53333333],\n",
       "       [0.03203203, 0.        , 0.26666667],\n",
       "       [0.06056657, 0.        , 0.13333333],\n",
       "       [0.04864865, 0.        , 0.2       ],\n",
       "       [0.0426026 , 0.        , 0.2       ],\n",
       "       [0.00700701, 0.        , 0.13333333],\n",
       "       [0.07933133, 0.        , 0.26666667],\n",
       "       [0.02795796, 0.        , 0.2       ],\n",
       "       [0.10001201, 0.        , 0.8       ],\n",
       "       [0.12512513, 0.        , 0.26666667],\n",
       "       [0.01703704, 0.        , 0.13333333],\n",
       "       [0.01861862, 0.        , 0.33333333],\n",
       "       [0.02914715, 0.        , 0.13333333],\n",
       "       [0.05619419, 0.        , 0.13333333],\n",
       "       [0.08708709, 0.        , 0.2       ],\n",
       "       [0.06706707, 0.        , 0.2       ],\n",
       "       [0.02098098, 0.        , 0.13333333],\n",
       "       [0.03703704, 0.        , 0.26666667],\n",
       "       [0.06191592, 0.        , 0.2       ],\n",
       "       [0.02302302, 0.        , 0.13333333],\n",
       "       [0.07507508, 0.        , 0.53333333],\n",
       "       [0.0651031 , 0.        , 0.26666667],\n",
       "       [0.11927127, 0.        , 0.2       ],\n",
       "       [0.06704304, 0.        , 0.13333333],\n",
       "       [0.11911912, 0.        , 0.2       ],\n",
       "       [0.17504304, 0.        , 0.6       ],\n",
       "       [0.01701702, 0.        , 0.06666667],\n",
       "       [0.00993794, 0.        , 0.13333333]])"
      ]
     },
     "execution_count": 132,
     "metadata": {},
     "output_type": "execute_result"
    }
   ],
   "source": [
    "scaler.fit_transform(X[['Kms_Driven','Owner','Years']])"
   ]
  },
  {
   "cell_type": "code",
   "execution_count": 134,
   "id": "54606c21",
   "metadata": {},
   "outputs": [],
   "source": [
    "X[['Kms_Driven','Owner','Years']]=scaler.fit_transform(X[['Kms_Driven','Owner','Years']])"
   ]
  },
  {
   "cell_type": "code",
   "execution_count": 138,
   "id": "ac76cb01",
   "metadata": {},
   "outputs": [
    {
     "data": {
      "text/html": [
       "<div>\n",
       "<style scoped>\n",
       "    .dataframe tbody tr th:only-of-type {\n",
       "        vertical-align: middle;\n",
       "    }\n",
       "\n",
       "    .dataframe tbody tr th {\n",
       "        vertical-align: top;\n",
       "    }\n",
       "\n",
       "    .dataframe thead th {\n",
       "        text-align: right;\n",
       "    }\n",
       "</style>\n",
       "<table border=\"1\" class=\"dataframe\">\n",
       "  <thead>\n",
       "    <tr style=\"text-align: right;\">\n",
       "      <th></th>\n",
       "      <th>Seller_Type</th>\n",
       "      <th>Fuel_Type</th>\n",
       "      <th>Transmission</th>\n",
       "      <th>Kms_Driven</th>\n",
       "      <th>Owner</th>\n",
       "      <th>Years</th>\n",
       "    </tr>\n",
       "  </thead>\n",
       "  <tbody>\n",
       "    <tr>\n",
       "      <th>0</th>\n",
       "      <td>0</td>\n",
       "      <td>2</td>\n",
       "      <td>1</td>\n",
       "      <td>0.053053</td>\n",
       "      <td>0.0</td>\n",
       "      <td>0.266667</td>\n",
       "    </tr>\n",
       "    <tr>\n",
       "      <th>1</th>\n",
       "      <td>0</td>\n",
       "      <td>1</td>\n",
       "      <td>1</td>\n",
       "      <td>0.085085</td>\n",
       "      <td>0.0</td>\n",
       "      <td>0.333333</td>\n",
       "    </tr>\n",
       "    <tr>\n",
       "      <th>2</th>\n",
       "      <td>0</td>\n",
       "      <td>2</td>\n",
       "      <td>1</td>\n",
       "      <td>0.012813</td>\n",
       "      <td>0.0</td>\n",
       "      <td>0.066667</td>\n",
       "    </tr>\n",
       "    <tr>\n",
       "      <th>3</th>\n",
       "      <td>0</td>\n",
       "      <td>2</td>\n",
       "      <td>1</td>\n",
       "      <td>0.009409</td>\n",
       "      <td>0.0</td>\n",
       "      <td>0.466667</td>\n",
       "    </tr>\n",
       "    <tr>\n",
       "      <th>4</th>\n",
       "      <td>0</td>\n",
       "      <td>1</td>\n",
       "      <td>1</td>\n",
       "      <td>0.083984</td>\n",
       "      <td>0.0</td>\n",
       "      <td>0.266667</td>\n",
       "    </tr>\n",
       "    <tr>\n",
       "      <th>5</th>\n",
       "      <td>0</td>\n",
       "      <td>1</td>\n",
       "      <td>1</td>\n",
       "      <td>0.003145</td>\n",
       "      <td>0.0</td>\n",
       "      <td>0.000000</td>\n",
       "    </tr>\n",
       "    <tr>\n",
       "      <th>6</th>\n",
       "      <td>0</td>\n",
       "      <td>2</td>\n",
       "      <td>1</td>\n",
       "      <td>0.036629</td>\n",
       "      <td>0.0</td>\n",
       "      <td>0.200000</td>\n",
       "    </tr>\n",
       "    <tr>\n",
       "      <th>7</th>\n",
       "      <td>0</td>\n",
       "      <td>1</td>\n",
       "      <td>1</td>\n",
       "      <td>0.065924</td>\n",
       "      <td>0.0</td>\n",
       "      <td>0.200000</td>\n",
       "    </tr>\n",
       "    <tr>\n",
       "      <th>8</th>\n",
       "      <td>0</td>\n",
       "      <td>1</td>\n",
       "      <td>1</td>\n",
       "      <td>0.039586</td>\n",
       "      <td>0.0</td>\n",
       "      <td>0.133333</td>\n",
       "    </tr>\n",
       "    <tr>\n",
       "      <th>9</th>\n",
       "      <td>0</td>\n",
       "      <td>1</td>\n",
       "      <td>1</td>\n",
       "      <td>0.083818</td>\n",
       "      <td>0.0</td>\n",
       "      <td>0.200000</td>\n",
       "    </tr>\n",
       "  </tbody>\n",
       "</table>\n",
       "</div>"
      ],
      "text/plain": [
       "   Seller_Type  Fuel_Type  Transmission  Kms_Driven  Owner     Years\n",
       "0            0          2             1    0.053053    0.0  0.266667\n",
       "1            0          1             1    0.085085    0.0  0.333333\n",
       "2            0          2             1    0.012813    0.0  0.066667\n",
       "3            0          2             1    0.009409    0.0  0.466667\n",
       "4            0          1             1    0.083984    0.0  0.266667\n",
       "5            0          1             1    0.003145    0.0  0.000000\n",
       "6            0          2             1    0.036629    0.0  0.200000\n",
       "7            0          1             1    0.065924    0.0  0.200000\n",
       "8            0          1             1    0.039586    0.0  0.133333\n",
       "9            0          1             1    0.083818    0.0  0.200000"
      ]
     },
     "execution_count": 138,
     "metadata": {},
     "output_type": "execute_result"
    }
   ],
   "source": [
    "X.head(10) # input"
   ]
  },
  {
   "cell_type": "code",
   "execution_count": null,
   "id": "8da7ad87",
   "metadata": {},
   "outputs": [],
   "source": [
    "X is normalised and all columns value between 0 and 1 so easy to plot"
   ]
  },
  {
   "cell_type": "code",
   "execution_count": 140,
   "id": "d7f086da",
   "metadata": {},
   "outputs": [
    {
     "data": {
      "text/plain": [
       "0    3.35\n",
       "1    4.75\n",
       "2    7.25\n",
       "3    2.85\n",
       "4    4.60\n",
       "Name: Selling_Price, dtype: float64"
      ]
     },
     "execution_count": 140,
     "metadata": {},
     "output_type": "execute_result"
    }
   ],
   "source": [
    "y.head() # y is output and continous values"
   ]
  },
  {
   "cell_type": "code",
   "execution_count": 143,
   "id": "30d14d3b",
   "metadata": {},
   "outputs": [],
   "source": [
    "from sklearn.model_selection import train_test_split"
   ]
  },
  {
   "cell_type": "code",
   "execution_count": 144,
   "id": "b1d529a4",
   "metadata": {},
   "outputs": [],
   "source": [
    "X_train, X_test, y_train, y_test = train_test_split(X, y, test_size=0.33, random_state=42)"
   ]
  },
  {
   "cell_type": "code",
   "execution_count": 141,
   "id": "3d80f60c",
   "metadata": {},
   "outputs": [],
   "source": [
    "from sklearn.linear_model import LinearRegression"
   ]
  },
  {
   "cell_type": "code",
   "execution_count": 142,
   "id": "15d5675f",
   "metadata": {},
   "outputs": [],
   "source": [
    "model=LinearRegression()"
   ]
  },
  {
   "cell_type": "code",
   "execution_count": 145,
   "id": "37c4418b",
   "metadata": {},
   "outputs": [
    {
     "data": {
      "text/plain": [
       "(201, 6)"
      ]
     },
     "execution_count": 145,
     "metadata": {},
     "output_type": "execute_result"
    }
   ],
   "source": [
    "X_train.shape"
   ]
  },
  {
   "cell_type": "code",
   "execution_count": 146,
   "id": "b12fcbd7",
   "metadata": {},
   "outputs": [
    {
     "data": {
      "text/plain": [
       "(100, 6)"
      ]
     },
     "execution_count": 146,
     "metadata": {},
     "output_type": "execute_result"
    }
   ],
   "source": [
    "X_test.shape"
   ]
  },
  {
   "cell_type": "code",
   "execution_count": 147,
   "id": "25010f30",
   "metadata": {},
   "outputs": [
    {
     "data": {
      "text/plain": [
       "(201,)"
      ]
     },
     "execution_count": 147,
     "metadata": {},
     "output_type": "execute_result"
    }
   ],
   "source": [
    "y_train.shape"
   ]
  },
  {
   "cell_type": "code",
   "execution_count": 148,
   "id": "4c50b6ee",
   "metadata": {},
   "outputs": [
    {
     "data": {
      "text/plain": [
       "(100,)"
      ]
     },
     "execution_count": 148,
     "metadata": {},
     "output_type": "execute_result"
    }
   ],
   "source": [
    "y_test.shape"
   ]
  },
  {
   "cell_type": "code",
   "execution_count": 149,
   "id": "50c4cbda",
   "metadata": {},
   "outputs": [
    {
     "data": {
      "text/plain": [
       "LinearRegression()"
      ]
     },
     "execution_count": 149,
     "metadata": {},
     "output_type": "execute_result"
    }
   ],
   "source": [
    "model.fit(X_train,y_train)"
   ]
  },
  {
   "cell_type": "code",
   "execution_count": 150,
   "id": "bcc7e104",
   "metadata": {},
   "outputs": [
    {
     "data": {
      "text/plain": [
       "0.6207487342344752"
      ]
     },
     "execution_count": 150,
     "metadata": {},
     "output_type": "execute_result"
    }
   ],
   "source": [
    "model.score(X_test,y_test)"
   ]
  },
  {
   "cell_type": "code",
   "execution_count": 151,
   "id": "f56f4686",
   "metadata": {},
   "outputs": [],
   "source": [
    "predicted_price=model.predict(X_test)"
   ]
  },
  {
   "cell_type": "code",
   "execution_count": 152,
   "id": "c53c1ca3",
   "metadata": {},
   "outputs": [
    {
     "data": {
      "text/plain": [
       "array([ 5.86555557,  5.26798709,  8.23759519, -0.57037144,  4.53549543,\n",
       "        9.0882827 ,  1.10303921,  0.57165082,  1.32305812,  8.77104386,\n",
       "        9.70375134,  0.48655868,  9.05928482,  5.97451938,  8.42647716,\n",
       "        4.79010224, -0.08115615,  5.58888971,  1.61157832,  1.53684965,\n",
       "        0.26860005,  9.19482821,  7.95032572,  3.63877199,  0.74809352,\n",
       "        4.13902343,  4.70882443,  3.87748859,  1.63648788,  1.36457405,\n",
       "        0.31011598,  8.95786554, -0.60941533,  2.99947321,  9.4394193 ,\n",
       "        4.82815684,  4.86761248,  3.38555585,  4.71067189,  3.60557476,\n",
       "        2.1422158 ,  6.86069403,  4.66209312,  0.92453622,  8.99551536,\n",
       "        0.47617969,  4.8813595 ,  8.35565186,  4.43169522,  8.15593336,\n",
       "        8.93473179,  1.5648729 , 13.57507616, 13.93208213,  9.28562867,\n",
       "        9.91191834,  4.85608155,  9.34588391,  2.23204076,  9.74903059,\n",
       "        0.45542173, -1.69748239,  1.55864551, -1.05983214,  5.18310253,\n",
       "        1.26804952, 13.16823556, 13.50242328,  5.00454251,  0.23334253,\n",
       "        8.14874072,  8.38884909,  5.45054301,  5.23016083,  4.02183434,\n",
       "        1.54101675,  1.57421398,  9.38205566,  1.19645005,  5.0355134 ,\n",
       "        4.95959114,  3.75920971,  7.24937555, 10.051469  ,  3.98605274,\n",
       "        5.62164949,  0.20009876,  3.51675143,  1.69670149, 12.97729331,\n",
       "        1.00962837,  2.87964644,  4.70155914,  9.4394193 ,  5.5207517 ,\n",
       "        8.04941754,  3.65472437,  4.34454279,  5.06559169, -1.98348402])"
      ]
     },
     "execution_count": 152,
     "metadata": {},
     "output_type": "execute_result"
    }
   ],
   "source": [
    "predicted_price\n",
    "# so here first car price should be 5.8 and so on"
   ]
  },
  {
   "cell_type": "code",
   "execution_count": 202,
   "id": "cf6a7c4f",
   "metadata": {},
   "outputs": [
    {
     "data": {
      "image/png": "[encoded data removed]",
      "text/plain": [
       "<Figure size 432x288 with 1 Axes>"
      ]
     },
     "metadata": {
      "needs_background": "light"
     },
     "output_type": "display_data"
    }
   ],
   "source": [
    "plt.scatter(X['Years'],X['Kms_Driven'],c='y')\n",
    "plt.show()\n",
    "\n",
    "#  why there is no plot for this data set?\n",
    "#as normalisaton used to set sample bet 0 and 1 . how to use these to plot grapf \n",
    "# or these much is enough \n"
   ]
  },
  {
   "cell_type": "code",
   "execution_count": 176,
   "id": "02606941",
   "metadata": {},
   "outputs": [],
   "source": [
    "import seaborn as sns"
   ]
  },
  {
   "cell_type": "code",
   "execution_count": 192,
   "id": "d9514ede",
   "metadata": {},
   "outputs": [
    {
     "data": {
      "text/plain": [
       "<seaborn.axisgrid.FacetGrid at 0x18c97695520>"
      ]
     },
     "execution_count": 192,
     "metadata": {},
     "output_type": "execute_result"
    },
    {
     "data": {
      "image/png": "[encoded data removed]",
      "text/plain": [
       "<Figure size 360x360 with 1 Axes>"
      ]
     },
     "metadata": {
      "needs_background": "light"
     },
     "output_type": "display_data"
    }
   ],
   "source": [
    "sns.displot(predicted_price)"
   ]
  },
  {
   "cell_type": "code",
   "execution_count": null,
   "id": "78de0fea",
   "metadata": {},
   "outputs": [],
   "source": []
  }
 ],
 "metadata": {
  "kernelspec": {
   "display_name": "Python 3 (ipykernel)",
   "language": "python",
   "name": "python3"
  },
  "language_info": {
   "codemirror_mode": {
    "name": "ipython",
    "version": 3
   },
   "file_extension": ".py",
   "mimetype": "text/x-python",
   "name": "python",
   "nbconvert_exporter": "python",
   "pygments_lexer": "ipython3",
   "version": "3.9.12"
  }
 },
 "nbformat": 4,
 "nbformat_minor": 5
}
