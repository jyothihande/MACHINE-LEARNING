{
 "cells": [
  {
   "cell_type": "code",
   "execution_count": null,
   "id": "a6e305ac",
   "metadata": {},
   "outputs": [],
   "source": [
    "MACHINE LEARNING:\n",
    "1.Supervised learning\n",
    " -- Regression learning-- continuous variables in output/date/categorical(alphabet)\n",
    "     1.linear regression\n",
    "     2.polynimial regression\n",
    "     3.multiple regression\n",
    " -- Classification learning -- discrete variables in output like 0 1 2 3 or names of colour or      \n",
    "    animals-- output have single values -- yes/no/pass/fail\n",
    "    1.logistic regression as output coulmn is in discrete form 0 and 1 type \n",
    "    2.KNN  K nearest neighbour-  has no formula-- simplest alg--works on only numerical values\n",
    "      works when any new sample is added to the original dataset and compares and alot it\n",
    "      to the group/cluster or any nearest category but it is time taking process and for every new knn       value it will calculate distance betw samples. knn=2 or3 or5\n",
    "      KNN can be used for regreesion also but avoided  as values are continuous in the regression\n",
    "      and no groups can be formed\n",
    "          **refer knn docx file\n",
    "    3.Naive Bayes works in probibilty./ coulumns are independent of each-other.\n",
    "       BernoulliNB :when output column is binary 0 and 1 classification or True False\n",
    "       MultinomialNB : when output column is multi classification output with more than two samples\n",
    "       GaussianNB : when input column is continous  classification\n",
    "    \n",
    "    4.SVM Support vector machine algorithm: used for both linear and classification reg. depending           upon nature of output column. BUT majorly is used for classification\n",
    "           KNN AND SVM are almost same.\n",
    "           \n",
    "    5.Decision Tree:  used for less complex data using single tree in classification learing\n",
    "      Random Forest:  used for more complex data by using multiple tree.\n",
    "  \n",
    "2.unsupervised learning - output is not given predict on the basis input given\n",
    "-- clustering  -- insurance companies use this age wise salary and loan \n",
    "-- association -- recommendation on shopping websites moniter+mouse+keyboard and --youtube/insta                                                                              reels you may like this\n",
    "3.semi supervised learning\n",
    "\n"
   ]
  },
  {
   "cell_type": "raw",
   "id": "ae81e3cd",
   "metadata": {},
   "source": [
    "Steps in machine learning:\n",
    "\n",
    "1. Data selection/Data mining/acquisition: getting data from cloud or excel file or csv file\n",
    "2. EDA exploratory data analysis: df shape,info,describe\n",
    "3. feature enggineering : simplying columns of datasets by adding or removing,get dummies/encoding to                           change words to int, use of scale,removing blank values,\n",
    "4. model selection : selecting algorithm\n",
    "5.hyper parameter tuning:choose parametere under selected model\n"
   ]
  },
  {
   "cell_type": "code",
   "execution_count": null,
   "id": "37b81b48",
   "metadata": {},
   "outputs": [],
   "source": [
    "Types of Regression Learning:\n",
    "\n",
    "1.LINEAR regression  y=mx+c\n",
    "find m is slope\n",
    "find c is intercept means where line ploted touches y axis only in positive or negative\n",
    "y is y predicted\n",
    "\n",
    "here check relation between x and y\n",
    "x= 1 2 3 4 5\n",
    "y= 2 4 6 8 10\n",
    "y=2x relation between x and y "
   ]
  },
  {
   "cell_type": "code",
   "execution_count": null,
   "id": "7c1b00f3",
   "metadata": {},
   "outputs": [],
   "source": [
    "ERROR\n",
    "error is distance between line and points     "
   ]
  },
  {
   "cell_type": "code",
   "execution_count": null,
   "id": "a58d237a",
   "metadata": {},
   "outputs": [],
   "source": [
    "MSE mean square error ,MAE is used to check all errors in regression (actual ans- predicted ans)\n",
    "confusion matrix is used for checking accuracy of class "
   ]
  },
  {
   "cell_type": "code",
   "execution_count": 1,
   "id": "42d311ca",
   "metadata": {},
   "outputs": [],
   "source": [
    "x=[1,2,3,4,5,6]  # practice question\n",
    "y=[2,4,6,8,10,12]"
   ]
  },
  {
   "cell_type": "code",
   "execution_count": 2,
   "id": "4988e3a3",
   "metadata": {},
   "outputs": [],
   "source": [
    "import matplotlib.pyplot as plt"
   ]
  },
  {
   "cell_type": "code",
   "execution_count": 3,
   "id": "a871b9f8",
   "metadata": {},
   "outputs": [
    {
     "data": {
      "image/png": "[encoded data removed]",
      "text/plain": [
       "<Figure size 432x288 with 1 Axes>"
      ]
     },
     "metadata": {
      "needs_background": "light"
     },
     "output_type": "display_data"
    }
   ],
   "source": [
    "plt.scatter(x,y,marker='s',edgecolors='r',linewidths=5) #create straight line\n",
    "plt.plot(x,y)\n",
    "plt.show()"
   ]
  },
  {
   "cell_type": "code",
   "execution_count": 4,
   "id": "3f7eeeff",
   "metadata": {},
   "outputs": [
    {
     "data": {
      "image/png": "[encoded data removed]",
      "text/plain": [
       "<Figure size 432x288 with 1 Axes>"
      ]
     },
     "metadata": {
      "needs_background": "light"
     },
     "output_type": "display_data"
    }
   ],
   "source": [
    "x1=[1,3,5,6,7,8]\n",
    "y1=[2,5,7,9,10,11]\n",
    "y_pred=[1.5,3.5,5.5,7.5,9.5,11.5,13.5]\n",
    "plt.scatter(x1,y1,marker='s',edgecolors='r',linewidths=5) #create straight line\n",
    "plt.plot(y_pred) # plot y predicted distance bt shows error bet y true value and y predicted(straight line)\n",
    "plt.show()"
   ]
  },
  {
   "cell_type": "code",
   "execution_count": 4,
   "id": "fbe9b646",
   "metadata": {},
   "outputs": [
    {
     "data": {
      "image/png": "[encoded data removed]",
      "text/plain": [
       "<Figure size 432x288 with 1 Axes>"
      ]
     },
     "metadata": {
      "needs_background": "light"
     },
     "output_type": "display_data"
    }
   ],
   "source": [
    "x1=[1,3,5,6,7,8]\n",
    "y1=[2,5,7,9,10,11]\n",
    "y_pred=[5,6,7,8,9,10]\n",
    "plt.scatter(x1,y1,marker='s',edgecolors='r',linewidths=5) #create straight line\n",
    "plt.plot(y_pred) # plot y predicted distance bt shows error bet y true value and y predicted(straight line)\n",
    "plt.show()"
   ]
  },
  {
   "cell_type": "markdown",
   "id": "e8097e6a",
   "metadata": {},
   "source": [
    "Example"
   ]
  },
  {
   "cell_type": "code",
   "execution_count": 5,
   "id": "5d77711b",
   "metadata": {},
   "outputs": [],
   "source": [
    "import pandas as pd"
   ]
  },
  {
   "cell_type": "code",
   "execution_count": 6,
   "id": "93e94d90",
   "metadata": {},
   "outputs": [],
   "source": [
    "a=pd.read_csv(\"E:\\\\DATA SCIENCE\\\\NOVEMBER\\\\student1.csv\")"
   ]
  },
  {
   "cell_type": "code",
   "execution_count": 7,
   "id": "c682c255",
   "metadata": {},
   "outputs": [
    {
     "name": "stdout",
     "output_type": "stream",
     "text": [
      "<class 'pandas.core.frame.DataFrame'>\n",
      "RangeIndex: 42 entries, 0 to 41\n",
      "Data columns (total 6 columns):\n",
      " #   Column    Non-Null Count  Dtype  \n",
      "---  ------    --------------  -----  \n",
      " 0   name      42 non-null     object \n",
      " 1   gmat      42 non-null     int64  \n",
      " 2   gpa       42 non-null     float64\n",
      " 3   exp       42 non-null     int64  \n",
      " 4   admitted  42 non-null     int64  \n",
      " 5   country   42 non-null     object \n",
      "dtypes: float64(1), int64(3), object(2)\n",
      "memory usage: 2.1+ KB\n"
     ]
    }
   ],
   "source": [
    "a.info()"
   ]
  },
  {
   "cell_type": "code",
   "execution_count": 8,
   "id": "31e5c37c",
   "metadata": {},
   "outputs": [
    {
     "data": {
      "text/html": [
       "<div>\n",
       "<style scoped>\n",
       "    .dataframe tbody tr th:only-of-type {\n",
       "        vertical-align: middle;\n",
       "    }\n",
       "\n",
       "    .dataframe tbody tr th {\n",
       "        vertical-align: top;\n",
       "    }\n",
       "\n",
       "    .dataframe thead th {\n",
       "        text-align: right;\n",
       "    }\n",
       "</style>\n",
       "<table border=\"1\" class=\"dataframe\">\n",
       "  <thead>\n",
       "    <tr style=\"text-align: right;\">\n",
       "      <th></th>\n",
       "      <th>name</th>\n",
       "      <th>gmat</th>\n",
       "      <th>gpa</th>\n",
       "      <th>exp</th>\n",
       "      <th>admitted</th>\n",
       "      <th>country</th>\n",
       "    </tr>\n",
       "  </thead>\n",
       "  <tbody>\n",
       "    <tr>\n",
       "      <th>25</th>\n",
       "      <td>john</td>\n",
       "      <td>670</td>\n",
       "      <td>3.3</td>\n",
       "      <td>6</td>\n",
       "      <td>1</td>\n",
       "      <td>Ind</td>\n",
       "    </tr>\n",
       "    <tr>\n",
       "      <th>16</th>\n",
       "      <td>john</td>\n",
       "      <td>580</td>\n",
       "      <td>2.7</td>\n",
       "      <td>4</td>\n",
       "      <td>0</td>\n",
       "      <td>Ind</td>\n",
       "    </tr>\n",
       "    <tr>\n",
       "      <th>26</th>\n",
       "      <td>nida</td>\n",
       "      <td>660</td>\n",
       "      <td>3.7</td>\n",
       "      <td>4</td>\n",
       "      <td>1</td>\n",
       "      <td>Ind</td>\n",
       "    </tr>\n",
       "    <tr>\n",
       "      <th>22</th>\n",
       "      <td>deepika</td>\n",
       "      <td>550</td>\n",
       "      <td>2.3</td>\n",
       "      <td>4</td>\n",
       "      <td>0</td>\n",
       "      <td>Ind</td>\n",
       "    </tr>\n",
       "    <tr>\n",
       "      <th>10</th>\n",
       "      <td>kaushal</td>\n",
       "      <td>610</td>\n",
       "      <td>2.7</td>\n",
       "      <td>3</td>\n",
       "      <td>0</td>\n",
       "      <td>Ind</td>\n",
       "    </tr>\n",
       "  </tbody>\n",
       "</table>\n",
       "</div>"
      ],
      "text/plain": [
       "       name  gmat  gpa  exp  admitted country\n",
       "25     john   670  3.3    6         1     Ind\n",
       "16     john   580  2.7    4         0     Ind\n",
       "26     nida   660  3.7    4         1     Ind\n",
       "22  deepika   550  2.3    4         0     Ind\n",
       "10  kaushal   610  2.7    3         0     Ind"
      ]
     },
     "execution_count": 8,
     "metadata": {},
     "output_type": "execute_result"
    }
   ],
   "source": [
    "a.sample(5)"
   ]
  },
  {
   "cell_type": "code",
   "execution_count": 9,
   "id": "668d8200",
   "metadata": {},
   "outputs": [
    {
     "data": {
      "image/png": "[encoded data removed]",
      "text/plain": [
       "<Figure size 432x288 with 1 Axes>"
      ]
     },
     "metadata": {
      "needs_background": "light"
     },
     "output_type": "display_data"
    }
   ],
   "source": [
    "plt.scatter(a.gpa,a.gmat)\n",
    "plt.show()"
   ]
  },
  {
   "cell_type": "code",
   "execution_count": null,
   "id": "e81ada24",
   "metadata": {},
   "outputs": [],
   "source": [
    "# to find predicted y use scikit learn for package and methods"
   ]
  },
  {
   "cell_type": "code",
   "execution_count": 10,
   "id": "5e1d2991",
   "metadata": {},
   "outputs": [
    {
     "name": "stdout",
     "output_type": "stream",
     "text": [
      "Requirement already satisfied: scikit-learn in c:\\users\\comp\\anaconda3\\lib\\site-packages (1.0.2)\n",
      "Requirement already satisfied: scipy>=1.1.0 in c:\\users\\comp\\anaconda3\\lib\\site-packages (from scikit-learn) (1.7.3)\n",
      "Requirement already satisfied: joblib>=0.11 in c:\\users\\comp\\anaconda3\\lib\\site-packages (from scikit-learn) (1.2.0)\n",
      "Requirement already satisfied: threadpoolctl>=2.0.0 in c:\\users\\comp\\anaconda3\\lib\\site-packages (from scikit-learn) (2.2.0)\n",
      "Requirement already satisfied: numpy>=1.14.6 in c:\\users\\comp\\anaconda3\\lib\\site-packages (from scikit-learn) (1.21.5)\n",
      "Note: you may need to restart the kernel to use updated packages.\n"
     ]
    }
   ],
   "source": [
    "pip install scikit-learn"
   ]
  },
  {
   "cell_type": "code",
   "execution_count": 11,
   "id": "90ce51dd",
   "metadata": {},
   "outputs": [],
   "source": [
    "from sklearn.linear_model import LinearRegression"
   ]
  },
  {
   "cell_type": "code",
   "execution_count": null,
   "id": "5aa371ab",
   "metadata": {},
   "outputs": [],
   "source": [
    "LinearRegression is class\n",
    "model is object\n",
    "\n",
    "make model of linear regression after importing"
   ]
  },
  {
   "cell_type": "code",
   "execution_count": 12,
   "id": "dc0285c8",
   "metadata": {},
   "outputs": [],
   "source": [
    "model=LinearRegression()"
   ]
  },
  {
   "cell_type": "code",
   "execution_count": 13,
   "id": "9011f01a",
   "metadata": {},
   "outputs": [
    {
     "data": {
      "text/plain": [
       "LinearRegression()"
      ]
     },
     "execution_count": 13,
     "metadata": {},
     "output_type": "execute_result"
    }
   ],
   "source": [
    "model.fit(a[['gpa']],a.gmat)"
   ]
  },
  {
   "cell_type": "code",
   "execution_count": 14,
   "id": "460657e3",
   "metadata": {},
   "outputs": [
    {
     "data": {
      "text/plain": [
       "LinearRegression()"
      ]
     },
     "execution_count": 14,
     "metadata": {},
     "output_type": "execute_result"
    }
   ],
   "source": [
    "model.fit(a[['gpa']],a[['gmat']])"
   ]
  },
  {
   "cell_type": "code",
   "execution_count": 15,
   "id": "5adaf977",
   "metadata": {},
   "outputs": [
    {
     "data": {
      "text/plain": [
       "array([[702.0459878 ],\n",
       "       [696.48639137],\n",
       "       [663.12881276],\n",
       "       [685.3671985 ],\n",
       "       [696.48639137],\n",
       "       [685.3671985 ],\n",
       "       [607.53284843],\n",
       "       [663.12881276],\n",
       "       [663.12881276],\n",
       "       [574.17526983],\n",
       "       [629.77123416],\n",
       "       [685.3671985 ],\n",
       "       [685.3671985 ],\n",
       "       [663.12881276],\n",
       "       [663.12881276],\n",
       "       [646.45002346],\n",
       "       [629.77123416],\n",
       "       [685.3671985 ],\n",
       "       [629.77123416],\n",
       "       [607.53284843],\n",
       "       [663.12881276],\n",
       "       [590.85405913],\n",
       "       [607.53284843],\n",
       "       [629.77123416],\n",
       "       [646.45002346],\n",
       "       [663.12881276],\n",
       "       [685.3671985 ],\n",
       "       [607.53284843],\n",
       "       [685.3671985 ],\n",
       "       [663.12881276],\n",
       "       [646.45002346],\n",
       "       [629.77123416],\n",
       "       [702.0459878 ],\n",
       "       [663.12881276],\n",
       "       [663.12881276],\n",
       "       [607.53284843],\n",
       "       [629.77123416],\n",
       "       [663.12881276],\n",
       "       [574.17526983],\n",
       "       [685.3671985 ],\n",
       "       [685.3671985 ],\n",
       "       [685.3671985 ]])"
      ]
     },
     "execution_count": 15,
     "metadata": {},
     "output_type": "execute_result"
    }
   ],
   "source": [
    "y_predicted=model.predict(a[['gpa']])\n",
    "y_predicted"
   ]
  },
  {
   "cell_type": "code",
   "execution_count": 16,
   "id": "2397be76",
   "metadata": {},
   "outputs": [
    {
     "name": "stderr",
     "output_type": "stream",
     "text": [
      "C:\\Users\\Comp\\anaconda3\\lib\\site-packages\\sklearn\\base.py:450: UserWarning: X does not have valid feature names, but LinearRegression was fitted with feature names\n",
      "  warnings.warn(\n"
     ]
    },
    {
     "data": {
      "text/plain": [
       "array([[31057.44251525]])"
      ]
     },
     "execution_count": 16,
     "metadata": {},
     "output_type": "execute_result"
    }
   ],
   "source": [
    "model.predict([[550]])"
   ]
  },
  {
   "cell_type": "code",
   "execution_count": 17,
   "id": "59f6f37f",
   "metadata": {},
   "outputs": [
    {
     "data": {
      "image/png": "[encoded data removed]",
      "text/plain": [
       "<Figure size 432x288 with 1 Axes>"
      ]
     },
     "metadata": {
      "needs_background": "light"
     },
     "output_type": "display_data"
    }
   ],
   "source": [
    "plt.scatter(a.gpa,a.gmat,c='g')\n",
    "plt.plot(a.gpa,y_predicted,c='r')\n",
    "plt.show()"
   ]
  },
  {
   "cell_type": "code",
   "execution_count": 18,
   "id": "68b3956a",
   "metadata": {},
   "outputs": [
    {
     "data": {
      "text/plain": [
       "array([[55.59596434]])"
      ]
     },
     "execution_count": 18,
     "metadata": {},
     "output_type": "execute_result"
    }
   ],
   "source": [
    "model.coef_ # this m "
   ]
  },
  {
   "cell_type": "code",
   "execution_count": 19,
   "id": "7b6e5f5c",
   "metadata": {},
   "outputs": [
    {
     "data": {
      "text/plain": [
       "array([479.66213046])"
      ]
     },
     "execution_count": 19,
     "metadata": {},
     "output_type": "execute_result"
    }
   ],
   "source": [
    "model.intercept_ #  c intercept is poit where slope/line touches y axis"
   ]
  },
  {
   "cell_type": "code",
   "execution_count": null,
   "id": "a6976ebd",
   "metadata": {},
   "outputs": [],
   "source": [
    "ACCURACY R2\n",
    "R2_score measures accuracy of data \n",
    "value of R2 score will get betw 0 and 1. if value near to 1 then  model is good and\n",
    "value close to zero is bad model.0.72 means 72% ACCURACY\n",
    "-- main target is to get accuracy near to 100% or 1. ideal accuraccy is 100/1\n",
    "\n",
    "all parameters to judge accuracy is available in metrics module\n",
    "\n",
    "R value bet 0 and 1\n",
    "R2 value bet -1(decline line) and 1"
   ]
  },
  {
   "cell_type": "code",
   "execution_count": 20,
   "id": "7d587db9",
   "metadata": {},
   "outputs": [],
   "source": [
    "from sklearn.metrics import r2_score"
   ]
  },
  {
   "cell_type": "code",
   "execution_count": 21,
   "id": "d2e3d96c",
   "metadata": {},
   "outputs": [
    {
     "data": {
      "text/plain": [
       "0.7732558139534884"
      ]
     },
     "execution_count": 21,
     "metadata": {},
     "output_type": "execute_result"
    }
   ],
   "source": [
    "r2_score(y1,y_pred) # example of linear reg measuring accurcy"
   ]
  },
  {
   "cell_type": "code",
   "execution_count": 22,
   "id": "3864fca8",
   "metadata": {},
   "outputs": [
    {
     "data": {
      "text/plain": [
       "0.2977726887299599"
      ]
     },
     "execution_count": 22,
     "metadata": {},
     "output_type": "execute_result"
    }
   ],
   "source": [
    "r2_score(a.gmat,y_predicted)"
   ]
  },
  {
   "cell_type": "code",
   "execution_count": 23,
   "id": "771954d7",
   "metadata": {},
   "outputs": [],
   "source": [
    "from sklearn.metrics import mean_squared_error"
   ]
  },
  {
   "cell_type": "code",
   "execution_count": null,
   "id": "1f569bf8",
   "metadata": {},
   "outputs": [],
   "source": [
    "to find error in model MSE is used"
   ]
  },
  {
   "cell_type": "code",
   "execution_count": 24,
   "id": "bcae3731",
   "metadata": {},
   "outputs": [
    {
     "data": {
      "text/plain": [
       "2817.8264172867644"
      ]
     },
     "execution_count": 24,
     "metadata": {},
     "output_type": "execute_result"
    }
   ],
   "source": [
    "mean_squared_error(a.gmat,y_predicted)"
   ]
  },
  {
   "cell_type": "code",
   "execution_count": 25,
   "id": "d2353822",
   "metadata": {},
   "outputs": [
    {
     "data": {
      "text/plain": [
       "0.2977726887299599"
      ]
     },
     "execution_count": 25,
     "metadata": {},
     "output_type": "execute_result"
    }
   ],
   "source": [
    "model.score(a[['gpa']],a.gmat)"
   ]
  },
  {
   "cell_type": "markdown",
   "id": "445d7693",
   "metadata": {},
   "source": [
    "example by myself for practice:\n",
    "students marks out of 50 to remove fail students:"
   ]
  },
  {
   "cell_type": "code",
   "execution_count": 27,
   "id": "3eed8d5a",
   "metadata": {},
   "outputs": [],
   "source": [
    "import numpy as np"
   ]
  },
  {
   "cell_type": "code",
   "execution_count": 28,
   "id": "7fd41e46",
   "metadata": {},
   "outputs": [],
   "source": [
    "roll_no=np.array([5,3,2,8,4,6,9,7,1,11,15,18,14,19,16,13,20])\n",
    "marks=np.array([22,31,28,44,15,26,35,39,41,40,19,20,35,36,37,48,35])\n",
    "marks_pred=np.array([18,35,22,36,20,23,35,26,24,42,21,22,32,35,22,40,36])"
   ]
  },
  {
   "cell_type": "code",
   "execution_count": 29,
   "id": "a14a3998",
   "metadata": {},
   "outputs": [
    {
     "data": {
      "image/png": "[encoded data removed]",
      "text/plain": [
       "<Figure size 432x288 with 1 Axes>"
      ]
     },
     "metadata": {
      "needs_background": "light"
     },
     "output_type": "display_data"
    }
   ],
   "source": [
    "plt.scatter(roll_no,marks,marker='s',edgecolors='r',linewidths=5) #create straight line\n",
    "plt.plot(marks_pred)\n",
    "plt.show()"
   ]
  },
  {
   "cell_type": "code",
   "execution_count": 30,
   "id": "1ced20c8",
   "metadata": {},
   "outputs": [],
   "source": [
    "x1=roll_no.reshape(-1,1)"
   ]
  },
  {
   "cell_type": "code",
   "execution_count": 31,
   "id": "36e70c7a",
   "metadata": {},
   "outputs": [],
   "source": [
    "from sklearn.linear_model import LinearRegression"
   ]
  },
  {
   "cell_type": "code",
   "execution_count": 32,
   "id": "16c8c202",
   "metadata": {},
   "outputs": [],
   "source": [
    "model1=LinearRegression()"
   ]
  },
  {
   "cell_type": "code",
   "execution_count": 33,
   "id": "b26a5e4c",
   "metadata": {
    "scrolled": true
   },
   "outputs": [
    {
     "data": {
      "text/plain": [
       "LinearRegression()"
      ]
     },
     "execution_count": 33,
     "metadata": {},
     "output_type": "execute_result"
    }
   ],
   "source": [
    "model1.fit(x1,marks)"
   ]
  },
  {
   "cell_type": "code",
   "execution_count": 34,
   "id": "47588c6d",
   "metadata": {},
   "outputs": [],
   "source": [
    "marks_pred=model1.predict(x1)"
   ]
  },
  {
   "cell_type": "code",
   "execution_count": 35,
   "id": "6f5606ad",
   "metadata": {},
   "outputs": [
    {
     "data": {
      "image/png": "[encoded data removed]",
      "text/plain": [
       "<Figure size 432x288 with 1 Axes>"
      ]
     },
     "metadata": {
      "needs_background": "light"
     },
     "output_type": "display_data"
    }
   ],
   "source": [
    "plt.scatter(roll_no,marks,marker='s',edgecolors='r',linewidths=5) #create straight line\n",
    "plt.plot(x1,marks_pred)\n",
    "plt.show()"
   ]
  },
  {
   "cell_type": "code",
   "execution_count": 36,
   "id": "d7a64e2c",
   "metadata": {},
   "outputs": [
    {
     "data": {
      "text/plain": [
       "array([0.14359268])"
      ]
     },
     "execution_count": 36,
     "metadata": {},
     "output_type": "execute_result"
    }
   ],
   "source": [
    " model1.coef_"
   ]
  },
  {
   "cell_type": "code",
   "execution_count": 37,
   "id": "d997accf",
   "metadata": {},
   "outputs": [
    {
     "data": {
      "text/plain": [
       "30.967391304347828"
      ]
     },
     "execution_count": 37,
     "metadata": {},
     "output_type": "execute_result"
    }
   ],
   "source": [
    "model1.intercept_"
   ]
  },
  {
   "cell_type": "code",
   "execution_count": 38,
   "id": "7d6c5faa",
   "metadata": {},
   "outputs": [
    {
     "data": {
      "text/plain": [
       "0.00899544808994912"
      ]
     },
     "execution_count": 38,
     "metadata": {},
     "output_type": "execute_result"
    }
   ],
   "source": [
    "model1.score(x1,marks)"
   ]
  },
  {
   "cell_type": "code",
   "execution_count": 39,
   "id": "d7fe0715",
   "metadata": {},
   "outputs": [],
   "source": [
    "import seaborn as sns"
   ]
  },
  {
   "cell_type": "code",
   "execution_count": 40,
   "id": "f6b8431a",
   "metadata": {},
   "outputs": [
    {
     "data": {
      "text/plain": [
       "<seaborn.axisgrid.FacetGrid at 0x20961200250>"
      ]
     },
     "execution_count": 40,
     "metadata": {},
     "output_type": "execute_result"
    },
    {
     "data": {
      "image/png": "[encoded data removed]",
      "text/plain": [
       "<Figure size 360x360 with 1 Axes>"
      ]
     },
     "metadata": {
      "needs_background": "light"
     },
     "output_type": "display_data"
    }
   ],
   "source": [
    "sns.displot(marks_pred)"
   ]
  },
  {
   "cell_type": "code",
   "execution_count": 41,
   "id": "ca0d0643",
   "metadata": {},
   "outputs": [],
   "source": [
    "import scipy # earlier engg do not have scikit so they use scipy to find paramteres like slop,intercept"
   ]
  },
  {
   "cell_type": "code",
   "execution_count": 42,
   "id": "48ac4ad5",
   "metadata": {},
   "outputs": [
    {
     "name": "stdout",
     "output_type": "stream",
     "text": [
      "Requirement already satisfied: scipy in c:\\users\\comp\\anaconda3\\lib\\site-packages (1.7.3)\n",
      "Requirement already satisfied: numpy<1.23.0,>=1.16.5 in c:\\users\\comp\\anaconda3\\lib\\site-packages (from scipy) (1.21.5)\n"
     ]
    }
   ],
   "source": [
    "!pip install scipy"
   ]
  },
  {
   "cell_type": "code",
   "execution_count": 43,
   "id": "c2855700",
   "metadata": {},
   "outputs": [],
   "source": [
    "from scipy import stats"
   ]
  },
  {
   "cell_type": "code",
   "execution_count": 44,
   "id": "4d322c29",
   "metadata": {},
   "outputs": [],
   "source": [
    "slope,intercept,r,p,stderr=stats.linregress(roll_no,marks)"
   ]
  },
  {
   "cell_type": "code",
   "execution_count": 45,
   "id": "7798d7fe",
   "metadata": {},
   "outputs": [
    {
     "data": {
      "text/plain": [
       "0.14359267734553782"
      ]
     },
     "execution_count": 45,
     "metadata": {},
     "output_type": "execute_result"
    }
   ],
   "source": [
    "slope"
   ]
  },
  {
   "cell_type": "code",
   "execution_count": 46,
   "id": "f197fc9d",
   "metadata": {},
   "outputs": [
    {
     "data": {
      "text/plain": [
       "30.967391304347828"
      ]
     },
     "execution_count": 46,
     "metadata": {},
     "output_type": "execute_result"
    }
   ],
   "source": [
    "intercept"
   ]
  },
  {
   "cell_type": "code",
   "execution_count": 47,
   "id": "ad8b3454",
   "metadata": {},
   "outputs": [
    {
     "data": {
      "text/plain": [
       "0.09484433609841579"
      ]
     },
     "execution_count": 47,
     "metadata": {},
     "output_type": "execute_result"
    }
   ],
   "source": [
    "r"
   ]
  },
  {
   "cell_type": "code",
   "execution_count": 48,
   "id": "6aa811e3",
   "metadata": {},
   "outputs": [
    {
     "data": {
      "text/plain": [
       "-15.773073989321126"
      ]
     },
     "execution_count": 48,
     "metadata": {},
     "output_type": "execute_result"
    }
   ],
   "source": [
    "r2_score(roll_no,marks)"
   ]
  },
  {
   "cell_type": "code",
   "execution_count": 49,
   "id": "20899a8a",
   "metadata": {},
   "outputs": [
    {
     "data": {
      "text/plain": [
       "0.7172887861201116"
      ]
     },
     "execution_count": 49,
     "metadata": {},
     "output_type": "execute_result"
    }
   ],
   "source": [
    "p"
   ]
  },
  {
   "cell_type": "code",
   "execution_count": 50,
   "id": "c8f997c3",
   "metadata": {},
   "outputs": [
    {
     "data": {
      "text/plain": [
       "0.389146463001268"
      ]
     },
     "execution_count": 50,
     "metadata": {},
     "output_type": "execute_result"
    }
   ],
   "source": [
    "stderr  # error has to close to zero less error more accuracte model"
   ]
  },
  {
   "cell_type": "code",
   "execution_count": 51,
   "id": "84365e43",
   "metadata": {},
   "outputs": [],
   "source": [
    "def prediction(x):\n",
    "    return slope*x+intercept"
   ]
  },
  {
   "cell_type": "code",
   "execution_count": 52,
   "id": "7bbb8258",
   "metadata": {},
   "outputs": [],
   "source": [
    "marks_pred=list(map(prediction,roll_no))"
   ]
  },
  {
   "cell_type": "code",
   "execution_count": 53,
   "id": "248d96ba",
   "metadata": {},
   "outputs": [
    {
     "data": {
      "text/plain": [
       "[31.685354691075517,\n",
       " 31.39816933638444,\n",
       " 31.254576659038904,\n",
       " 32.11613272311213,\n",
       " 31.54176201372998,\n",
       " 31.828947368421055,\n",
       " 32.25972540045767,\n",
       " 31.972540045766593,\n",
       " 31.110983981693366,\n",
       " 32.546910755148744,\n",
       " 33.121281464530895,\n",
       " 33.55205949656751,\n",
       " 32.97768878718536,\n",
       " 33.69565217391305,\n",
       " 33.26487414187643,\n",
       " 32.83409610983982,\n",
       " 33.839244851258584]"
      ]
     },
     "execution_count": 53,
     "metadata": {},
     "output_type": "execute_result"
    }
   ],
   "source": [
    "marks_pred"
   ]
  },
  {
   "cell_type": "code",
   "execution_count": 54,
   "id": "bda890a2",
   "metadata": {},
   "outputs": [
    {
     "data": {
      "image/png": "[encoded data removed]",
      "text/plain": [
       "<Figure size 432x288 with 1 Axes>"
      ]
     },
     "metadata": {
      "needs_background": "light"
     },
     "output_type": "display_data"
    }
   ],
   "source": [
    "plt.scatter(roll_no,marks)\n",
    "plt.plot(roll_no,marks_pred)\n",
    "plt.show()"
   ]
  },
  {
   "cell_type": "code",
   "execution_count": 55,
   "id": "107496b2",
   "metadata": {},
   "outputs": [
    {
     "data": {
      "text/plain": [
       "0.14359267734553782"
      ]
     },
     "execution_count": 55,
     "metadata": {},
     "output_type": "execute_result"
    }
   ],
   "source": [
    "slope"
   ]
  },
  {
   "cell_type": "code",
   "execution_count": 56,
   "id": "151bdf6c",
   "metadata": {},
   "outputs": [
    {
     "data": {
      "text/plain": [
       "30.967391304347828"
      ]
     },
     "execution_count": 56,
     "metadata": {},
     "output_type": "execute_result"
    }
   ],
   "source": [
    "intercept"
   ]
  },
  {
   "cell_type": "code",
   "execution_count": 57,
   "id": "1cfe4775",
   "metadata": {},
   "outputs": [
    {
     "data": {
      "text/plain": [
       "0.09484433609841579"
      ]
     },
     "execution_count": 57,
     "metadata": {},
     "output_type": "execute_result"
    }
   ],
   "source": [
    "r"
   ]
  },
  {
   "cell_type": "code",
   "execution_count": 58,
   "id": "2fedd765",
   "metadata": {},
   "outputs": [
    {
     "data": {
      "text/plain": [
       "0.008995448089949256"
      ]
     },
     "execution_count": 58,
     "metadata": {},
     "output_type": "execute_result"
    }
   ],
   "source": [
    "r**2"
   ]
  },
  {
   "cell_type": "code",
   "execution_count": null,
   "id": "5d912ea8",
   "metadata": {},
   "outputs": [],
   "source": []
  }
 ],
 "metadata": {
  "kernelspec": {
   "display_name": "Python 3 (ipykernel)",
   "language": "python",
   "name": "python3"
  },
  "language_info": {
   "codemirror_mode": {
    "name": "ipython",
    "version": 3
   },
   "file_extension": ".py",
   "mimetype": "text/x-python",
   "name": "python",
   "nbconvert_exporter": "python",
   "pygments_lexer": "ipython3",
   "version": "3.9.12"
  }
 },
 "nbformat": 4,
 "nbformat_minor": 5
}
