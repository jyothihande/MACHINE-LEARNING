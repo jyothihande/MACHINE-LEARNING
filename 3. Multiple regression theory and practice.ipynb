{
 "cells": [
  {
   "cell_type": "code",
   "execution_count": null,
   "id": "6678b188",
   "metadata": {},
   "outputs": [],
   "source": [
    "what is multiple regresion?\n",
    "multiple coulmns as input  and single output coulmn\n",
    "examples: cars.csv\n",
    "car brand name + model name + volumne + weight = CO2 emmittion by car\n",
    "here multiple input and one output\n",
    "\n",
    "--scatter plot can not be used for multiple regession\n",
    "laptop name/colour+ memory RAM + screen display +  actual price + selling price\n",
    "m0x0+m1x1+m2x2+m3x3"
   ]
  },
  {
   "cell_type": "code",
   "execution_count": null,
   "id": "af536cc1",
   "metadata": {},
   "outputs": [],
   "source": [
    "scaling technique: to minimize range of data of required input coulmns to bring into similar range \n",
    "and in more simple version to plot. selecting desired coulmn for perfect output out of \n",
    "multiple coulmns and check any negative or null/blank value is present or not\n",
    "\n",
    "\n",
    "two methoda used \n",
    "1.normalization : formula for normalisation x(norm)=X-x(min)/x(max)-x(min)\n",
    "xmin/xmax is min/max value in each coulmn\n",
    "x(norm) value always come betw 0 and 1.\n",
    "2.standardization"
   ]
  },
  {
   "cell_type": "code",
   "execution_count": 1,
   "id": "c30b7952",
   "metadata": {},
   "outputs": [],
   "source": [
    "import pandas as pd"
   ]
  },
  {
   "cell_type": "code",
   "execution_count": 2,
   "id": "a6bad3bb",
   "metadata": {},
   "outputs": [],
   "source": [
    "df=pd.read_csv(\"E:\\DATA SCIENCE\\JANUARY\\car data.csv\")"
   ]
  },
  {
   "cell_type": "code",
   "execution_count": 3,
   "id": "3de8fae1",
   "metadata": {},
   "outputs": [
    {
     "data": {
      "text/html": [
       "<div>\n",
       "<style scoped>\n",
       "    .dataframe tbody tr th:only-of-type {\n",
       "        vertical-align: middle;\n",
       "    }\n",
       "\n",
       "    .dataframe tbody tr th {\n",
       "        vertical-align: top;\n",
       "    }\n",
       "\n",
       "    .dataframe thead th {\n",
       "        text-align: right;\n",
       "    }\n",
       "</style>\n",
       "<table border=\"1\" class=\"dataframe\">\n",
       "  <thead>\n",
       "    <tr style=\"text-align: right;\">\n",
       "      <th></th>\n",
       "      <th>Car_Name</th>\n",
       "      <th>Year</th>\n",
       "      <th>Selling_Price</th>\n",
       "      <th>Present_Price</th>\n",
       "      <th>Kms_Driven</th>\n",
       "      <th>Fuel_Type</th>\n",
       "      <th>Seller_Type</th>\n",
       "      <th>Transmission</th>\n",
       "      <th>Owner</th>\n",
       "    </tr>\n",
       "  </thead>\n",
       "  <tbody>\n",
       "    <tr>\n",
       "      <th>0</th>\n",
       "      <td>ritz</td>\n",
       "      <td>2014</td>\n",
       "      <td>3.35</td>\n",
       "      <td>5.59</td>\n",
       "      <td>27000</td>\n",
       "      <td>Petrol</td>\n",
       "      <td>Dealer</td>\n",
       "      <td>Manual</td>\n",
       "      <td>0</td>\n",
       "    </tr>\n",
       "    <tr>\n",
       "      <th>1</th>\n",
       "      <td>sx4</td>\n",
       "      <td>2013</td>\n",
       "      <td>4.75</td>\n",
       "      <td>9.54</td>\n",
       "      <td>43000</td>\n",
       "      <td>Diesel</td>\n",
       "      <td>Dealer</td>\n",
       "      <td>Manual</td>\n",
       "      <td>0</td>\n",
       "    </tr>\n",
       "    <tr>\n",
       "      <th>2</th>\n",
       "      <td>ciaz</td>\n",
       "      <td>2017</td>\n",
       "      <td>7.25</td>\n",
       "      <td>9.85</td>\n",
       "      <td>6900</td>\n",
       "      <td>Petrol</td>\n",
       "      <td>Dealer</td>\n",
       "      <td>Manual</td>\n",
       "      <td>0</td>\n",
       "    </tr>\n",
       "    <tr>\n",
       "      <th>3</th>\n",
       "      <td>wagon r</td>\n",
       "      <td>2011</td>\n",
       "      <td>2.85</td>\n",
       "      <td>4.15</td>\n",
       "      <td>5200</td>\n",
       "      <td>Petrol</td>\n",
       "      <td>Dealer</td>\n",
       "      <td>Manual</td>\n",
       "      <td>0</td>\n",
       "    </tr>\n",
       "    <tr>\n",
       "      <th>4</th>\n",
       "      <td>swift</td>\n",
       "      <td>2014</td>\n",
       "      <td>4.60</td>\n",
       "      <td>6.87</td>\n",
       "      <td>42450</td>\n",
       "      <td>Diesel</td>\n",
       "      <td>Dealer</td>\n",
       "      <td>Manual</td>\n",
       "      <td>0</td>\n",
       "    </tr>\n",
       "    <tr>\n",
       "      <th>...</th>\n",
       "      <td>...</td>\n",
       "      <td>...</td>\n",
       "      <td>...</td>\n",
       "      <td>...</td>\n",
       "      <td>...</td>\n",
       "      <td>...</td>\n",
       "      <td>...</td>\n",
       "      <td>...</td>\n",
       "      <td>...</td>\n",
       "    </tr>\n",
       "    <tr>\n",
       "      <th>296</th>\n",
       "      <td>city</td>\n",
       "      <td>2016</td>\n",
       "      <td>9.50</td>\n",
       "      <td>11.60</td>\n",
       "      <td>33988</td>\n",
       "      <td>Diesel</td>\n",
       "      <td>Dealer</td>\n",
       "      <td>Manual</td>\n",
       "      <td>0</td>\n",
       "    </tr>\n",
       "    <tr>\n",
       "      <th>297</th>\n",
       "      <td>brio</td>\n",
       "      <td>2015</td>\n",
       "      <td>4.00</td>\n",
       "      <td>5.90</td>\n",
       "      <td>60000</td>\n",
       "      <td>Petrol</td>\n",
       "      <td>Dealer</td>\n",
       "      <td>Manual</td>\n",
       "      <td>0</td>\n",
       "    </tr>\n",
       "    <tr>\n",
       "      <th>298</th>\n",
       "      <td>city</td>\n",
       "      <td>2009</td>\n",
       "      <td>3.35</td>\n",
       "      <td>11.00</td>\n",
       "      <td>87934</td>\n",
       "      <td>Petrol</td>\n",
       "      <td>Dealer</td>\n",
       "      <td>Manual</td>\n",
       "      <td>0</td>\n",
       "    </tr>\n",
       "    <tr>\n",
       "      <th>299</th>\n",
       "      <td>city</td>\n",
       "      <td>2017</td>\n",
       "      <td>11.50</td>\n",
       "      <td>12.50</td>\n",
       "      <td>9000</td>\n",
       "      <td>Diesel</td>\n",
       "      <td>Dealer</td>\n",
       "      <td>Manual</td>\n",
       "      <td>0</td>\n",
       "    </tr>\n",
       "    <tr>\n",
       "      <th>300</th>\n",
       "      <td>brio</td>\n",
       "      <td>2016</td>\n",
       "      <td>5.30</td>\n",
       "      <td>5.90</td>\n",
       "      <td>5464</td>\n",
       "      <td>Petrol</td>\n",
       "      <td>Dealer</td>\n",
       "      <td>Manual</td>\n",
       "      <td>0</td>\n",
       "    </tr>\n",
       "  </tbody>\n",
       "</table>\n",
       "<p>301 rows × 9 columns</p>\n",
       "</div>"
      ],
      "text/plain": [
       "    Car_Name  Year  Selling_Price  Present_Price  Kms_Driven Fuel_Type  \\\n",
       "0       ritz  2014           3.35           5.59       27000    Petrol   \n",
       "1        sx4  2013           4.75           9.54       43000    Diesel   \n",
       "2       ciaz  2017           7.25           9.85        6900    Petrol   \n",
       "3    wagon r  2011           2.85           4.15        5200    Petrol   \n",
       "4      swift  2014           4.60           6.87       42450    Diesel   \n",
       "..       ...   ...            ...            ...         ...       ...   \n",
       "296     city  2016           9.50          11.60       33988    Diesel   \n",
       "297     brio  2015           4.00           5.90       60000    Petrol   \n",
       "298     city  2009           3.35          11.00       87934    Petrol   \n",
       "299     city  2017          11.50          12.50        9000    Diesel   \n",
       "300     brio  2016           5.30           5.90        5464    Petrol   \n",
       "\n",
       "    Seller_Type Transmission  Owner  \n",
       "0        Dealer       Manual      0  \n",
       "1        Dealer       Manual      0  \n",
       "2        Dealer       Manual      0  \n",
       "3        Dealer       Manual      0  \n",
       "4        Dealer       Manual      0  \n",
       "..          ...          ...    ...  \n",
       "296      Dealer       Manual      0  \n",
       "297      Dealer       Manual      0  \n",
       "298      Dealer       Manual      0  \n",
       "299      Dealer       Manual      0  \n",
       "300      Dealer       Manual      0  \n",
       "\n",
       "[301 rows x 9 columns]"
      ]
     },
     "execution_count": 3,
     "metadata": {},
     "output_type": "execute_result"
    }
   ],
   "source": [
    "df"
   ]
  },
  {
   "cell_type": "code",
   "execution_count": 4,
   "id": "c8720269",
   "metadata": {},
   "outputs": [
    {
     "data": {
      "text/html": [
       "<div>\n",
       "<style scoped>\n",
       "    .dataframe tbody tr th:only-of-type {\n",
       "        vertical-align: middle;\n",
       "    }\n",
       "\n",
       "    .dataframe tbody tr th {\n",
       "        vertical-align: top;\n",
       "    }\n",
       "\n",
       "    .dataframe thead th {\n",
       "        text-align: right;\n",
       "    }\n",
       "</style>\n",
       "<table border=\"1\" class=\"dataframe\">\n",
       "  <thead>\n",
       "    <tr style=\"text-align: right;\">\n",
       "      <th></th>\n",
       "      <th>Car_Name</th>\n",
       "      <th>Year</th>\n",
       "      <th>Selling_Price</th>\n",
       "      <th>Present_Price</th>\n",
       "      <th>Kms_Driven</th>\n",
       "      <th>Fuel_Type</th>\n",
       "      <th>Seller_Type</th>\n",
       "      <th>Transmission</th>\n",
       "      <th>Owner</th>\n",
       "    </tr>\n",
       "  </thead>\n",
       "  <tbody>\n",
       "    <tr>\n",
       "      <th>0</th>\n",
       "      <td>ritz</td>\n",
       "      <td>2014</td>\n",
       "      <td>3.35</td>\n",
       "      <td>5.59</td>\n",
       "      <td>27000</td>\n",
       "      <td>Petrol</td>\n",
       "      <td>Dealer</td>\n",
       "      <td>Manual</td>\n",
       "      <td>0</td>\n",
       "    </tr>\n",
       "    <tr>\n",
       "      <th>1</th>\n",
       "      <td>sx4</td>\n",
       "      <td>2013</td>\n",
       "      <td>4.75</td>\n",
       "      <td>9.54</td>\n",
       "      <td>43000</td>\n",
       "      <td>Diesel</td>\n",
       "      <td>Dealer</td>\n",
       "      <td>Manual</td>\n",
       "      <td>0</td>\n",
       "    </tr>\n",
       "    <tr>\n",
       "      <th>2</th>\n",
       "      <td>ciaz</td>\n",
       "      <td>2017</td>\n",
       "      <td>7.25</td>\n",
       "      <td>9.85</td>\n",
       "      <td>6900</td>\n",
       "      <td>Petrol</td>\n",
       "      <td>Dealer</td>\n",
       "      <td>Manual</td>\n",
       "      <td>0</td>\n",
       "    </tr>\n",
       "    <tr>\n",
       "      <th>3</th>\n",
       "      <td>wagon r</td>\n",
       "      <td>2011</td>\n",
       "      <td>2.85</td>\n",
       "      <td>4.15</td>\n",
       "      <td>5200</td>\n",
       "      <td>Petrol</td>\n",
       "      <td>Dealer</td>\n",
       "      <td>Manual</td>\n",
       "      <td>0</td>\n",
       "    </tr>\n",
       "    <tr>\n",
       "      <th>4</th>\n",
       "      <td>swift</td>\n",
       "      <td>2014</td>\n",
       "      <td>4.60</td>\n",
       "      <td>6.87</td>\n",
       "      <td>42450</td>\n",
       "      <td>Diesel</td>\n",
       "      <td>Dealer</td>\n",
       "      <td>Manual</td>\n",
       "      <td>0</td>\n",
       "    </tr>\n",
       "  </tbody>\n",
       "</table>\n",
       "</div>"
      ],
      "text/plain": [
       "  Car_Name  Year  Selling_Price  Present_Price  Kms_Driven Fuel_Type  \\\n",
       "0     ritz  2014           3.35           5.59       27000    Petrol   \n",
       "1      sx4  2013           4.75           9.54       43000    Diesel   \n",
       "2     ciaz  2017           7.25           9.85        6900    Petrol   \n",
       "3  wagon r  2011           2.85           4.15        5200    Petrol   \n",
       "4    swift  2014           4.60           6.87       42450    Diesel   \n",
       "\n",
       "  Seller_Type Transmission  Owner  \n",
       "0      Dealer       Manual      0  \n",
       "1      Dealer       Manual      0  \n",
       "2      Dealer       Manual      0  \n",
       "3      Dealer       Manual      0  \n",
       "4      Dealer       Manual      0  "
      ]
     },
     "execution_count": 4,
     "metadata": {},
     "output_type": "execute_result"
    }
   ],
   "source": [
    "df.head()"
   ]
  },
  {
   "cell_type": "code",
   "execution_count": 5,
   "id": "ef983d66",
   "metadata": {},
   "outputs": [
    {
     "name": "stdout",
     "output_type": "stream",
     "text": [
      "<class 'pandas.core.frame.DataFrame'>\n",
      "RangeIndex: 301 entries, 0 to 300\n",
      "Data columns (total 9 columns):\n",
      " #   Column         Non-Null Count  Dtype  \n",
      "---  ------         --------------  -----  \n",
      " 0   Car_Name       301 non-null    object \n",
      " 1   Year           301 non-null    int64  \n",
      " 2   Selling_Price  301 non-null    float64\n",
      " 3   Present_Price  301 non-null    float64\n",
      " 4   Kms_Driven     301 non-null    int64  \n",
      " 5   Fuel_Type      301 non-null    object \n",
      " 6   Seller_Type    301 non-null    object \n",
      " 7   Transmission   301 non-null    object \n",
      " 8   Owner          301 non-null    int64  \n",
      "dtypes: float64(2), int64(3), object(4)\n",
      "memory usage: 21.3+ KB\n"
     ]
    }
   ],
   "source": [
    "df.info() # to check data type and to check null values are prsent or not"
   ]
  },
  {
   "cell_type": "code",
   "execution_count": 6,
   "id": "a7b8e75d",
   "metadata": {},
   "outputs": [
    {
     "data": {
      "text/plain": [
       "(301, 9)"
      ]
     },
     "execution_count": 6,
     "metadata": {},
     "output_type": "execute_result"
    }
   ],
   "source": [
    "df.shape # 301 rows and 9 coulmns"
   ]
  },
  {
   "cell_type": "code",
   "execution_count": 7,
   "id": "ebe3dfb6",
   "metadata": {},
   "outputs": [
    {
     "data": {
      "text/plain": [
       "Car_Name         0\n",
       "Year             0\n",
       "Selling_Price    0\n",
       "Present_Price    0\n",
       "Kms_Driven       0\n",
       "Fuel_Type        0\n",
       "Seller_Type      0\n",
       "Transmission     0\n",
       "Owner            0\n",
       "dtype: int64"
      ]
     },
     "execution_count": 7,
     "metadata": {},
     "output_type": "execute_result"
    }
   ],
   "source": [
    "df.isnull().sum() # gives sum of all null values of each coulmn"
   ]
  },
  {
   "cell_type": "code",
   "execution_count": 8,
   "id": "8a982a27",
   "metadata": {},
   "outputs": [
    {
     "data": {
      "text/html": [
       "<div>\n",
       "<style scoped>\n",
       "    .dataframe tbody tr th:only-of-type {\n",
       "        vertical-align: middle;\n",
       "    }\n",
       "\n",
       "    .dataframe tbody tr th {\n",
       "        vertical-align: top;\n",
       "    }\n",
       "\n",
       "    .dataframe thead th {\n",
       "        text-align: right;\n",
       "    }\n",
       "</style>\n",
       "<table border=\"1\" class=\"dataframe\">\n",
       "  <thead>\n",
       "    <tr style=\"text-align: right;\">\n",
       "      <th></th>\n",
       "      <th>Year</th>\n",
       "      <th>Selling_Price</th>\n",
       "      <th>Present_Price</th>\n",
       "      <th>Kms_Driven</th>\n",
       "      <th>Owner</th>\n",
       "    </tr>\n",
       "  </thead>\n",
       "  <tbody>\n",
       "    <tr>\n",
       "      <th>count</th>\n",
       "      <td>301.000000</td>\n",
       "      <td>301.000000</td>\n",
       "      <td>301.000000</td>\n",
       "      <td>301.000000</td>\n",
       "      <td>301.000000</td>\n",
       "    </tr>\n",
       "    <tr>\n",
       "      <th>mean</th>\n",
       "      <td>2013.627907</td>\n",
       "      <td>4.661296</td>\n",
       "      <td>7.628472</td>\n",
       "      <td>36947.205980</td>\n",
       "      <td>0.043189</td>\n",
       "    </tr>\n",
       "    <tr>\n",
       "      <th>std</th>\n",
       "      <td>2.891554</td>\n",
       "      <td>5.082812</td>\n",
       "      <td>8.644115</td>\n",
       "      <td>38886.883882</td>\n",
       "      <td>0.247915</td>\n",
       "    </tr>\n",
       "    <tr>\n",
       "      <th>min</th>\n",
       "      <td>2003.000000</td>\n",
       "      <td>0.100000</td>\n",
       "      <td>0.320000</td>\n",
       "      <td>500.000000</td>\n",
       "      <td>0.000000</td>\n",
       "    </tr>\n",
       "    <tr>\n",
       "      <th>25%</th>\n",
       "      <td>2012.000000</td>\n",
       "      <td>0.900000</td>\n",
       "      <td>1.200000</td>\n",
       "      <td>15000.000000</td>\n",
       "      <td>0.000000</td>\n",
       "    </tr>\n",
       "    <tr>\n",
       "      <th>50%</th>\n",
       "      <td>2014.000000</td>\n",
       "      <td>3.600000</td>\n",
       "      <td>6.400000</td>\n",
       "      <td>32000.000000</td>\n",
       "      <td>0.000000</td>\n",
       "    </tr>\n",
       "    <tr>\n",
       "      <th>75%</th>\n",
       "      <td>2016.000000</td>\n",
       "      <td>6.000000</td>\n",
       "      <td>9.900000</td>\n",
       "      <td>48767.000000</td>\n",
       "      <td>0.000000</td>\n",
       "    </tr>\n",
       "    <tr>\n",
       "      <th>max</th>\n",
       "      <td>2018.000000</td>\n",
       "      <td>35.000000</td>\n",
       "      <td>92.600000</td>\n",
       "      <td>500000.000000</td>\n",
       "      <td>3.000000</td>\n",
       "    </tr>\n",
       "  </tbody>\n",
       "</table>\n",
       "</div>"
      ],
      "text/plain": [
       "              Year  Selling_Price  Present_Price     Kms_Driven       Owner\n",
       "count   301.000000     301.000000     301.000000     301.000000  301.000000\n",
       "mean   2013.627907       4.661296       7.628472   36947.205980    0.043189\n",
       "std       2.891554       5.082812       8.644115   38886.883882    0.247915\n",
       "min    2003.000000       0.100000       0.320000     500.000000    0.000000\n",
       "25%    2012.000000       0.900000       1.200000   15000.000000    0.000000\n",
       "50%    2014.000000       3.600000       6.400000   32000.000000    0.000000\n",
       "75%    2016.000000       6.000000       9.900000   48767.000000    0.000000\n",
       "max    2018.000000      35.000000      92.600000  500000.000000    3.000000"
      ]
     },
     "execution_count": 8,
     "metadata": {},
     "output_type": "execute_result"
    }
   ],
   "source": [
    "df.describe() # of is coulmn and this helps to check any negative vlaue"
   ]
  },
  {
   "cell_type": "code",
   "execution_count": null,
   "id": "223f0f9d",
   "metadata": {},
   "outputs": [],
   "source": [
    "here Selling_Price','Present_Price are two inputs in X and  Kms_Driven as one single outptu in \"y\"\n",
    "\n",
    "X is in capital and y is small letter"
   ]
  },
  {
   "cell_type": "code",
   "execution_count": 12,
   "id": "c81ff4f3",
   "metadata": {},
   "outputs": [],
   "source": [
    "X=df[['Selling_Price','Present_Price']]"
   ]
  },
  {
   "cell_type": "code",
   "execution_count": 13,
   "id": "ea249032",
   "metadata": {},
   "outputs": [
    {
     "data": {
      "text/html": [
       "<div>\n",
       "<style scoped>\n",
       "    .dataframe tbody tr th:only-of-type {\n",
       "        vertical-align: middle;\n",
       "    }\n",
       "\n",
       "    .dataframe tbody tr th {\n",
       "        vertical-align: top;\n",
       "    }\n",
       "\n",
       "    .dataframe thead th {\n",
       "        text-align: right;\n",
       "    }\n",
       "</style>\n",
       "<table border=\"1\" class=\"dataframe\">\n",
       "  <thead>\n",
       "    <tr style=\"text-align: right;\">\n",
       "      <th></th>\n",
       "      <th>Selling_Price</th>\n",
       "      <th>Present_Price</th>\n",
       "    </tr>\n",
       "  </thead>\n",
       "  <tbody>\n",
       "    <tr>\n",
       "      <th>0</th>\n",
       "      <td>3.35</td>\n",
       "      <td>5.59</td>\n",
       "    </tr>\n",
       "    <tr>\n",
       "      <th>1</th>\n",
       "      <td>4.75</td>\n",
       "      <td>9.54</td>\n",
       "    </tr>\n",
       "    <tr>\n",
       "      <th>2</th>\n",
       "      <td>7.25</td>\n",
       "      <td>9.85</td>\n",
       "    </tr>\n",
       "    <tr>\n",
       "      <th>3</th>\n",
       "      <td>2.85</td>\n",
       "      <td>4.15</td>\n",
       "    </tr>\n",
       "    <tr>\n",
       "      <th>4</th>\n",
       "      <td>4.60</td>\n",
       "      <td>6.87</td>\n",
       "    </tr>\n",
       "  </tbody>\n",
       "</table>\n",
       "</div>"
      ],
      "text/plain": [
       "   Selling_Price  Present_Price\n",
       "0           3.35           5.59\n",
       "1           4.75           9.54\n",
       "2           7.25           9.85\n",
       "3           2.85           4.15\n",
       "4           4.60           6.87"
      ]
     },
     "execution_count": 13,
     "metadata": {},
     "output_type": "execute_result"
    }
   ],
   "source": [
    "X.head()"
   ]
  },
  {
   "cell_type": "code",
   "execution_count": 10,
   "id": "1c7863a6",
   "metadata": {},
   "outputs": [],
   "source": [
    "y=df.Kms_Driven"
   ]
  },
  {
   "cell_type": "code",
   "execution_count": 11,
   "id": "427b8449",
   "metadata": {},
   "outputs": [
    {
     "data": {
      "text/plain": [
       "0    27000\n",
       "1    43000\n",
       "2     6900\n",
       "3     5200\n",
       "4    42450\n",
       "Name: Kms_Driven, dtype: int64"
      ]
     },
     "execution_count": 11,
     "metadata": {},
     "output_type": "execute_result"
    }
   ],
   "source": [
    "y.head()"
   ]
  },
  {
   "cell_type": "code",
   "execution_count": 15,
   "id": "fceb2618",
   "metadata": {},
   "outputs": [],
   "source": [
    "from sklearn.linear_model import LinearRegression"
   ]
  },
  {
   "cell_type": "code",
   "execution_count": 19,
   "id": "9334da11",
   "metadata": {},
   "outputs": [],
   "source": [
    "model = LinearRegression()"
   ]
  },
  {
   "cell_type": "code",
   "execution_count": 20,
   "id": "7c1ea29e",
   "metadata": {},
   "outputs": [
    {
     "data": {
      "text/plain": [
       "LinearRegression()"
      ]
     },
     "execution_count": 20,
     "metadata": {},
     "output_type": "execute_result"
    }
   ],
   "source": [
    "model.fit(X,y)"
   ]
  },
  {
   "cell_type": "code",
   "execution_count": 22,
   "id": "2080ba81",
   "metadata": {},
   "outputs": [
    {
     "data": {
      "text/plain": [
       "array([-5040.61996811,  3521.37706157])"
      ]
     },
     "execution_count": 22,
     "metadata": {},
     "output_type": "execute_result"
    }
   ],
   "source": [
    "model.coef_  # first is for Selling_Price'and second 3521 is 'Present_Price\n",
    "\n",
    "# these are M1 and M2"
   ]
  },
  {
   "cell_type": "code",
   "execution_count": 23,
   "id": "a8fdfc80",
   "metadata": {},
   "outputs": [
    {
     "data": {
      "text/plain": [
       "33580.30059395795"
      ]
     },
     "execution_count": 23,
     "metadata": {},
     "output_type": "execute_result"
    }
   ],
   "source": [
    "model.intercept_ # c as intercept we got m1x1 + m2x2 + c = y and ans is CO2 emmitted "
   ]
  },
  {
   "cell_type": "code",
   "execution_count": 24,
   "id": "3eb5ec82",
   "metadata": {},
   "outputs": [
    {
     "data": {
      "text/plain": [
       "0.14017739846355826"
      ]
     },
     "execution_count": 24,
     "metadata": {},
     "output_type": "execute_result"
    }
   ],
   "source": [
    "model.score(X,y) # check accuracy of madel in %"
   ]
  },
  {
   "cell_type": "code",
   "execution_count": 26,
   "id": "ce8f834d",
   "metadata": {},
   "outputs": [
    {
     "name": "stderr",
     "output_type": "stream",
     "text": [
      "C:\\Users\\Comp\\anaconda3\\lib\\site-packages\\sklearn\\base.py:450: UserWarning: X does not have valid feature names, but LinearRegression was fitted with feature names\n",
      "  warnings.warn(\n"
     ]
    },
    {
     "data": {
      "text/plain": [
       "array([39930.92710984])"
      ]
     },
     "execution_count": 26,
     "metadata": {},
     "output_type": "execute_result"
    }
   ],
   "source": [
    "model.predict([[1.29,3.65]])"
   ]
  },
  {
   "cell_type": "code",
   "execution_count": null,
   "id": "3750b622",
   "metadata": {},
   "outputs": [],
   "source": [
    "Scaling\n",
    "1.normalization class name for normalization is MinMaxscaler\n",
    " final value always bet 0 and 1"
   ]
  },
  {
   "cell_type": "code",
   "execution_count": 27,
   "id": "14a43362",
   "metadata": {},
   "outputs": [
    {
     "data": {
      "text/html": [
       "<div>\n",
       "<style scoped>\n",
       "    .dataframe tbody tr th:only-of-type {\n",
       "        vertical-align: middle;\n",
       "    }\n",
       "\n",
       "    .dataframe tbody tr th {\n",
       "        vertical-align: top;\n",
       "    }\n",
       "\n",
       "    .dataframe thead th {\n",
       "        text-align: right;\n",
       "    }\n",
       "</style>\n",
       "<table border=\"1\" class=\"dataframe\">\n",
       "  <thead>\n",
       "    <tr style=\"text-align: right;\">\n",
       "      <th></th>\n",
       "      <th>Car_Name</th>\n",
       "      <th>Year</th>\n",
       "      <th>Selling_Price</th>\n",
       "      <th>Present_Price</th>\n",
       "      <th>Kms_Driven</th>\n",
       "      <th>Fuel_Type</th>\n",
       "      <th>Seller_Type</th>\n",
       "      <th>Transmission</th>\n",
       "      <th>Owner</th>\n",
       "    </tr>\n",
       "  </thead>\n",
       "  <tbody>\n",
       "    <tr>\n",
       "      <th>0</th>\n",
       "      <td>ritz</td>\n",
       "      <td>2014</td>\n",
       "      <td>3.35</td>\n",
       "      <td>5.59</td>\n",
       "      <td>27000</td>\n",
       "      <td>Petrol</td>\n",
       "      <td>Dealer</td>\n",
       "      <td>Manual</td>\n",
       "      <td>0</td>\n",
       "    </tr>\n",
       "    <tr>\n",
       "      <th>1</th>\n",
       "      <td>sx4</td>\n",
       "      <td>2013</td>\n",
       "      <td>4.75</td>\n",
       "      <td>9.54</td>\n",
       "      <td>43000</td>\n",
       "      <td>Diesel</td>\n",
       "      <td>Dealer</td>\n",
       "      <td>Manual</td>\n",
       "      <td>0</td>\n",
       "    </tr>\n",
       "    <tr>\n",
       "      <th>2</th>\n",
       "      <td>ciaz</td>\n",
       "      <td>2017</td>\n",
       "      <td>7.25</td>\n",
       "      <td>9.85</td>\n",
       "      <td>6900</td>\n",
       "      <td>Petrol</td>\n",
       "      <td>Dealer</td>\n",
       "      <td>Manual</td>\n",
       "      <td>0</td>\n",
       "    </tr>\n",
       "    <tr>\n",
       "      <th>3</th>\n",
       "      <td>wagon r</td>\n",
       "      <td>2011</td>\n",
       "      <td>2.85</td>\n",
       "      <td>4.15</td>\n",
       "      <td>5200</td>\n",
       "      <td>Petrol</td>\n",
       "      <td>Dealer</td>\n",
       "      <td>Manual</td>\n",
       "      <td>0</td>\n",
       "    </tr>\n",
       "    <tr>\n",
       "      <th>4</th>\n",
       "      <td>swift</td>\n",
       "      <td>2014</td>\n",
       "      <td>4.60</td>\n",
       "      <td>6.87</td>\n",
       "      <td>42450</td>\n",
       "      <td>Diesel</td>\n",
       "      <td>Dealer</td>\n",
       "      <td>Manual</td>\n",
       "      <td>0</td>\n",
       "    </tr>\n",
       "  </tbody>\n",
       "</table>\n",
       "</div>"
      ],
      "text/plain": [
       "  Car_Name  Year  Selling_Price  Present_Price  Kms_Driven Fuel_Type  \\\n",
       "0     ritz  2014           3.35           5.59       27000    Petrol   \n",
       "1      sx4  2013           4.75           9.54       43000    Diesel   \n",
       "2     ciaz  2017           7.25           9.85        6900    Petrol   \n",
       "3  wagon r  2011           2.85           4.15        5200    Petrol   \n",
       "4    swift  2014           4.60           6.87       42450    Diesel   \n",
       "\n",
       "  Seller_Type Transmission  Owner  \n",
       "0      Dealer       Manual      0  \n",
       "1      Dealer       Manual      0  \n",
       "2      Dealer       Manual      0  \n",
       "3      Dealer       Manual      0  \n",
       "4      Dealer       Manual      0  "
      ]
     },
     "execution_count": 27,
     "metadata": {},
     "output_type": "execute_result"
    }
   ],
   "source": [
    "df.head()"
   ]
  },
  {
   "cell_type": "code",
   "execution_count": 28,
   "id": "d9d43edd",
   "metadata": {},
   "outputs": [],
   "source": [
    "from sklearn.preprocessing import MinMaxScaler"
   ]
  },
  {
   "cell_type": "code",
   "execution_count": 29,
   "id": "b02cdebd",
   "metadata": {},
   "outputs": [],
   "source": [
    "scaler = MinMaxScaler()"
   ]
  },
  {
   "cell_type": "code",
   "execution_count": 30,
   "id": "02241572",
   "metadata": {},
   "outputs": [],
   "source": [
    "B=df[['Present_Price','Kms_Driven']] # B is input two column and  used for normalization"
   ]
  },
  {
   "cell_type": "code",
   "execution_count": 31,
   "id": "b4ccac63",
   "metadata": {},
   "outputs": [],
   "source": [
    "a=df.Selling_Price"
   ]
  },
  {
   "cell_type": "code",
   "execution_count": 34,
   "id": "e3438a91",
   "metadata": {},
   "outputs": [],
   "source": [
    "scaledX= scaler.fit_transform(B)"
   ]
  },
  {
   "cell_type": "code",
   "execution_count": 35,
   "id": "4ec137a8",
   "metadata": {},
   "outputs": [
    {
     "data": {
      "text/plain": [
       "array([[0.0571088 , 0.05305305],\n",
       "       [0.09991331, 0.08508509],\n",
       "       [0.10327265, 0.01281281],\n",
       "       [0.04150412, 0.00940941],\n",
       "       [0.07097963, 0.08398398],\n",
       "       [0.10305592, 0.00314515],\n",
       "       [0.08452536, 0.03662863],\n",
       "       [0.08983528, 0.06592392],\n",
       "       [0.09286953, 0.03958559],\n",
       "       [0.09319463, 0.08381782],\n",
       "       [0.035544  , 0.00327327],\n",
       "       [0.10901604, 0.1011011 ],\n",
       "       [0.10424794, 0.02902903],\n",
       "       [0.08008236, 0.05105105],\n",
       "       [0.07466407, 0.15400801],\n",
       "       [0.11345904, 0.08508509],\n",
       "       [0.11345904, 0.08243844],\n",
       "       [0.11345904, 0.08508509],\n",
       "       [0.05169051, 0.07007007],\n",
       "       [0.08300824, 0.08196597],\n",
       "       [0.0393368 , 0.04904905],\n",
       "       [0.05840919, 0.0038038 ],\n",
       "       [0.08333333, 0.0990991 ],\n",
       "       [0.03402687, 0.08964965],\n",
       "       [0.04432163, 0.11287087],\n",
       "       [0.05060685, 0.03903904],\n",
       "       [0.06014304, 0.10938539],\n",
       "       [0.06686173, 0.03143143],\n",
       "       [0.0393368 , 0.08817217],\n",
       "       [0.10901604, 0.08908909],\n",
       "       [0.06133507, 0.10197998],\n",
       "       [0.04952319, 0.10750751],\n",
       "       [0.07769831, 0.07707708],\n",
       "       [0.10435631, 0.08908909],\n",
       "       [0.08387516, 0.08908909],\n",
       "       [0.08040746, 0.0990951 ],\n",
       "       [0.0745557 , 0.09663063],\n",
       "       [0.02123971, 0.25325325],\n",
       "       [0.03727785, 0.01917718],\n",
       "       [0.08300824, 0.12312312],\n",
       "       [0.08181621, 0.0480961 ],\n",
       "       [0.0396619 , 0.0925045 ],\n",
       "       [0.07401387, 0.11511512],\n",
       "       [0.08387516, 0.09065065],\n",
       "       [0.0256827 , 0.0990991 ],\n",
       "       [0.12700477, 0.02902903],\n",
       "       [0.04952319, 0.12819219],\n",
       "       [0.04150412, 0.12912913],\n",
       "       [0.08008236, 0.05079079],\n",
       "       [0.09720416, 0.07307307],\n",
       "       [0.32824014, 0.20862262],\n",
       "       [0.32824014, 0.07907908],\n",
       "       [0.21077156, 0.02902903],\n",
       "       [0.32824014, 0.26926927],\n",
       "       [0.10717382, 0.17917918],\n",
       "       [0.15951452, 0.13913914],\n",
       "       [0.07531426, 0.08014815],\n",
       "       [0.19744257, 0.0990991 ],\n",
       "       [0.07022107, 0.07804805],\n",
       "       [0.38621586, 0.08108108],\n",
       "       [0.19820113, 0.07908108],\n",
       "       [0.07997399, 0.08025626],\n",
       "       [0.38621586, 0.15515516],\n",
       "       [0.38621586, 0.09309309],\n",
       "       [0.38914174, 0.01101101],\n",
       "       [0.07184655, 0.08908909],\n",
       "       [0.24739922, 0.02102102],\n",
       "       [0.21814044, 0.11711712],\n",
       "       [0.14542696, 0.17517518],\n",
       "       [0.22312527, 0.02302302],\n",
       "       [0.0697876 , 0.14114114],\n",
       "       [0.13177287, 0.08908909],\n",
       "       [0.19820113, 0.11111311],\n",
       "       [0.05840919, 0.08508509],\n",
       "       [0.09330299, 0.16516517],\n",
       "       [0.07022107, 0.07107107],\n",
       "       [0.15561335, 0.14314314],\n",
       "       [0.13036411, 0.26957758],\n",
       "       [0.24393151, 0.15915916],\n",
       "       [0.32824014, 0.17717718],\n",
       "       [0.15788903, 0.04504505],\n",
       "       [0.08159948, 0.07907908],\n",
       "       [0.27167317, 0.02902903],\n",
       "       [0.14239272, 0.07507508],\n",
       "       [0.14239272, 0.39374575],\n",
       "       [0.25368444, 0.28328328],\n",
       "       [1.        , 0.15515516],\n",
       "       [0.14542696, 0.11111111],\n",
       "       [0.06209363, 0.09309309],\n",
       "       [0.0697876 , 0.07907908],\n",
       "       [0.19820113, 0.12312312],\n",
       "       [0.17089293, 0.1155996 ],\n",
       "       [0.1449935 , 0.14914915],\n",
       "       [0.32824014, 0.07907908],\n",
       "       [0.24338968, 0.17717718],\n",
       "       [0.19820113, 0.14314314],\n",
       "       [0.27167317, 0.05705706],\n",
       "       [0.19852622, 0.01641642],\n",
       "       [0.19820113, 0.08908909],\n",
       "       [0.21814044, 0.09914715],\n",
       "       [0.0171218 , 0.00500501],\n",
       "       [0.01625488, 0.0018018 ],\n",
       "       [0.01582141, 0.00700701],\n",
       "       [0.01387083, 0.0014014 ],\n",
       "       [0.01246207, 0.00720721],\n",
       "       [0.022215  , 0.04244244],\n",
       "       [0.03391851, 0.03203203],\n",
       "       [0.01278717, 0.02902903],\n",
       "       [0.01278717, 0.03503504],\n",
       "       [0.01246207, 0.02102102],\n",
       "       [0.01582141, 0.01101101],\n",
       "       [0.01278717, 0.01641642],\n",
       "       [0.0225401 , 0.01301301],\n",
       "       [0.01170351, 0.06906907],\n",
       "       [0.01246207, 0.03303303],\n",
       "       [0.01246207, 0.03403403],\n",
       "       [0.01246207, 0.06506507],\n",
       "       [0.0171218 , 0.02702703],\n",
       "       [0.01246207, 0.05105105],\n",
       "       [0.0171218 , 0.00980981],\n",
       "       [0.01018639, 0.01041041],\n",
       "       [0.01278717, 0.01281281],\n",
       "       [0.0092111 , 0.01101101],\n",
       "       [0.01246207, 0.09209209],\n",
       "       [0.01549632, 0.02202202],\n",
       "       [0.01549632, 0.07907908],\n",
       "       [0.00682705, 0.0016016 ],\n",
       "       [0.00520156, 0.01301301],\n",
       "       [0.00596012, 0.00500501],\n",
       "       [0.00563502, 0.00900901],\n",
       "       [0.00596012, 0.02102102],\n",
       "       [0.00541829, 0.03503504],\n",
       "       [0.00682705, 0.00600601],\n",
       "       [0.00682705, 0.        ],\n",
       "       [0.00530993, 0.02262262],\n",
       "       [0.00455137, 0.00900901],\n",
       "       [0.00953619, 0.04604605],\n",
       "       [0.00506068, 0.03103103],\n",
       "       [0.00596012, 0.02902903],\n",
       "       [0.00682705, 0.03223223],\n",
       "       [0.00953619, 0.06306306],\n",
       "       [0.00520156, 0.03903904],\n",
       "       [0.00563502, 0.05705706],\n",
       "       [0.00563502, 0.04904905],\n",
       "       [0.00726051, 0.04904905],\n",
       "       [0.00530993, 0.03703704],\n",
       "       [0.00506068, 0.02902903],\n",
       "       [0.00563502, 0.11511512],\n",
       "       [0.00671868, 0.08908909],\n",
       "       [0.00671868, 0.04704705],\n",
       "       [0.00548331, 0.01101101],\n",
       "       [0.00249241, 0.06106106],\n",
       "       [0.00726051, 0.02502503],\n",
       "       [0.00726051, 0.08908909],\n",
       "       [0.00606849, 0.01501502],\n",
       "       [0.00205895, 0.00760761],\n",
       "       [0.00216732, 0.02902903],\n",
       "       [0.00563502, 0.04504505],\n",
       "       [0.00238405, 0.01621622],\n",
       "       [0.00205895, 0.00700701],\n",
       "       [0.00682705, 0.04704705],\n",
       "       [0.00548331, 0.04504505],\n",
       "       [0.00726051, 0.02802803],\n",
       "       [0.00682705, 0.05305305],\n",
       "       [0.00238405, 0.02702703],\n",
       "       [0.00238405, 0.        ],\n",
       "       [0.00249241, 0.001001  ],\n",
       "       [0.00530993, 0.08308308],\n",
       "       [0.004443  , 0.02302302],\n",
       "       [0.00238405, 0.02702703],\n",
       "       [0.00552666, 0.01001001],\n",
       "       [0.00249241, 0.01241241],\n",
       "       [0.00346771, 0.02642643],\n",
       "       [0.00205895, 0.0016016 ],\n",
       "       [0.00433463, 0.07627628],\n",
       "       [0.00506068, 0.14914915],\n",
       "       [0.00791071, 0.05905906],\n",
       "       [0.00270915, 0.04704705],\n",
       "       [0.00216732, 0.03703704],\n",
       "       [0.00791071, 0.42542543],\n",
       "       [0.00205895, 0.11911912],\n",
       "       [0.00173385, 0.0990991 ],\n",
       "       [0.00281751, 0.05905906],\n",
       "       [0.00162549, 0.04104104],\n",
       "       [0.00465973, 0.05105105],\n",
       "       [0.00281751, 0.0028028 ],\n",
       "       [0.00216732, 0.04304304],\n",
       "       [0.00205895, 0.06306306],\n",
       "       [0.00270915, 0.03503504],\n",
       "       [0.00270915, 0.10910911],\n",
       "       [0.00465973, 0.11911912],\n",
       "       [0.00270915, 0.04904905],\n",
       "       [0.00465973, 0.0970971 ],\n",
       "       [0.00357607, 0.04704705],\n",
       "       [0.00506068, 0.0990991 ],\n",
       "       [0.        , 0.06906907],\n",
       "       [0.00216732, 1.        ],\n",
       "       [0.00205895, 0.06506507],\n",
       "       [0.00270915, 0.06906907],\n",
       "       [0.00281751, 0.10510511],\n",
       "       [0.00465973, 0.18364965],\n",
       "       [0.0701127 , 0.11511512],\n",
       "       [0.05830082, 0.05545546],\n",
       "       [0.04638058, 0.10602603],\n",
       "       [0.04453836, 0.05561962],\n",
       "       [0.05830082, 0.00599199],\n",
       "       [0.07379714, 0.02398198],\n",
       "       [0.05830082, 0.06866266],\n",
       "       [0.08430863, 0.00587588],\n",
       "       [0.05830082, 0.04129129],\n",
       "       [0.04638058, 0.07062062],\n",
       "       [0.15680537, 0.08615616],\n",
       "       [0.14390984, 0.04438639],\n",
       "       [0.0701127 , 0.06227027],\n",
       "       [0.05830082, 0.03926727],\n",
       "       [0.09839619, 0.07127127],\n",
       "       [0.04453836, 0.02402402],\n",
       "       [0.04453836, 0.02902903],\n",
       "       [0.09839619, 0.08924525],\n",
       "       [0.09839619, 0.07107107],\n",
       "       [0.04453836, 0.07605205],\n",
       "       [0.0701127 , 0.06306306],\n",
       "       [0.07889033, 0.15441842],\n",
       "       [0.09839619, 0.12188388],\n",
       "       [0.09839619, 0.07146747],\n",
       "       [0.04638058, 0.04407808],\n",
       "       [0.05830082, 0.0484044 ],\n",
       "       [0.04453836, 0.11311311],\n",
       "       [0.09839619, 0.11911912],\n",
       "       [0.0701127 , 0.10336737],\n",
       "       [0.09839619, 0.08908909],\n",
       "       [0.09839619, 0.02903103],\n",
       "       [0.15680537, 0.02482482],\n",
       "       [0.05830082, 0.10510511],\n",
       "       [0.05830082, 0.00799199],\n",
       "       [0.09839619, 0.02931131],\n",
       "       [0.04453836, 0.02272072],\n",
       "       [0.14390984, 0.13513514],\n",
       "       [0.09839619, 0.1196016 ],\n",
       "       [0.04453836, 0.04646446],\n",
       "       [0.09839619, 0.06370771],\n",
       "       [0.07379714, 0.0708028 ],\n",
       "       [0.07379714, 0.06706707],\n",
       "       [0.07889033, 0.01301301],\n",
       "       [0.09839619, 0.0970971 ],\n",
       "       [0.09839619, 0.14114114],\n",
       "       [0.0701127 , 0.06906907],\n",
       "       [0.09839619, 0.07107107],\n",
       "       [0.04638058, 0.05905906],\n",
       "       [0.07889033, 0.03303303],\n",
       "       [0.14390984, 0.07093894],\n",
       "       [0.10381448, 0.11251451],\n",
       "       [0.0704378 , 0.06191592],\n",
       "       [0.10381448, 0.0950951 ],\n",
       "       [0.10381448, 0.10759159],\n",
       "       [0.05450802, 0.10645646],\n",
       "       [0.14390984, 0.09822222],\n",
       "       [0.14390984, 0.07972773],\n",
       "       [0.14390984, 0.04904905],\n",
       "       [0.07238838, 0.07117918],\n",
       "       [0.14390984, 0.0575035 ],\n",
       "       [0.0612267 , 0.01021021],\n",
       "       [0.05938448, 0.07912513],\n",
       "       [0.07997399, 0.03103504],\n",
       "       [0.07238838, 0.07913113],\n",
       "       [0.09081058, 0.04144144],\n",
       "       [0.07238838, 0.06906907],\n",
       "       [0.09839619, 0.03790591],\n",
       "       [0.05938448, 0.03703704],\n",
       "       [0.10489814, 0.03669269],\n",
       "       [0.10489814, 0.13781982],\n",
       "       [0.10489814, 0.13826226],\n",
       "       [0.10489814, 0.05425425],\n",
       "       [0.07780668, 0.12152753],\n",
       "       [0.07022107, 0.03203203],\n",
       "       [0.14390984, 0.06056657],\n",
       "       [0.14390984, 0.04864865],\n",
       "       [0.14390984, 0.0426026 ],\n",
       "       [0.0875596 , 0.00700701],\n",
       "       [0.14390984, 0.07933133],\n",
       "       [0.06046814, 0.02795796],\n",
       "       [0.07889033, 0.10001201],\n",
       "       [0.14824447, 0.12512513],\n",
       "       [0.12440399, 0.01703704],\n",
       "       [0.06046814, 0.01861862],\n",
       "       [0.08864326, 0.02914715],\n",
       "       [0.08214131, 0.05619419],\n",
       "       [0.07780668, 0.08708709],\n",
       "       [0.14390984, 0.06706707],\n",
       "       [0.14390984, 0.02098098],\n",
       "       [0.06588643, 0.03703704],\n",
       "       [0.06263546, 0.06191592],\n",
       "       [0.0875596 , 0.02302302],\n",
       "       [0.10381448, 0.07507508],\n",
       "       [0.07022107, 0.0651031 ],\n",
       "       [0.13838318, 0.11927127],\n",
       "       [0.12223667, 0.06704304],\n",
       "       [0.06046814, 0.11911912],\n",
       "       [0.11573472, 0.17504304],\n",
       "       [0.1319896 , 0.01701702],\n",
       "       [0.06046814, 0.00993794]])"
      ]
     },
     "execution_count": 35,
     "metadata": {},
     "output_type": "execute_result"
    }
   ],
   "source": [
    "scaledX"
   ]
  },
  {
   "cell_type": "code",
   "execution_count": 36,
   "id": "05d5131b",
   "metadata": {},
   "outputs": [
    {
     "data": {
      "text/plain": [
       "LinearRegression()"
      ]
     },
     "execution_count": 36,
     "metadata": {},
     "output_type": "execute_result"
    }
   ],
   "source": [
    "model.fit(scaledX,a)"
   ]
  },
  {
   "cell_type": "code",
   "execution_count": 37,
   "id": "54322dbd",
   "metadata": {},
   "outputs": [
    {
     "data": {
      "text/plain": [
       "0.7960259751145163"
      ]
     },
     "execution_count": 37,
     "metadata": {},
     "output_type": "execute_result"
    }
   ],
   "source": [
    "model.score(scaledX,a)"
   ]
  },
  {
   "cell_type": "code",
   "execution_count": 39,
   "id": "cf93fd65",
   "metadata": {},
   "outputs": [
    {
     "data": {
      "text/plain": [
       "array([36.45933786])"
      ]
     },
     "execution_count": 39,
     "metadata": {},
     "output_type": "execute_result"
    }
   ],
   "source": [
    "model.predict([[0.85,0.69]])"
   ]
  },
  {
   "cell_type": "code",
   "execution_count": null,
   "id": "681a28cd",
   "metadata": {},
   "outputs": [],
   "source": []
  }
 ],
 "metadata": {
  "kernelspec": {
   "display_name": "Python 3 (ipykernel)",
   "language": "python",
   "name": "python3"
  },
  "language_info": {
   "codemirror_mode": {
    "name": "ipython",
    "version": 3
   },
   "file_extension": ".py",
   "mimetype": "text/x-python",
   "name": "python",
   "nbconvert_exporter": "python",
   "pygments_lexer": "ipython3",
   "version": "3.9.12"
  }
 },
 "nbformat": 4,
 "nbformat_minor": 5
}
